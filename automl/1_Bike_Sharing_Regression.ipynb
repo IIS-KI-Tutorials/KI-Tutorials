{
 "cells": [
  {
   "cell_type": "markdown",
   "metadata": {},
   "source": [
    "# Get started\n",
    "1. Klicke auf [![Open in Colab](https://colab.research.google.com/assets/colab-badge.svg)](https://colab.research.google.com/github//IIS-KI-Tutorials/KI-Tutorials/blob/main/automl/1_Bike_Sharing_Regression.ipynb) um eine Session in Colab zu starten.\n",
    "2. Klicke auf Laufzeit > Laufzeittyp ändern > T4 GPU > Ändern\n",
    "3. Führe die folgende Zelle aus, um benötigte Requirements zu installieren. Klicke anschließend auf \"Restart Session\"."
   ]
  },
  {
   "cell_type": "code",
   "execution_count": null,
   "metadata": {},
   "outputs": [],
   "source": [
    "!pip install autogluon"
   ]
  },
  {
   "cell_type": "markdown",
   "metadata": {},
   "source": [
    "4. Führe die nächste Zelle aus, um die benötigten Daten in die Session zu laden."
   ]
  },
  {
   "cell_type": "code",
   "execution_count": null,
   "metadata": {},
   "outputs": [],
   "source": [
    "!wget -P ./data https://raw.githubusercontent.com/IIS-KI-Tutorials/KI-Tutorials/main/data/Bike_Sharing_Webinar.csv\n",
    "!wget -P ./data https://raw.githubusercontent.com/IIS-KI-Tutorials/KI-Tutorials/main/data/CWRU.csv"
   ]
  },
  {
   "cell_type": "markdown",
   "metadata": {},
   "source": [
    "-------------AB HIER BEGINNEN DIE EIGENTLICHEN TUTORIALS--------------------"
   ]
  },
  {
   "cell_type": "markdown",
   "metadata": {
    "pycharm": {
     "name": "#%% md\n"
    }
   },
   "source": [
    "# Fahrrad Sharing - Regression mit tabellarischen Daten\n",
    "\n",
    "Dieses Notebook ist ein einfaches Beispiel dafür, wie man ein Vorhersagemodell mittels AutoML anhand von tabellarischen Daten trainiert.\n",
    "Ziel ist es, die Nachfrage nach Leihfahrrädern für einen Tag anhand verschiedener Informationen wie Wochentag, Wetterbedingungen etc. vorherzusagen.\n",
    "Die Zielvariable ist also eine kontinuierliche Größe, weshalb wir in diesem Fall von einem Regressionsproblem sprechen."
   ]
  },
  {
   "cell_type": "markdown",
   "metadata": {
    "pycharm": {
     "name": "#%% md\n"
    }
   },
   "source": [
    "## Inhaltsverzeichnis\n",
    "1. [Importiere AutoML Framework - AutoGluon](#1)<br/>\n",
    "2. [Laden der Daten](#2)<br/>\n",
    "3. [Merkmal- und Labelauswahl](#3)<br/>\n",
    "4. [Unterteile die Daten in Trainings- und Testdaten](#4)<br/>\n",
    "5. [Modell Training](#5)<br/>\n",
    "6. [Modell Test](#6)<br/>\n",
    "7. [Model Interpretation](#7)<br/>\n",
    "8. [Modell exportieren/speichern](#8)<br/>\n",
    "9. [Modell laden](#9)<br/>\n",
    "10. [Vorhersagen für neue Daten](#10)<br/>\n",
    "11. [Aufgaben](#11)"
   ]
  },
  {
   "cell_type": "markdown",
   "metadata": {
    "pycharm": {
     "name": "#%% md\n"
    }
   },
   "source": [
    "### 1 Importiere AutoML Framework - AutoGluon <a class=\"anchor\" id=\"1\"></a>\n",
    "In diesem Beispiel verwenden wir das AutoML-Framework AutoGluon. Da es sich bei dem Datensatz um tabellarische Daten handelt, benötigen wir für die Bearbeitung des vorliegenden Problems  lediglich die Klassen `TabularDataset` und `TabularPredictor`, welche wir hier importieren. Darüber hinaus importieren wir ebenso die Bibliothek `matplotlib` für spätere Visualisierungen."
   ]
  },
  {
   "cell_type": "code",
   "execution_count": 1,
   "metadata": {
    "pycharm": {
     "name": "#%%\n"
    }
   },
   "outputs": [
    {
     "data": {
      "text/html": [
       "<style>.container { width:80% !important; }</style>"
      ],
      "text/plain": [
       "<IPython.core.display.HTML object>"
      ]
     },
     "metadata": {},
     "output_type": "display_data"
    }
   ],
   "source": [
    "from autogluon.tabular import TabularDataset, TabularPredictor\n",
    "\n",
    "import matplotlib.pyplot as plt # Bibliothek für Visualisierungen\n",
    "\n",
    "from IPython.display import display, HTML\n",
    "display(HTML(\"<style>.container { width:80% !important; }</style>\"))"
   ]
  },
  {
   "cell_type": "markdown",
   "metadata": {
    "pycharm": {
     "name": "#%% md\n"
    }
   },
   "source": [
    "### 2 Laden der Daten <a class=\"anchor\" id=\"2\"></a>\n",
    "Als nächstes laden wir die Daten mit Hilfe der `TabularDataset` Klasse und speichern sie in der Variable `data`. Mittels der `head()` Methode können wir uns die ersten 5 Instanzen des Datensatzes anzeigen lassen. Dadurch erhalten wir einen Einblick, wie unsere Daten ausschauen. Allgemeine Informationen zum Datensatz sind unter foldendem Link zu finden: [https://archive.ics.uci.edu/ml/datasets/bike+sharing+dataset](https://archive.ics.uci.edu/ml/datasets/bike+sharing+dataset)"
   ]
  },
  {
   "cell_type": "code",
   "execution_count": 2,
   "metadata": {
    "pycharm": {
     "name": "#%%\n"
    }
   },
   "outputs": [
    {
     "data": {
      "text/html": [
       "<div>\n",
       "<style scoped>\n",
       "    .dataframe tbody tr th:only-of-type {\n",
       "        vertical-align: middle;\n",
       "    }\n",
       "\n",
       "    .dataframe tbody tr th {\n",
       "        vertical-align: top;\n",
       "    }\n",
       "\n",
       "    .dataframe thead th {\n",
       "        text-align: right;\n",
       "    }\n",
       "</style>\n",
       "<table border=\"1\" class=\"dataframe\">\n",
       "  <thead>\n",
       "    <tr style=\"text-align: right;\">\n",
       "      <th></th>\n",
       "      <th>dteday</th>\n",
       "      <th>season</th>\n",
       "      <th>yr</th>\n",
       "      <th>mnth</th>\n",
       "      <th>holiday</th>\n",
       "      <th>weekday</th>\n",
       "      <th>workingday</th>\n",
       "      <th>weathersit</th>\n",
       "      <th>temp</th>\n",
       "      <th>atemp</th>\n",
       "      <th>hum</th>\n",
       "      <th>windspeed</th>\n",
       "      <th>casual</th>\n",
       "      <th>registered</th>\n",
       "      <th>cnt</th>\n",
       "    </tr>\n",
       "  </thead>\n",
       "  <tbody>\n",
       "    <tr>\n",
       "      <th>0</th>\n",
       "      <td>2011-01-01</td>\n",
       "      <td>winter</td>\n",
       "      <td>0</td>\n",
       "      <td>1</td>\n",
       "      <td>0</td>\n",
       "      <td>saturday</td>\n",
       "      <td>0</td>\n",
       "      <td>2</td>\n",
       "      <td>0.344167</td>\n",
       "      <td>0.363625</td>\n",
       "      <td>0.805833</td>\n",
       "      <td>0.160446</td>\n",
       "      <td>331</td>\n",
       "      <td>654</td>\n",
       "      <td>985</td>\n",
       "    </tr>\n",
       "    <tr>\n",
       "      <th>1</th>\n",
       "      <td>2011-01-02</td>\n",
       "      <td>winter</td>\n",
       "      <td>0</td>\n",
       "      <td>1</td>\n",
       "      <td>0</td>\n",
       "      <td>sunday</td>\n",
       "      <td>0</td>\n",
       "      <td>2</td>\n",
       "      <td>NaN</td>\n",
       "      <td>NaN</td>\n",
       "      <td>NaN</td>\n",
       "      <td>NaN</td>\n",
       "      <td>131</td>\n",
       "      <td>670</td>\n",
       "      <td>801</td>\n",
       "    </tr>\n",
       "    <tr>\n",
       "      <th>2</th>\n",
       "      <td>2011-01-03</td>\n",
       "      <td>winter</td>\n",
       "      <td>0</td>\n",
       "      <td>1</td>\n",
       "      <td>0</td>\n",
       "      <td>monday</td>\n",
       "      <td>1</td>\n",
       "      <td>1</td>\n",
       "      <td>0.196364</td>\n",
       "      <td>0.189405</td>\n",
       "      <td>0.437273</td>\n",
       "      <td>0.248309</td>\n",
       "      <td>120</td>\n",
       "      <td>1229</td>\n",
       "      <td>1349</td>\n",
       "    </tr>\n",
       "    <tr>\n",
       "      <th>3</th>\n",
       "      <td>2011-01-04</td>\n",
       "      <td>winter</td>\n",
       "      <td>0</td>\n",
       "      <td>1</td>\n",
       "      <td>0</td>\n",
       "      <td>tuesday</td>\n",
       "      <td>1</td>\n",
       "      <td>1</td>\n",
       "      <td>0.200000</td>\n",
       "      <td>0.212122</td>\n",
       "      <td>0.590435</td>\n",
       "      <td>0.160296</td>\n",
       "      <td>108</td>\n",
       "      <td>1454</td>\n",
       "      <td>1562</td>\n",
       "    </tr>\n",
       "    <tr>\n",
       "      <th>4</th>\n",
       "      <td>2011-01-05</td>\n",
       "      <td>winter</td>\n",
       "      <td>0</td>\n",
       "      <td>1</td>\n",
       "      <td>0</td>\n",
       "      <td>wednesday</td>\n",
       "      <td>1</td>\n",
       "      <td>1</td>\n",
       "      <td>NaN</td>\n",
       "      <td>NaN</td>\n",
       "      <td>NaN</td>\n",
       "      <td>NaN</td>\n",
       "      <td>82</td>\n",
       "      <td>1518</td>\n",
       "      <td>1600</td>\n",
       "    </tr>\n",
       "  </tbody>\n",
       "</table>\n",
       "</div>"
      ],
      "text/plain": [
       "       dteday  season  yr  mnth  holiday    weekday  workingday  weathersit  \\\n",
       "0  2011-01-01  winter   0     1        0   saturday           0           2   \n",
       "1  2011-01-02  winter   0     1        0     sunday           0           2   \n",
       "2  2011-01-03  winter   0     1        0     monday           1           1   \n",
       "3  2011-01-04  winter   0     1        0    tuesday           1           1   \n",
       "4  2011-01-05  winter   0     1        0  wednesday           1           1   \n",
       "\n",
       "       temp     atemp       hum  windspeed  casual  registered   cnt  \n",
       "0  0.344167  0.363625  0.805833   0.160446     331         654   985  \n",
       "1       NaN       NaN       NaN        NaN     131         670   801  \n",
       "2  0.196364  0.189405  0.437273   0.248309     120        1229  1349  \n",
       "3  0.200000  0.212122  0.590435   0.160296     108        1454  1562  \n",
       "4       NaN       NaN       NaN        NaN      82        1518  1600  "
      ]
     },
     "execution_count": 2,
     "metadata": {},
     "output_type": "execute_result"
    }
   ],
   "source": [
    "data = TabularDataset('../datasets/Bike_Sharing_Webinar.csv')\n",
    "data.head()"
   ]
  },
  {
   "cell_type": "markdown",
   "metadata": {
    "pycharm": {
     "name": "#%% md\n"
    }
   },
   "source": [
    "Im Folgenden sehen wir die Auflistung aller Merkmale und Label.\n",
    "Es sei zu beachten, dass es sowohl kategorische (season und weekday) als auch numerische Merkmale (yr, mnth, ...) gibt.\n",
    "Teilweise gibt es auch fehlende Messwerte (s. NaN).\n",
    "Außerdem sei anzumerken, dass es insgesamt drei Label gibt.\n",
    "\n",
    "Merkmale:\n",
    "- **dteday**: Datum\n",
    "- **season**: Jahreszeit\n",
    "- **yr**: Jahr\n",
    "    - 0: 2011\n",
    "    - 1: 2012\n",
    "- **mnth**: Monat (1 bis 12)\n",
    "- **holiday**: Feiertag?\n",
    "    - nein: 0\n",
    "    - ja: 1\n",
    "- **weekday**: Wochentag\n",
    "- **workingday**:\n",
    "    - 1: wenn weder Wochenende noch Feiertag\n",
    "    - 0: sonst\n",
    "- **weathersit**:\n",
    "    - 1: klar, leicht/teilweise bewölkt\n",
    "    - 2: bewölkt, Nebel\n",
    "    - 3: leichter Regen/Schnee, Gewitter\n",
    "    - 4: starker Regen/Schnee, Sturm\n",
    "- **temp**: Temperatur (normalisiert)\n",
    "- **atemp**: gefühlte Temperatur (normalisiert)\n",
    "- **hum**: Luftfeuchtigkeit\n",
    "- **windspeed**: Windgeschwindigkeit (normalisiert)\n",
    "\n",
    "Label:\n",
    "- **casual**: Anzahl der nicht-registrierten Nutzer\n",
    "- **registered**: Anzahl der registrierten Nutzer\n",
    "- **cnt**: Gesamtzahl der Nutzern"
   ]
  },
  {
   "cell_type": "markdown",
   "metadata": {
    "pycharm": {
     "name": "#%% md\n"
    }
   },
   "source": [
    "### 3 Merkmal- und Labelauswahl <a class=\"anchor\" id=\"3\"></a>\n",
    "Damit das AutoML Framework später ein Modell trainieren kann, müssen wir zunächst angeben, welche der Spalten Merkmale repräsentieren und welche die Label. Für den Moment wollen wir `casual` als Label wählen, d.h. wir wollen also die Anzahl der nicht-registrierten Nutzer pro Tag vorhersagen. Bei den Merkmalen lassen wir das Datum weg, da wir schon über die Spalten 'yr', 'mnth' sowie 'weekday' verfügen."
   ]
  },
  {
   "cell_type": "code",
   "execution_count": 3,
   "metadata": {
    "pycharm": {
     "name": "#%%\n"
    }
   },
   "outputs": [],
   "source": [
    "features = ['season', 'yr', 'mnth', 'holiday', 'weekday', 'workingday', 'weathersit', 'temp', 'atemp', 'hum', 'windspeed']\n",
    "label = 'casual'"
   ]
  },
  {
   "cell_type": "markdown",
   "metadata": {
    "pycharm": {
     "name": "#%% md\n"
    }
   },
   "source": [
    "Um ein besseres Verständnis über die Daten zu erlangen, wollen wir nun das ausgewählte Label über die Zeit plotten. Hier wird z.B. deutlich, dass es einen merklichen saisonalen Effekt gibt. Die Nachfrage nach Fahrrädern ist also im Sommer höher als im Winter. Auch gibt es deutliche Schwankungen innerhalb einer Woche. So zeigt sich, dass die Anzahl der nicht-registrierten Nutzer vor allem am Wochende hoch ist, während sie unter der Wocher deutlich geringer ausfällt."
   ]
  },
  {
   "cell_type": "code",
   "execution_count": 4,
   "metadata": {
    "pycharm": {
     "name": "#%%\n"
    }
   },
   "outputs": [
    {
     "data": {
      "image/png": "[encoded data removed]",
      "text/plain": [
       "<Figure size 1080x360 with 1 Axes>"
      ]
     },
     "metadata": {
      "needs_background": "light"
     },
     "output_type": "display_data"
    }
   ],
   "source": [
    "fig, ax = plt.subplots(figsize=(15, 5))\n",
    "data.plot('dteday', label, rot=30, ax=ax)\n",
    "plt.grid()"
   ]
  },
  {
   "cell_type": "markdown",
   "metadata": {
    "pycharm": {
     "name": "#%% md\n"
    }
   },
   "source": [
    "### 4 Unterteile die Daten in Trainings- und Testdaten <a class=\"anchor\" id=\"4\"></a>\n",
    "Nun unterteilen wir unseren Datensatz in Trainings- und Testset.\n",
    "\n",
    "Die ersten 80% der Daten werden als Trainingsdaten und die letzten 20% als Testdaten ausgewählt. Das AutoML Framework wird also lediglich die Trainingsdaten für das Training und Validieren von Modellen benutzen. Mit den Testdaten wird das finale Modell abschließend getestet, um seine Genauigkeit angeben zu können."
   ]
  },
  {
   "cell_type": "code",
   "execution_count": 5,
   "metadata": {
    "pycharm": {
     "name": "#%%\n"
    }
   },
   "outputs": [],
   "source": [
    "train_size = round(0.8 * len(data))\n",
    "\n",
    "all_columns =  features + [label]\n",
    "\n",
    "data_train = data.loc[:train_size, all_columns]\n",
    "data_test = data.loc[train_size:, all_columns]"
   ]
  },
  {
   "cell_type": "markdown",
   "metadata": {
    "pycharm": {
     "name": "#%% md\n"
    }
   },
   "source": [
    "### 5 Modell Training <a class=\"anchor\" id=\"5\"></a>\n",
    "In der folgenden Zelle findet das Modell Training durch das AutoML Framework statt.\n",
    "\n",
    "In der ersten Zeile erzeugen wir zuerst eine Instanz der Klasse `TabularPredictor` und speichern diese in der Variablen `predictor`.\n",
    "Hier müssen wir lediglich den Namen der Zielvariable angeben (Diese haben wir vor einigen Zellen bereits in der Variable `label` gespeichert).\n",
    "Optional kann man auch den Pfad angeben, in dem sämtliche Modelle gespeichert werden sollen (hier: \"AutogluonModels/Fahrrad_Sharing\").\n",
    "Gibt man keinen Pfad an, so wird automatisch ein Ordner \"AutogluonModels/ag-\\<Datum>_\\<Uhrzeit>\"  erstellt, in dem die Modelle gespeichert werden.\n",
    "\n",
    "In der zweiten Zeile rufen wir dann die `fit()` Methode auf, welche das Modell Training startet.\n",
    "Diese Methode benötigt unsere vorher definierten Trainingsdaten als Argument.\n",
    "\n",
    "Das AutoML Framework trainiert und validiert nun mit Hilfe dieser Daten viele verschiedene Modelle und gibt automatisch das beste Ensemble-Modell zurück.\n",
    "Dieses speichern wir in der `predictor` Variable.\n",
    "\n",
    "Es sei zu beachten, dass das Framework automatisch erkennt, dass es sich um ein Regressionsproblem handelt.\n",
    "Auch erkennt es die verschiedenen Datentypen der vorhandenen Merkmale und kodiert etwa die kategorischen Label automatisch in numerische um."
   ]
  },
  {
   "cell_type": "code",
   "execution_count": 6,
   "metadata": {
    "pycharm": {
     "name": "#%%\n"
    }
   },
   "outputs": [
    {
     "name": "stderr",
     "output_type": "stream",
     "text": [
      "Warning: path already exists! This predictor may overwrite an existing predictor! path=\"AutogluonModels/Fahrrad_Sharing\"\n",
      "Beginning AutoGluon training ...\n",
      "AutoGluon will save models to \"AutogluonModels/Fahrrad_Sharing\\\"\n",
      "AutoGluon Version:  0.5.2\n",
      "Python Version:     3.9.12\n",
      "Operating System:   Windows\n",
      "Train Data Rows:    586\n",
      "Train Data Columns: 11\n",
      "Label Column: casual\n",
      "Preprocessing data ...\n",
      "AutoGluon infers your prediction problem is: 'regression' (because dtype of label-column == int and many unique label-values observed).\n",
      "\tLabel info (max, min, mean, stddev): (3410, 9, 811.36689, 676.6872)\n",
      "\tIf 'regression' is not the correct problem_type, please manually specify the problem_type parameter during predictor init (You may specify problem_type as one of: ['binary', 'multiclass', 'regression'])\n",
      "Using Feature Generators to preprocess the data ...\n",
      "Fitting AutoMLPipelineFeatureGenerator...\n",
      "\tAvailable Memory:                    5825.05 MB\n",
      "\tTrain Data (Original)  Memory Usage: 0.12 MB (0.0% of available memory)\n",
      "\tInferring data type of each feature based on column values. Set feature_metadata_in to manually specify special dtypes of the features.\n",
      "\tStage 1 Generators:\n",
      "\t\tFitting AsTypeFeatureGenerator...\n",
      "\t\t\tNote: Converting 3 features to boolean dtype as they only contain 2 unique values.\n",
      "\tStage 2 Generators:\n",
      "\t\tFitting FillNaFeatureGenerator...\n",
      "\tStage 3 Generators:\n",
      "\t\tFitting IdentityFeatureGenerator...\n",
      "\t\tFitting CategoryFeatureGenerator...\n",
      "\t\t\tFitting CategoryMemoryMinimizeFeatureGenerator...\n",
      "\tStage 4 Generators:\n",
      "\t\tFitting DropUniqueFeatureGenerator...\n",
      "\tTypes of features in original data (raw dtype, special dtypes):\n",
      "\t\t('float', [])  : 4 | ['temp', 'atemp', 'hum', 'windspeed']\n",
      "\t\t('int', [])    : 5 | ['yr', 'mnth', 'holiday', 'workingday', 'weathersit']\n",
      "\t\t('object', []) : 2 | ['season', 'weekday']\n",
      "\tTypes of features in processed data (raw dtype, special dtypes):\n",
      "\t\t('category', [])  : 2 | ['season', 'weekday']\n",
      "\t\t('float', [])     : 4 | ['temp', 'atemp', 'hum', 'windspeed']\n",
      "\t\t('int', [])       : 2 | ['mnth', 'weathersit']\n",
      "\t\t('int', ['bool']) : 3 | ['yr', 'holiday', 'workingday']\n",
      "\t0.1s = Fit runtime\n",
      "\t11 features in original data used to generate 11 features in processed data.\n",
      "\tTrain Data (Processed) Memory Usage: 0.03 MB (0.0% of available memory)\n",
      "Data preprocessing and feature engineering runtime = 0.14s ...\n",
      "AutoGluon will gauge predictive performance using evaluation metric: 'root_mean_squared_error'\n",
      "\tThis metric's sign has been flipped to adhere to being higher_is_better. The metric score can be multiplied by -1 to get the metric value.\n",
      "\tTo change this, specify the eval_metric parameter of Predictor()\n",
      "Automatically generating train/validation split with holdout_frac=0.2, Train Rows: 468, Val Rows: 118\n",
      "Fitting 11 L1 models ...\n",
      "Fitting model: KNeighborsUnif ...\n",
      "\t-499.0863\t = Validation score   (-root_mean_squared_error)\n",
      "\t0.02s\t = Training   runtime\n",
      "\t0.03s\t = Validation runtime\n",
      "Fitting model: KNeighborsDist ...\n",
      "\t-499.3368\t = Validation score   (-root_mean_squared_error)\n",
      "\t0.01s\t = Training   runtime\n",
      "\t0.01s\t = Validation runtime\n",
      "Fitting model: LightGBMXT ...\n",
      "\t-218.6465\t = Validation score   (-root_mean_squared_error)\n",
      "\t1.84s\t = Training   runtime\n",
      "\t0.01s\t = Validation runtime\n",
      "Fitting model: LightGBM ...\n",
      "\t-234.4485\t = Validation score   (-root_mean_squared_error)\n",
      "\t0.39s\t = Training   runtime\n",
      "\t0.01s\t = Validation runtime\n",
      "Fitting model: RandomForestMSE ...\n",
      "\t-250.0663\t = Validation score   (-root_mean_squared_error)\n",
      "\t0.78s\t = Training   runtime\n",
      "\t0.06s\t = Validation runtime\n",
      "Fitting model: CatBoost ...\n",
      "C:\\Users\\sbel\\Anaconda3\\envs\\autogluon_env\\lib\\site-packages\\xgboost\\compat.py:31: FutureWarning: pandas.Int64Index is deprecated and will be removed from pandas in a future version. Use pandas.Index with the appropriate dtype instead.\n",
      "  from pandas import MultiIndex, Int64Index\n",
      "\t-223.8328\t = Validation score   (-root_mean_squared_error)\n",
      "\t20.1s\t = Training   runtime\n",
      "\t0.01s\t = Validation runtime\n",
      "Fitting model: ExtraTreesMSE ...\n",
      "\t-244.419\t = Validation score   (-root_mean_squared_error)\n",
      "\t0.6s\t = Training   runtime\n",
      "\t0.12s\t = Validation runtime\n",
      "Fitting model: NeuralNetFastAI ...\n",
      "\t-309.892\t = Validation score   (-root_mean_squared_error)\n",
      "\t4.22s\t = Training   runtime\n",
      "\t0.05s\t = Validation runtime\n",
      "Fitting model: XGBoost ...\n",
      "\t-243.6468\t = Validation score   (-root_mean_squared_error)\n",
      "\t1.69s\t = Training   runtime\n",
      "\t0.01s\t = Validation runtime\n",
      "Fitting model: NeuralNetTorch ...\n",
      "\t-293.297\t = Validation score   (-root_mean_squared_error)\n",
      "\t5.81s\t = Training   runtime\n",
      "\t0.02s\t = Validation runtime\n",
      "Fitting model: LightGBMLarge ...\n",
      "\t-256.6752\t = Validation score   (-root_mean_squared_error)\n",
      "\t1.05s\t = Training   runtime\n",
      "\t0.01s\t = Validation runtime\n",
      "Fitting model: WeightedEnsemble_L2 ...\n",
      "\t-212.9105\t = Validation score   (-root_mean_squared_error)\n",
      "\t0.57s\t = Training   runtime\n",
      "\t0.0s\t = Validation runtime\n",
      "AutoGluon training complete, total runtime = 38.03s ... Best model: \"WeightedEnsemble_L2\"\n",
      "TabularPredictor saved. To load, use: predictor = TabularPredictor.load(\"AutogluonModels/Fahrrad_Sharing\\\")\n"
     ]
    }
   ],
   "source": [
    "predictor = TabularPredictor(label=label, path='AutogluonModels/Fahrrad_Sharing')\n",
    "predictor.fit(data_train);"
   ]
  },
  {
   "cell_type": "markdown",
   "metadata": {
    "pycharm": {
     "name": "#%% md\n"
    }
   },
   "source": [
    "Mit der `fit_summary()` Methode können wir uns eine Zusammenfassung und Übersicht der trainierten Modelle anzeigen lassen. Die zweite Spalte zeigt hier den jeweiligen \"score_val\", sprich den RMSE (Wurzel des mittleren quadratischen Fehlers) auf den Validierungsdaten. Nach diesem Wert sind auch die Modelle absteigend sortiert. Das gewichtete Ensemble hat also die besten Ergebnisse erzielt.\n",
    "\n",
    "Es wird darüber hinaus ein Diagramm erstellt, welches unter dem Pfad \"AutogluonModels/Fahrrad_Sharing/SummaryOfModels.html\" zu finden ist."
   ]
  },
  {
   "cell_type": "code",
   "execution_count": 7,
   "metadata": {
    "pycharm": {
     "name": "#%%\n"
    }
   },
   "outputs": [
    {
     "name": "stdout",
     "output_type": "stream",
     "text": [
      "*** Summary of fit() ***\n",
      "Estimated performance of each model:\n",
      "                  model   score_val  pred_time_val   fit_time  pred_time_val_marginal  fit_time_marginal  stack_level  can_infer  fit_order\n",
      "0   WeightedEnsemble_L2 -212.910530       0.062016  30.398674                0.000000           0.571019            2       True         12\n",
      "1            LightGBMXT -218.646536       0.006004   1.844259                0.006004           1.844259            1       True          3\n",
      "2              CatBoost -223.832761       0.012008  20.095408                0.012008          20.095408            1       True          6\n",
      "3              LightGBM -234.448532       0.007004   0.394001                0.007004           0.394001            1       True          4\n",
      "4               XGBoost -243.646787       0.012999   1.685387                0.012999           1.685387            1       True          9\n",
      "5         ExtraTreesMSE -244.419023       0.119004   0.595591                0.119004           0.595591            1       True          7\n",
      "6       RandomForestMSE -250.066254       0.056379   0.778896                0.056379           0.778896            1       True          5\n",
      "7         LightGBMLarge -256.675190       0.010001   1.049668                0.010001           1.049668            1       True         11\n",
      "8        NeuralNetTorch -293.297027       0.024001   5.808600                0.024001           5.808600            1       True         10\n",
      "9       NeuralNetFastAI -309.892033       0.046003   4.224016                0.046003           4.224016            1       True          8\n",
      "10       KNeighborsUnif -499.086283       0.034041   0.024002                0.034041           0.024002            1       True          1\n",
      "11       KNeighborsDist -499.336752       0.013996   0.011000                0.013996           0.011000            1       True          2\n",
      "Number of models trained: 12\n",
      "Types of models trained:\n",
      "{'CatBoostModel', 'TabularNeuralNetTorchModel', 'WeightedEnsembleModel', 'XTModel', 'XGBoostModel', 'LGBModel', 'NNFastAiTabularModel', 'RFModel', 'KNNModel'}\n",
      "Bagging used: False \n",
      "Multi-layer stack-ensembling used: False \n",
      "Feature Metadata (Processed):\n",
      "(raw dtype, special dtypes):\n",
      "('category', [])  : 2 | ['season', 'weekday']\n",
      "('float', [])     : 4 | ['temp', 'atemp', 'hum', 'windspeed']\n",
      "('int', [])       : 2 | ['mnth', 'weathersit']\n",
      "('int', ['bool']) : 3 | ['yr', 'holiday', 'workingday']\n",
      "Plot summary of models saved to file: AutogluonModels/Fahrrad_Sharing\\SummaryOfModels.html\n",
      "*** End of fit() summary ***\n"
     ]
    }
   ],
   "source": [
    "summary = predictor.fit_summary()"
   ]
  },
  {
   "cell_type": "markdown",
   "metadata": {
    "pycharm": {
     "name": "#%% md\n"
    }
   },
   "source": [
    "### 6 Modell Test <a class=\"anchor\" id=\"6\"></a>\n",
    "Zum Testen und Evaluieren des finalen Modells verwenden wir die vorab separierten Testdaten.\n",
    "\n",
    "Zunächst benutzen wir die `predict()` Methode, um unsere Vorhersagen für den Testdatensatz zu machen. Die Vorhersagen speichern wir in der `predictions` Variable.\n",
    "\n",
    "Außerdem nutzen wir die `evaluate()` Methode, um eine Reihe von Qualitätsmaßen zu berechnen (wie etwa RMSE, MSE etc.). "
   ]
  },
  {
   "cell_type": "code",
   "execution_count": 8,
   "metadata": {
    "pycharm": {
     "name": "#%%\n"
    }
   },
   "outputs": [
    {
     "name": "stderr",
     "output_type": "stream",
     "text": [
      "Evaluation: root_mean_squared_error on test data: -263.6526756498307\n",
      "\tNote: Scores are always higher_is_better. This metric score can be multiplied by -1 to get the metric value.\n",
      "Evaluations on test data:\n",
      "{\n",
      "    \"root_mean_squared_error\": -263.6526756498307,\n",
      "    \"mean_squared_error\": -69512.73337731483,\n",
      "    \"mean_absolute_error\": -182.40001690224426,\n",
      "    \"r2\": 0.8597284736250072,\n",
      "    \"pearsonr\": 0.9272803884899582,\n",
      "    \"median_absolute_error\": -119.67518615722656\n",
      "}\n"
     ]
    }
   ],
   "source": [
    "predictions = predictor.predict(data_test)\n",
    "pred_metrics = predictor.evaluate(data_test)"
   ]
  },
  {
   "cell_type": "markdown",
   "metadata": {
    "pycharm": {
     "name": "#%% md\n"
    }
   },
   "source": [
    "Hier sehen wir abermals eine Überischt aller trainierten Modelle. Die Tabelle beinhaltet jetzt auch die Spalte \"score_test\". Diese zeigt den jeweiligen RMSE auf den Testdaten."
   ]
  },
  {
   "cell_type": "code",
   "execution_count": 9,
   "metadata": {
    "pycharm": {
     "name": "#%%\n"
    }
   },
   "outputs": [
    {
     "data": {
      "text/html": [
       "<div>\n",
       "<style scoped>\n",
       "    .dataframe tbody tr th:only-of-type {\n",
       "        vertical-align: middle;\n",
       "    }\n",
       "\n",
       "    .dataframe tbody tr th {\n",
       "        vertical-align: top;\n",
       "    }\n",
       "\n",
       "    .dataframe thead th {\n",
       "        text-align: right;\n",
       "    }\n",
       "</style>\n",
       "<table border=\"1\" class=\"dataframe\">\n",
       "  <thead>\n",
       "    <tr style=\"text-align: right;\">\n",
       "      <th></th>\n",
       "      <th>model</th>\n",
       "      <th>score_test</th>\n",
       "      <th>score_val</th>\n",
       "      <th>pred_time_test</th>\n",
       "      <th>pred_time_val</th>\n",
       "      <th>fit_time</th>\n",
       "      <th>pred_time_test_marginal</th>\n",
       "      <th>pred_time_val_marginal</th>\n",
       "      <th>fit_time_marginal</th>\n",
       "      <th>stack_level</th>\n",
       "      <th>can_infer</th>\n",
       "      <th>fit_order</th>\n",
       "    </tr>\n",
       "  </thead>\n",
       "  <tbody>\n",
       "    <tr>\n",
       "      <th>0</th>\n",
       "      <td>WeightedEnsemble_L2</td>\n",
       "      <td>-263.652676</td>\n",
       "      <td>-212.910530</td>\n",
       "      <td>0.152997</td>\n",
       "      <td>0.062016</td>\n",
       "      <td>30.398674</td>\n",
       "      <td>0.015999</td>\n",
       "      <td>0.000000</td>\n",
       "      <td>0.571019</td>\n",
       "      <td>2</td>\n",
       "      <td>True</td>\n",
       "      <td>12</td>\n",
       "    </tr>\n",
       "    <tr>\n",
       "      <th>1</th>\n",
       "      <td>CatBoost</td>\n",
       "      <td>-277.101407</td>\n",
       "      <td>-223.832761</td>\n",
       "      <td>0.008999</td>\n",
       "      <td>0.012008</td>\n",
       "      <td>20.095408</td>\n",
       "      <td>0.008999</td>\n",
       "      <td>0.012008</td>\n",
       "      <td>20.095408</td>\n",
       "      <td>1</td>\n",
       "      <td>True</td>\n",
       "      <td>6</td>\n",
       "    </tr>\n",
       "    <tr>\n",
       "      <th>2</th>\n",
       "      <td>LightGBMXT</td>\n",
       "      <td>-279.669992</td>\n",
       "      <td>-218.646536</td>\n",
       "      <td>0.021999</td>\n",
       "      <td>0.006004</td>\n",
       "      <td>1.844259</td>\n",
       "      <td>0.021999</td>\n",
       "      <td>0.006004</td>\n",
       "      <td>1.844259</td>\n",
       "      <td>1</td>\n",
       "      <td>True</td>\n",
       "      <td>3</td>\n",
       "    </tr>\n",
       "    <tr>\n",
       "      <th>3</th>\n",
       "      <td>LightGBM</td>\n",
       "      <td>-295.540703</td>\n",
       "      <td>-234.448532</td>\n",
       "      <td>0.016999</td>\n",
       "      <td>0.007004</td>\n",
       "      <td>0.394001</td>\n",
       "      <td>0.016999</td>\n",
       "      <td>0.007004</td>\n",
       "      <td>0.394001</td>\n",
       "      <td>1</td>\n",
       "      <td>True</td>\n",
       "      <td>4</td>\n",
       "    </tr>\n",
       "    <tr>\n",
       "      <th>4</th>\n",
       "      <td>NeuralNetTorch</td>\n",
       "      <td>-295.741319</td>\n",
       "      <td>-293.297027</td>\n",
       "      <td>0.050003</td>\n",
       "      <td>0.024001</td>\n",
       "      <td>5.808600</td>\n",
       "      <td>0.050003</td>\n",
       "      <td>0.024001</td>\n",
       "      <td>5.808600</td>\n",
       "      <td>1</td>\n",
       "      <td>True</td>\n",
       "      <td>10</td>\n",
       "    </tr>\n",
       "    <tr>\n",
       "      <th>5</th>\n",
       "      <td>RandomForestMSE</td>\n",
       "      <td>-311.101361</td>\n",
       "      <td>-250.066254</td>\n",
       "      <td>0.225657</td>\n",
       "      <td>0.056379</td>\n",
       "      <td>0.778896</td>\n",
       "      <td>0.225657</td>\n",
       "      <td>0.056379</td>\n",
       "      <td>0.778896</td>\n",
       "      <td>1</td>\n",
       "      <td>True</td>\n",
       "      <td>5</td>\n",
       "    </tr>\n",
       "    <tr>\n",
       "      <th>6</th>\n",
       "      <td>ExtraTreesMSE</td>\n",
       "      <td>-311.207706</td>\n",
       "      <td>-244.419023</td>\n",
       "      <td>0.167003</td>\n",
       "      <td>0.119004</td>\n",
       "      <td>0.595591</td>\n",
       "      <td>0.167003</td>\n",
       "      <td>0.119004</td>\n",
       "      <td>0.595591</td>\n",
       "      <td>1</td>\n",
       "      <td>True</td>\n",
       "      <td>7</td>\n",
       "    </tr>\n",
       "    <tr>\n",
       "      <th>7</th>\n",
       "      <td>LightGBMLarge</td>\n",
       "      <td>-314.317332</td>\n",
       "      <td>-256.675190</td>\n",
       "      <td>0.023001</td>\n",
       "      <td>0.010001</td>\n",
       "      <td>1.049668</td>\n",
       "      <td>0.023001</td>\n",
       "      <td>0.010001</td>\n",
       "      <td>1.049668</td>\n",
       "      <td>1</td>\n",
       "      <td>True</td>\n",
       "      <td>11</td>\n",
       "    </tr>\n",
       "    <tr>\n",
       "      <th>8</th>\n",
       "      <td>XGBoost</td>\n",
       "      <td>-327.450622</td>\n",
       "      <td>-243.646787</td>\n",
       "      <td>0.038998</td>\n",
       "      <td>0.012999</td>\n",
       "      <td>1.685387</td>\n",
       "      <td>0.038998</td>\n",
       "      <td>0.012999</td>\n",
       "      <td>1.685387</td>\n",
       "      <td>1</td>\n",
       "      <td>True</td>\n",
       "      <td>9</td>\n",
       "    </tr>\n",
       "    <tr>\n",
       "      <th>9</th>\n",
       "      <td>NeuralNetFastAI</td>\n",
       "      <td>-377.800826</td>\n",
       "      <td>-309.892033</td>\n",
       "      <td>0.045002</td>\n",
       "      <td>0.046003</td>\n",
       "      <td>4.224016</td>\n",
       "      <td>0.045002</td>\n",
       "      <td>0.046003</td>\n",
       "      <td>4.224016</td>\n",
       "      <td>1</td>\n",
       "      <td>True</td>\n",
       "      <td>8</td>\n",
       "    </tr>\n",
       "    <tr>\n",
       "      <th>10</th>\n",
       "      <td>KNeighborsDist</td>\n",
       "      <td>-703.445082</td>\n",
       "      <td>-499.336752</td>\n",
       "      <td>0.023999</td>\n",
       "      <td>0.013996</td>\n",
       "      <td>0.011000</td>\n",
       "      <td>0.023999</td>\n",
       "      <td>0.013996</td>\n",
       "      <td>0.011000</td>\n",
       "      <td>1</td>\n",
       "      <td>True</td>\n",
       "      <td>2</td>\n",
       "    </tr>\n",
       "    <tr>\n",
       "      <th>11</th>\n",
       "      <td>KNeighborsUnif</td>\n",
       "      <td>-704.299150</td>\n",
       "      <td>-499.086283</td>\n",
       "      <td>0.017000</td>\n",
       "      <td>0.034041</td>\n",
       "      <td>0.024002</td>\n",
       "      <td>0.017000</td>\n",
       "      <td>0.034041</td>\n",
       "      <td>0.024002</td>\n",
       "      <td>1</td>\n",
       "      <td>True</td>\n",
       "      <td>1</td>\n",
       "    </tr>\n",
       "  </tbody>\n",
       "</table>\n",
       "</div>"
      ],
      "text/plain": [
       "                  model  score_test   score_val  pred_time_test  \\\n",
       "0   WeightedEnsemble_L2 -263.652676 -212.910530        0.152997   \n",
       "1              CatBoost -277.101407 -223.832761        0.008999   \n",
       "2            LightGBMXT -279.669992 -218.646536        0.021999   \n",
       "3              LightGBM -295.540703 -234.448532        0.016999   \n",
       "4        NeuralNetTorch -295.741319 -293.297027        0.050003   \n",
       "5       RandomForestMSE -311.101361 -250.066254        0.225657   \n",
       "6         ExtraTreesMSE -311.207706 -244.419023        0.167003   \n",
       "7         LightGBMLarge -314.317332 -256.675190        0.023001   \n",
       "8               XGBoost -327.450622 -243.646787        0.038998   \n",
       "9       NeuralNetFastAI -377.800826 -309.892033        0.045002   \n",
       "10       KNeighborsDist -703.445082 -499.336752        0.023999   \n",
       "11       KNeighborsUnif -704.299150 -499.086283        0.017000   \n",
       "\n",
       "    pred_time_val   fit_time  pred_time_test_marginal  pred_time_val_marginal  \\\n",
       "0        0.062016  30.398674                 0.015999                0.000000   \n",
       "1        0.012008  20.095408                 0.008999                0.012008   \n",
       "2        0.006004   1.844259                 0.021999                0.006004   \n",
       "3        0.007004   0.394001                 0.016999                0.007004   \n",
       "4        0.024001   5.808600                 0.050003                0.024001   \n",
       "5        0.056379   0.778896                 0.225657                0.056379   \n",
       "6        0.119004   0.595591                 0.167003                0.119004   \n",
       "7        0.010001   1.049668                 0.023001                0.010001   \n",
       "8        0.012999   1.685387                 0.038998                0.012999   \n",
       "9        0.046003   4.224016                 0.045002                0.046003   \n",
       "10       0.013996   0.011000                 0.023999                0.013996   \n",
       "11       0.034041   0.024002                 0.017000                0.034041   \n",
       "\n",
       "    fit_time_marginal  stack_level  can_infer  fit_order  \n",
       "0            0.571019            2       True         12  \n",
       "1           20.095408            1       True          6  \n",
       "2            1.844259            1       True          3  \n",
       "3            0.394001            1       True          4  \n",
       "4            5.808600            1       True         10  \n",
       "5            0.778896            1       True          5  \n",
       "6            0.595591            1       True          7  \n",
       "7            1.049668            1       True         11  \n",
       "8            1.685387            1       True          9  \n",
       "9            4.224016            1       True          8  \n",
       "10           0.011000            1       True          2  \n",
       "11           0.024002            1       True          1  "
      ]
     },
     "execution_count": 9,
     "metadata": {},
     "output_type": "execute_result"
    }
   ],
   "source": [
    "predictor.leaderboard(data_test, silent=True)"
   ]
  },
  {
   "cell_type": "markdown",
   "metadata": {
    "pycharm": {
     "name": "#%% md\n"
    }
   },
   "source": [
    "Nun wollen wir die Ergebnisse visualisieren. In folgendem Plot sieht man sowohl die tatsächliche Nachfrage als auch unsere vom Modell vorhergesagte Nachfrage über die Zeit."
   ]
  },
  {
   "cell_type": "code",
   "execution_count": 10,
   "metadata": {
    "pycharm": {
     "name": "#%%\n"
    }
   },
   "outputs": [
    {
     "data": {
      "image/png": "[encoded data removed]",
      "text/plain": [
       "<Figure size 1080x360 with 1 Axes>"
      ]
     },
     "metadata": {
      "needs_background": "light"
     },
     "output_type": "display_data"
    }
   ],
   "source": [
    "data_test[f'{label}_prediction'] = predictions\n",
    "data_test['dteday'] = data.loc[train_size:, 'dteday']\n",
    "\n",
    "fig, ax = plt.subplots(figsize=(15, 5))\n",
    "data_test.plot(x=\"dteday\", y=[f\"{label}\", f\"{label}_prediction\"], xlabel=\"Zeit\", ylabel=\"Nachfrage\", style='-', ax=ax)\n",
    "plt.grid()\n",
    "ax.legend([\"Tatsächliche Nachfrage\", \"Vorhersage\"]);"
   ]
  },
  {
   "cell_type": "markdown",
   "metadata": {
    "pycharm": {
     "name": "#%% md\n"
    }
   },
   "source": [
    "### 7 Model Interpretation <a class=\"anchor\" id=\"7\"></a>\n",
    "In der folgenden Zelle wird die sog. Merkmalswichtigkeit (engl.: feature importance) berechnet und aufgelistet. Je höher die Wichtigkeit (importance), desto einflussreicher ist das jeweilige Merkmal bei der Bestimmung einer Vorhersage. Dies kann sehr aufschlussreich sein und trägt zum besseren Verständnis der Daten bei."
   ]
  },
  {
   "cell_type": "code",
   "execution_count": 11,
   "metadata": {
    "pycharm": {
     "name": "#%%\n"
    }
   },
   "outputs": [
    {
     "name": "stderr",
     "output_type": "stream",
     "text": [
      "These features in provided data are not utilized by the predictor and will be ignored: ['casual_prediction', 'dteday']\n"
     ]
    },
    {
     "data": {
      "text/html": [
       "<div>\n",
       "<style scoped>\n",
       "    .dataframe tbody tr th:only-of-type {\n",
       "        vertical-align: middle;\n",
       "    }\n",
       "\n",
       "    .dataframe tbody tr th {\n",
       "        vertical-align: top;\n",
       "    }\n",
       "\n",
       "    .dataframe thead th {\n",
       "        text-align: right;\n",
       "    }\n",
       "</style>\n",
       "<table border=\"1\" class=\"dataframe\">\n",
       "  <thead>\n",
       "    <tr style=\"text-align: right;\">\n",
       "      <th></th>\n",
       "      <th>importance</th>\n",
       "      <th>stddev</th>\n",
       "      <th>p_value</th>\n",
       "      <th>n</th>\n",
       "      <th>p99_high</th>\n",
       "      <th>p99_low</th>\n",
       "    </tr>\n",
       "  </thead>\n",
       "  <tbody>\n",
       "    <tr>\n",
       "      <th>workingday</th>\n",
       "      <td>382.163089</td>\n",
       "      <td>38.026814</td>\n",
       "      <td>0.000012</td>\n",
       "      <td>5</td>\n",
       "      <td>460.460825</td>\n",
       "      <td>303.865353</td>\n",
       "    </tr>\n",
       "    <tr>\n",
       "      <th>atemp</th>\n",
       "      <td>165.672754</td>\n",
       "      <td>11.539724</td>\n",
       "      <td>0.000003</td>\n",
       "      <td>5</td>\n",
       "      <td>189.433206</td>\n",
       "      <td>141.912302</td>\n",
       "    </tr>\n",
       "    <tr>\n",
       "      <th>temp</th>\n",
       "      <td>123.766290</td>\n",
       "      <td>17.652857</td>\n",
       "      <td>0.000048</td>\n",
       "      <td>5</td>\n",
       "      <td>160.113766</td>\n",
       "      <td>87.418814</td>\n",
       "    </tr>\n",
       "    <tr>\n",
       "      <th>weekday</th>\n",
       "      <td>56.122823</td>\n",
       "      <td>3.629811</td>\n",
       "      <td>0.000002</td>\n",
       "      <td>5</td>\n",
       "      <td>63.596653</td>\n",
       "      <td>48.648992</td>\n",
       "    </tr>\n",
       "    <tr>\n",
       "      <th>hum</th>\n",
       "      <td>53.919458</td>\n",
       "      <td>11.996290</td>\n",
       "      <td>0.000276</td>\n",
       "      <td>5</td>\n",
       "      <td>78.619984</td>\n",
       "      <td>29.218932</td>\n",
       "    </tr>\n",
       "    <tr>\n",
       "      <th>windspeed</th>\n",
       "      <td>49.950801</td>\n",
       "      <td>11.929401</td>\n",
       "      <td>0.000362</td>\n",
       "      <td>5</td>\n",
       "      <td>74.513602</td>\n",
       "      <td>25.388000</td>\n",
       "    </tr>\n",
       "    <tr>\n",
       "      <th>weathersit</th>\n",
       "      <td>24.876758</td>\n",
       "      <td>6.085258</td>\n",
       "      <td>0.000397</td>\n",
       "      <td>5</td>\n",
       "      <td>37.406388</td>\n",
       "      <td>12.347128</td>\n",
       "    </tr>\n",
       "    <tr>\n",
       "      <th>mnth</th>\n",
       "      <td>12.268432</td>\n",
       "      <td>3.001202</td>\n",
       "      <td>0.000397</td>\n",
       "      <td>5</td>\n",
       "      <td>18.447949</td>\n",
       "      <td>6.088916</td>\n",
       "    </tr>\n",
       "    <tr>\n",
       "      <th>season</th>\n",
       "      <td>4.387990</td>\n",
       "      <td>2.228876</td>\n",
       "      <td>0.005836</td>\n",
       "      <td>5</td>\n",
       "      <td>8.977277</td>\n",
       "      <td>-0.201296</td>\n",
       "    </tr>\n",
       "    <tr>\n",
       "      <th>holiday</th>\n",
       "      <td>0.409046</td>\n",
       "      <td>0.168853</td>\n",
       "      <td>0.002814</td>\n",
       "      <td>5</td>\n",
       "      <td>0.756716</td>\n",
       "      <td>0.061376</td>\n",
       "    </tr>\n",
       "    <tr>\n",
       "      <th>yr</th>\n",
       "      <td>0.000000</td>\n",
       "      <td>0.000000</td>\n",
       "      <td>0.500000</td>\n",
       "      <td>5</td>\n",
       "      <td>0.000000</td>\n",
       "      <td>0.000000</td>\n",
       "    </tr>\n",
       "  </tbody>\n",
       "</table>\n",
       "</div>"
      ],
      "text/plain": [
       "            importance     stddev   p_value  n    p99_high     p99_low\n",
       "workingday  382.163089  38.026814  0.000012  5  460.460825  303.865353\n",
       "atemp       165.672754  11.539724  0.000003  5  189.433206  141.912302\n",
       "temp        123.766290  17.652857  0.000048  5  160.113766   87.418814\n",
       "weekday      56.122823   3.629811  0.000002  5   63.596653   48.648992\n",
       "hum          53.919458  11.996290  0.000276  5   78.619984   29.218932\n",
       "windspeed    49.950801  11.929401  0.000362  5   74.513602   25.388000\n",
       "weathersit   24.876758   6.085258  0.000397  5   37.406388   12.347128\n",
       "mnth         12.268432   3.001202  0.000397  5   18.447949    6.088916\n",
       "season        4.387990   2.228876  0.005836  5    8.977277   -0.201296\n",
       "holiday       0.409046   0.168853  0.002814  5    0.756716    0.061376\n",
       "yr            0.000000   0.000000  0.500000  5    0.000000    0.000000"
      ]
     },
     "execution_count": 11,
     "metadata": {},
     "output_type": "execute_result"
    }
   ],
   "source": [
    "predictor.feature_importance(data_test, silent=True)"
   ]
  },
  {
   "cell_type": "markdown",
   "metadata": {
    "pycharm": {
     "name": "#%% md\n"
    }
   },
   "source": [
    "### 8 Modell exportieren/speichern <a class=\"anchor\" id=\"8\"></a>\n",
    "Um das trainierte Modell später wieder laden und benutzen zu können, muss es gespeichert werden. Dies geschieht schon automatisch beim Modell Training. Bei Bedarf kann man jedoch auch im Nachhinhein das Modell mittels der `save()` Methode speichern."
   ]
  },
  {
   "cell_type": "code",
   "execution_count": 12,
   "metadata": {
    "pycharm": {
     "name": "#%%\n"
    }
   },
   "outputs": [
    {
     "name": "stderr",
     "output_type": "stream",
     "text": [
      "TabularPredictor saved. To load, use: predictor = TabularPredictor.load(\"AutogluonModels/Fahrrad_Sharing\\\")\n"
     ]
    }
   ],
   "source": [
    "predictor.save()"
   ]
  },
  {
   "cell_type": "markdown",
   "metadata": {
    "pycharm": {
     "name": "#%% md\n"
    }
   },
   "source": [
    "### 9 Modell laden <a class=\"anchor\" id=\"9\"></a>\n",
    "Um ein gespeichertes Modell zu laden, ruft man ganz einfach die `load()` Methode auf."
   ]
  },
  {
   "cell_type": "code",
   "execution_count": 13,
   "metadata": {
    "pycharm": {
     "name": "#%%\n"
    }
   },
   "outputs": [],
   "source": [
    "predictor = TabularPredictor.load(path=\"./AutogluonModels/Fahrrad_Sharing\")"
   ]
  },
  {
   "cell_type": "markdown",
   "metadata": {
    "pycharm": {
     "name": "#%% md\n"
    }
   },
   "source": [
    "### 10 Vorhersagen für neue Daten <a class=\"anchor\" id=\"10\"></a>\n",
    "Das geladene Modell kann nun genutzt werden, um Vorhersagen auf zukünftigen, komplett unbekannten Daten zu machen. Da wir über solche nicht verfügen, laden wir hier eine zufällige Instanz aus dem uns vorliegenden Datensatz und machen dafür eine Vorhersage mit unserem geladenen Modell."
   ]
  },
  {
   "cell_type": "code",
   "execution_count": 14,
   "metadata": {
    "pycharm": {
     "name": "#%%\n"
    }
   },
   "outputs": [
    {
     "data": {
      "text/html": [
       "<div>\n",
       "<style scoped>\n",
       "    .dataframe tbody tr th:only-of-type {\n",
       "        vertical-align: middle;\n",
       "    }\n",
       "\n",
       "    .dataframe tbody tr th {\n",
       "        vertical-align: top;\n",
       "    }\n",
       "\n",
       "    .dataframe thead th {\n",
       "        text-align: right;\n",
       "    }\n",
       "</style>\n",
       "<table border=\"1\" class=\"dataframe\">\n",
       "  <thead>\n",
       "    <tr style=\"text-align: right;\">\n",
       "      <th></th>\n",
       "      <th>dteday</th>\n",
       "      <th>season</th>\n",
       "      <th>yr</th>\n",
       "      <th>mnth</th>\n",
       "      <th>holiday</th>\n",
       "      <th>weekday</th>\n",
       "      <th>workingday</th>\n",
       "      <th>weathersit</th>\n",
       "      <th>temp</th>\n",
       "      <th>atemp</th>\n",
       "      <th>hum</th>\n",
       "      <th>windspeed</th>\n",
       "      <th>casual</th>\n",
       "      <th>registered</th>\n",
       "      <th>cnt</th>\n",
       "    </tr>\n",
       "  </thead>\n",
       "  <tbody>\n",
       "    <tr>\n",
       "      <th>628</th>\n",
       "      <td>2012-09-20</td>\n",
       "      <td>summer</td>\n",
       "      <td>1</td>\n",
       "      <td>9</td>\n",
       "      <td>0</td>\n",
       "      <td>thursday</td>\n",
       "      <td>1</td>\n",
       "      <td>1</td>\n",
       "      <td>0.546667</td>\n",
       "      <td>0.532192</td>\n",
       "      <td>0.618333</td>\n",
       "      <td>0.118167</td>\n",
       "      <td>939</td>\n",
       "      <td>6781</td>\n",
       "      <td>7720</td>\n",
       "    </tr>\n",
       "  </tbody>\n",
       "</table>\n",
       "</div>"
      ],
      "text/plain": [
       "         dteday  season  yr  mnth  holiday   weekday  workingday  weathersit  \\\n",
       "628  2012-09-20  summer   1     9        0  thursday           1           1   \n",
       "\n",
       "         temp     atemp       hum  windspeed  casual  registered   cnt  \n",
       "628  0.546667  0.532192  0.618333   0.118167     939        6781  7720  "
      ]
     },
     "execution_count": 14,
     "metadata": {},
     "output_type": "execute_result"
    }
   ],
   "source": [
    "test_day = data.sample() # eine zufällige Instanz wird aus dem Datensatz gezogen\n",
    "test_day"
   ]
  },
  {
   "cell_type": "code",
   "execution_count": 15,
   "metadata": {
    "pycharm": {
     "name": "#%%\n"
    }
   },
   "outputs": [
    {
     "name": "stdout",
     "output_type": "stream",
     "text": [
      "Vorhergesagte Nachfrage (casual): 1083 Fahrräder\n"
     ]
    }
   ],
   "source": [
    "prediction = predictor.predict(test_day)\n",
    "print(f'Vorhergesagte Nachfrage ({label}): {round(prediction.values[0])} Fahrräder')"
   ]
  },
  {
   "cell_type": "markdown",
   "metadata": {
    "pycharm": {
     "name": "#%% md\n"
    }
   },
   "source": [
    "### 11 Aufgaben <a class=\"anchor\" id=\"11\"></a>\n",
    "\n",
    "1. Ändern Sie den Code unter [3 Merkmal- und Labelauswahl](#3), sodass anstatt \"casual\" ein anderes Label zum Training eines Modells herangezogen wird. Achten Sie insbesondere auch darauf, dass alle zur Vorhersage verwendeten Merkmale sinnvoll gewählt sind. Wie verändert sich die Vorhersagegenauigkeit verglichen zu dem zuvor gewähltem Label \"casual\"?\n",
    "2. Außer den Trainingsdaten und der Angabe des Labels benötigt AutoGluon keinen weiteren Input zum Trainieren eines Modells. Es ist jedoch möglich weitere Parameter anzupassen, um den Trainingsprozess zu beeinflussen. Eine sehr praktische Möglichkeit dafür ist der Parameter `presets` der `fit()`-Methode . Informieren Sie sich zunächst dazu in der [Dokumentation von AutoGluon](https://auto.gluon.ai/stable/api/autogluon.predictor.html#autogluon.tabular.TabularPredictor.fit) und probieren sie anschließend verschiedene `presets` aus. Passen Sie dazu den Code unter [5 Modell Training](#3) entsprechend an. Welche Veränderungen beim Trainingsprozess und bei den resultierenden Modellen können Sie feststellen?\n",
    "3. Überlegen Sie sich, welche Merkmale geeignet sein könnten um die Nachfrage eines Produkts/einer Dienstleistung Ihres Unternehmens vorherzusagen? Welcher Aufwand wäre mit der Erhebung der Daten erforderlich?"
   ]
  }
 ],
 "metadata": {
  "kernelspec": {
   "display_name": "Python 3 (ipykernel)",
   "language": "python",
   "name": "python3"
  },
  "language_info": {
   "codemirror_mode": {
    "name": "ipython",
    "version": 3
   },
   "file_extension": ".py",
   "mimetype": "text/x-python",
   "name": "python",
   "nbconvert_exporter": "python",
   "pygments_lexer": "ipython3",
   "version": "3.9.12"
  }
 },
 "nbformat": 4,
 "nbformat_minor": 1
}
