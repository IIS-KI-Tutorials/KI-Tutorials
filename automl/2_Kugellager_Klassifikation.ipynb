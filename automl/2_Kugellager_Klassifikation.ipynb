{
 "cells": [
  {
   "cell_type": "markdown",
   "id": "07426940",
   "metadata": {},
   "source": [
    "[![Open in Colab](https://colab.research.google.com/assets/colab-badge.svg)](https://colab.research.google.com/github//IIS-KI-Tutorials/KI-Tutorials/blob/main/automl/2_Kugellager_Klassifikation.ipynb)"
   ]
  },
  {
   "cell_type": "markdown",
   "id": "5655ae06-1154-4c37-b501-75a18dff2d2f",
   "metadata": {
    "pycharm": {
     "name": "#%% md\n"
    }
   },
   "source": [
    "# Fehlerhafte Kugellager - Klassifikation auf Zeitreihendaten\n",
    "\n",
    "Dieses Notebook zeigt ein einfaches Beispiel, wie man mittels AutoML Klassifikation auf Zeitreihendaten betreibt. Ziel ist es, verschiedene Fehlertypen zu klassifizieren, welche bei einem Kugellager auftreten."
   ]
  },
  {
   "cell_type": "markdown",
   "id": "8f9c3158",
   "metadata": {
    "pycharm": {
     "name": "#%% md\n"
    }
   },
   "source": [
    "## Inhaltsverzeichnis\n",
    "1. [Imports](#1)<br/>\n",
    "2. [Laden der Daten](#2)<br/>\n",
    "3. [Fenstern der Daten und Berechnen von Merkmalen](#3)<br/>\n",
    "4. [Unterteile die Daten in Trainings- und Testdaten](#4)<br/>\n",
    "5. [Modell Training](#5)<br/>\n",
    "6. [Modell Test](#6)<br/>\n",
    "7. [Modell Interpretation](#7)<br/>\n",
    "8. [Modell exportieren/speichern](#8)<br/>\n",
    "9. [Modell laden](#9)<br/>\n",
    "10. [Vorhersagen für neue Daten](#10)<br/>\n",
    "11. [Weiterführende Aufgaben](#11)<br/>"
   ]
  },
  {
   "cell_type": "markdown",
   "id": "6768e2c2",
   "metadata": {
    "pycharm": {
     "name": "#%% md\n"
    }
   },
   "source": [
    "### 1 Imports <a class=\"anchor\" id=\"1\"></a>"
   ]
  },
  {
   "cell_type": "code",
   "execution_count": 1,
   "id": "d3c46ff2",
   "metadata": {
    "pycharm": {
     "name": "#%%\n"
    }
   },
   "outputs": [
    {
     "data": {
      "text/html": [
       "<style>.container { width:80% !important; }</style>"
      ],
      "text/plain": [
       "<IPython.core.display.HTML object>"
      ]
     },
     "metadata": {},
     "output_type": "display_data"
    }
   ],
   "source": [
    "# --- 3rd party ---\n",
    "import numpy as np\n",
    "import pandas as pd\n",
    "import matplotlib.pyplot as plt\n",
    "from autogluon.tabular import TabularPredictor\n",
    "from mlxtend.plotting import plot_confusion_matrix\n",
    "from sklearn.metrics import classification_report, confusion_matrix\n",
    "\n",
    "from IPython.display import display, HTML\n",
    "display(HTML(\"<style>.container { width:80% !important; }</style>\"))\n",
    "\n",
    "# --- MDZ Augsburg ---\n",
    "from utils import get_windows, train_test_split_stratified"
   ]
  },
  {
   "cell_type": "markdown",
   "id": "b6e43ed6",
   "metadata": {
    "pycharm": {
     "name": "#%% md\n"
    }
   },
   "source": [
    "### 2 Laden der Daten <a class=\"anchor\" id=\"2\"></a>\n",
    "\n",
    "Bearing Data Center vom CWRU\n",
    "\n",
    "Original-Datensatz: [https://engineering.case.edu/bearingdatacenter/download-data-file](https://engineering.case.edu/bearingdatacenter/download-data-file)\n",
    "\n",
    "![](../assets/CWRU_ilustration.png)\n",
    "\n",
    "Diese Motorlagerexperimente wurden initiiert, um die Leistung von IQ PreAlert, einem bei Rockwell entwickelten Motorlager-Zustandsbewertungssystem, zu charakterisieren. Experimente wurden unter Verwendung eines 2-PS-Reliance-Elektromotors durchgeführt, und Beschleunigungsdaten wurden an Antriebs- und Lüftungsseite der Motorlager gemessen. Diese Motorlager wurden durch Elektroentladungsbearbeitung (EDM) mit Fehlern übersät. Fehler im Bereich von 0,007 Zoll Durchmesser bis 0,040 Zoll Durchmesser wurden separat an der inneren Laufbahn, dem Walzkörper (d. h. der Kugel) und der äußeren Laufbahn eingeführt. Fehlerhafte Lager wurden wieder in den Testmotor eingebaut und Vibrationsdaten mit einer Frequenz von 12 kHz aufgezeichnet.\n",
    "\n",
    "Die Sensoren sind:\n",
    "* Antriebsseite: acc0\n",
    "* Lüftungsseite: acc1\n",
    "\n",
    "Die Recording IDs sind wie folgt aufgebaut:\n",
    "* Der erste Wert gibt den Ort des Fehlers an:\n",
    "    * none: Kein Fehler\n",
    "    * OR: Outer Race (Außenbahn)\n",
    "    * IR: Inner Race (Innenbahn)\n",
    "    * BA: Ball (Kugel)\n",
    "* Der Zahlenwert definiert die Schwere des Fehlers (bzw. den Durchmesser):\n",
    "    * 00: Kein Fehler\n",
    "    * 07: 0.007''\n",
    "    * 14: 0.014''\n",
    "    * 21: 0.021''"
   ]
  },
  {
   "cell_type": "markdown",
   "id": "dac97afe",
   "metadata": {
    "pycharm": {
     "name": "#%% md\n"
    }
   },
   "source": [
    "Wir laden die Daten als sog. DataFrame und speichern sie in der Variablen `data`.\n",
    "\n",
    "Der Datensatz beinhaltet mehr als 1,5 Mio. Messpunkte (Instanzen).\n",
    "Neben der Zeitspalte sehen wir die beiden Beschleunigungssensoren (\"acc0\" und \"acc1\") sowie die Spalte \"recording_id\".\n",
    "Es gibt insgesamt 10 verschiedene recording_ids, von denen jede eine einzelne Messung repräsentiert.\n",
    "Da pro Messung immer nur ein bestimmter Fehler vorhanden war, entspricht dies im Grunde der Label-Spalte."
   ]
  },
  {
   "cell_type": "code",
   "execution_count": 2,
   "id": "081840aa",
   "metadata": {
    "pycharm": {
     "name": "#%%\n"
    }
   },
   "outputs": [
    {
     "data": {
      "text/html": [
       "<div>\n",
       "<style scoped>\n",
       "    .dataframe tbody tr th:only-of-type {\n",
       "        vertical-align: middle;\n",
       "    }\n",
       "\n",
       "    .dataframe tbody tr th {\n",
       "        vertical-align: top;\n",
       "    }\n",
       "\n",
       "    .dataframe thead th {\n",
       "        text-align: right;\n",
       "    }\n",
       "</style>\n",
       "<table border=\"1\" class=\"dataframe\">\n",
       "  <thead>\n",
       "    <tr style=\"text-align: right;\">\n",
       "      <th></th>\n",
       "      <th>time</th>\n",
       "      <th>acc0</th>\n",
       "      <th>acc1</th>\n",
       "      <th>recording_id</th>\n",
       "    </tr>\n",
       "  </thead>\n",
       "  <tbody>\n",
       "    <tr>\n",
       "      <th>0</th>\n",
       "      <td>0.000000</td>\n",
       "      <td>0.105420</td>\n",
       "      <td>0.204633</td>\n",
       "      <td>BA_14</td>\n",
       "    </tr>\n",
       "    <tr>\n",
       "      <th>1</th>\n",
       "      <td>0.000083</td>\n",
       "      <td>-0.107370</td>\n",
       "      <td>0.248395</td>\n",
       "      <td>BA_14</td>\n",
       "    </tr>\n",
       "    <tr>\n",
       "      <th>2</th>\n",
       "      <td>0.000167</td>\n",
       "      <td>-0.163410</td>\n",
       "      <td>0.042324</td>\n",
       "      <td>BA_14</td>\n",
       "    </tr>\n",
       "    <tr>\n",
       "      <th>3</th>\n",
       "      <td>0.000250</td>\n",
       "      <td>0.118903</td>\n",
       "      <td>-0.015615</td>\n",
       "      <td>BA_14</td>\n",
       "    </tr>\n",
       "    <tr>\n",
       "      <th>4</th>\n",
       "      <td>0.000333</td>\n",
       "      <td>0.184039</td>\n",
       "      <td>-0.058555</td>\n",
       "      <td>BA_14</td>\n",
       "    </tr>\n",
       "    <tr>\n",
       "      <th>...</th>\n",
       "      <td>...</td>\n",
       "      <td>...</td>\n",
       "      <td>...</td>\n",
       "      <td>...</td>\n",
       "    </tr>\n",
       "    <tr>\n",
       "      <th>1584628</th>\n",
       "      <td>10.165583</td>\n",
       "      <td>-0.156344</td>\n",
       "      <td>0.063691</td>\n",
       "      <td>IR_21</td>\n",
       "    </tr>\n",
       "    <tr>\n",
       "      <th>1584629</th>\n",
       "      <td>10.165667</td>\n",
       "      <td>1.099280</td>\n",
       "      <td>-0.059376</td>\n",
       "      <td>IR_21</td>\n",
       "    </tr>\n",
       "    <tr>\n",
       "      <th>1584630</th>\n",
       "      <td>10.165750</td>\n",
       "      <td>0.231876</td>\n",
       "      <td>-0.080949</td>\n",
       "      <td>IR_21</td>\n",
       "    </tr>\n",
       "    <tr>\n",
       "      <th>1584631</th>\n",
       "      <td>10.165833</td>\n",
       "      <td>-1.241410</td>\n",
       "      <td>0.110945</td>\n",
       "      <td>IR_21</td>\n",
       "    </tr>\n",
       "    <tr>\n",
       "      <th>1584632</th>\n",
       "      <td>10.165917</td>\n",
       "      <td>-0.676136</td>\n",
       "      <td>0.005753</td>\n",
       "      <td>IR_21</td>\n",
       "    </tr>\n",
       "  </tbody>\n",
       "</table>\n",
       "<p>1584633 rows × 4 columns</p>\n",
       "</div>"
      ],
      "text/plain": [
       "              time      acc0      acc1 recording_id\n",
       "0         0.000000  0.105420  0.204633        BA_14\n",
       "1         0.000083 -0.107370  0.248395        BA_14\n",
       "2         0.000167 -0.163410  0.042324        BA_14\n",
       "3         0.000250  0.118903 -0.015615        BA_14\n",
       "4         0.000333  0.184039 -0.058555        BA_14\n",
       "...            ...       ...       ...          ...\n",
       "1584628  10.165583 -0.156344  0.063691        IR_21\n",
       "1584629  10.165667  1.099280 -0.059376        IR_21\n",
       "1584630  10.165750  0.231876 -0.080949        IR_21\n",
       "1584631  10.165833 -1.241410  0.110945        IR_21\n",
       "1584632  10.165917 -0.676136  0.005753        IR_21\n",
       "\n",
       "[1584633 rows x 4 columns]"
      ]
     },
     "execution_count": 2,
     "metadata": {},
     "output_type": "execute_result"
    }
   ],
   "source": [
    "data = pd.read_csv(\"../datasets/CWRU.csv\")\n",
    "data"
   ]
  },
  {
   "cell_type": "code",
   "execution_count": 3,
   "id": "22812080",
   "metadata": {
    "pycharm": {
     "name": "#%%\n"
    }
   },
   "outputs": [
    {
     "name": "stdout",
     "output_type": "stream",
     "text": [
      "Liste der vorkommenden recording_ids bzw. Label:\n",
      "\n",
      "BA_07, BA_14, BA_21, IR_07, IR_14, IR_21, OR_07, OR_14, OR_21, none_00\n"
     ]
    }
   ],
   "source": [
    "unique_recording_ids = sorted(data['recording_id'].unique())\n",
    "print(f'Liste der vorkommenden recording_ids bzw. Label:\\n\\n{\", \".join(unique_recording_ids)}')"
   ]
  },
  {
   "cell_type": "markdown",
   "id": "3365bcbd",
   "metadata": {
    "pycharm": {
     "name": "#%% md\n"
    }
   },
   "source": [
    "### 3 Fenstern der Daten und Berechnen von Merkmalen <a class=\"anchor\" id=\"3\"></a>\n",
    "In diesem Beispiel handelt es sich um sog. Zeitreihendaten, die mit einer Frequenz von 12 kHz aufgenommen wurden.\n",
    "Ein einzelner Messpunkt für sich trägt hierbei keine wertvolle Information, sondern vielmehr ist die Abfolge von Messpunkten im zeitlichen Kontext interessant und für das entsprechende Label charakteristisch.\n",
    "\n",
    "Im Folgenden wollen wir also zunächst die vorhandenen Rohdaten fenstern. Hierzu ist es notwendig eine Fenstergröße zu definieren (window_length). Anschließend werden statistische Merkmale (Minimum, Maximum, Mittelwert, ...) auf den Daten innerhalb der jeweiligen Fenster berechnet. Je nach recording_id ist jedem Fenster außerdem auch ein Label zugeordnet."
   ]
  },
  {
   "cell_type": "code",
   "execution_count": 4,
   "id": "2a2c503c",
   "metadata": {
    "pycharm": {
     "name": "#%%\n"
    }
   },
   "outputs": [],
   "source": [
    "window_length = 0.1 # in seconds\n",
    "\n",
    "window_size = round(window_length * 12000) # 12000/s ist die Abtastrate der Sensoren\n",
    "feature_names = ['min', 'max', 'range', 'mean', 'median']\n",
    "sensors = ['acc0', 'acc1']\n",
    "feature_dict = {f'{sensor}_{feature_name}': [] for sensor in sensors for feature_name in feature_names}\n",
    "feature_dict['label'] = []\n",
    "\n",
    "for recording_id in data['recording_id'].unique():\n",
    "    for sensor in sensors:\n",
    "        windowed_data = get_windows(data[data['recording_id'] == recording_id][sensor].values, window_size, window_size)\n",
    "\n",
    "        feature_dict[f'{sensor}_min'] += [min(row) for row in windowed_data]\n",
    "        feature_dict[f'{sensor}_max'] += [max(row) for row in windowed_data]\n",
    "        feature_dict[f'{sensor}_range'] += list(np.array([min(row) for row in windowed_data]))\n",
    "        feature_dict[f'{sensor}_mean'] += [np.mean(row) for row in windowed_data]\n",
    "        feature_dict[f'{sensor}_median'] += [np.median(row) for row in windowed_data]\n",
    "        \n",
    "    feature_dict['label'] += [recording_id for i in range(len(windowed_data))]\n",
    "\n",
    "data_features = pd.DataFrame.from_dict(feature_dict)"
   ]
  },
  {
   "cell_type": "markdown",
   "id": "35df7f6d",
   "metadata": {
    "pycharm": {
     "name": "#%% md\n"
    }
   },
   "source": [
    "In der folgenden Zelle sehen wir nun das Resultat unserer Merkmalsberechnung. Jede Zeile der Tabelle repräsentiert nun ein vorher ausgeschnittenes Fenster (von vorher definierter Länge) auf dem verschiedene statistische Merkmale berechnet wurden. Die Spalten stehen für eben jene berechneten Merkmale. Die letzte Spalte zeigt das dem Fenster zugeordnete Label."
   ]
  },
  {
   "cell_type": "code",
   "execution_count": 5,
   "id": "be00d95a",
   "metadata": {
    "pycharm": {
     "name": "#%%\n"
    }
   },
   "outputs": [
    {
     "data": {
      "text/html": [
       "<div>\n",
       "<style scoped>\n",
       "    .dataframe tbody tr th:only-of-type {\n",
       "        vertical-align: middle;\n",
       "    }\n",
       "\n",
       "    .dataframe tbody tr th {\n",
       "        vertical-align: top;\n",
       "    }\n",
       "\n",
       "    .dataframe thead th {\n",
       "        text-align: right;\n",
       "    }\n",
       "</style>\n",
       "<table border=\"1\" class=\"dataframe\">\n",
       "  <thead>\n",
       "    <tr style=\"text-align: right;\">\n",
       "      <th></th>\n",
       "      <th>acc0_min</th>\n",
       "      <th>acc0_max</th>\n",
       "      <th>acc0_range</th>\n",
       "      <th>acc0_mean</th>\n",
       "      <th>acc0_median</th>\n",
       "      <th>acc1_min</th>\n",
       "      <th>acc1_max</th>\n",
       "      <th>acc1_range</th>\n",
       "      <th>acc1_mean</th>\n",
       "      <th>acc1_median</th>\n",
       "      <th>label</th>\n",
       "    </tr>\n",
       "  </thead>\n",
       "  <tbody>\n",
       "    <tr>\n",
       "      <th>0</th>\n",
       "      <td>-0.462940</td>\n",
       "      <td>0.461153</td>\n",
       "      <td>-0.462940</td>\n",
       "      <td>0.004501</td>\n",
       "      <td>0.001218</td>\n",
       "      <td>-0.371256</td>\n",
       "      <td>0.443987</td>\n",
       "      <td>-0.371256</td>\n",
       "      <td>0.031285</td>\n",
       "      <td>0.036263</td>\n",
       "      <td>BA_14</td>\n",
       "    </tr>\n",
       "    <tr>\n",
       "      <th>1</th>\n",
       "      <td>-0.409012</td>\n",
       "      <td>0.475935</td>\n",
       "      <td>-0.409012</td>\n",
       "      <td>0.004824</td>\n",
       "      <td>0.005685</td>\n",
       "      <td>-0.364887</td>\n",
       "      <td>0.426729</td>\n",
       "      <td>-0.364887</td>\n",
       "      <td>0.032116</td>\n",
       "      <td>0.032565</td>\n",
       "      <td>BA_14</td>\n",
       "    </tr>\n",
       "    <tr>\n",
       "      <th>2</th>\n",
       "      <td>-1.048844</td>\n",
       "      <td>1.105858</td>\n",
       "      <td>-1.048844</td>\n",
       "      <td>0.004549</td>\n",
       "      <td>0.003574</td>\n",
       "      <td>-0.389953</td>\n",
       "      <td>0.474189</td>\n",
       "      <td>-0.389953</td>\n",
       "      <td>0.031660</td>\n",
       "      <td>0.035338</td>\n",
       "      <td>BA_14</td>\n",
       "    </tr>\n",
       "    <tr>\n",
       "      <th>3</th>\n",
       "      <td>-0.830206</td>\n",
       "      <td>0.733395</td>\n",
       "      <td>-0.830206</td>\n",
       "      <td>0.004575</td>\n",
       "      <td>0.008853</td>\n",
       "      <td>-0.568904</td>\n",
       "      <td>0.537880</td>\n",
       "      <td>-0.568904</td>\n",
       "      <td>0.031400</td>\n",
       "      <td>0.034619</td>\n",
       "      <td>BA_14</td>\n",
       "    </tr>\n",
       "    <tr>\n",
       "      <th>4</th>\n",
       "      <td>-0.365154</td>\n",
       "      <td>0.464889</td>\n",
       "      <td>-0.365154</td>\n",
       "      <td>0.004456</td>\n",
       "      <td>0.005279</td>\n",
       "      <td>-0.347835</td>\n",
       "      <td>0.405362</td>\n",
       "      <td>-0.347835</td>\n",
       "      <td>0.032805</td>\n",
       "      <td>0.035441</td>\n",
       "      <td>BA_14</td>\n",
       "    </tr>\n",
       "    <tr>\n",
       "      <th>...</th>\n",
       "      <td>...</td>\n",
       "      <td>...</td>\n",
       "      <td>...</td>\n",
       "      <td>...</td>\n",
       "      <td>...</td>\n",
       "      <td>...</td>\n",
       "      <td>...</td>\n",
       "      <td>...</td>\n",
       "      <td>...</td>\n",
       "      <td>...</td>\n",
       "      <td>...</td>\n",
       "    </tr>\n",
       "    <tr>\n",
       "      <th>1310</th>\n",
       "      <td>-2.438151</td>\n",
       "      <td>2.682616</td>\n",
       "      <td>-2.438151</td>\n",
       "      <td>0.001187</td>\n",
       "      <td>-0.006091</td>\n",
       "      <td>-0.742718</td>\n",
       "      <td>0.798396</td>\n",
       "      <td>-0.742718</td>\n",
       "      <td>0.030567</td>\n",
       "      <td>0.029894</td>\n",
       "      <td>IR_21</td>\n",
       "    </tr>\n",
       "    <tr>\n",
       "      <th>1311</th>\n",
       "      <td>-2.190844</td>\n",
       "      <td>2.725255</td>\n",
       "      <td>-2.190844</td>\n",
       "      <td>0.003245</td>\n",
       "      <td>-0.008122</td>\n",
       "      <td>-0.782371</td>\n",
       "      <td>0.657455</td>\n",
       "      <td>-0.782371</td>\n",
       "      <td>0.031778</td>\n",
       "      <td>0.031640</td>\n",
       "      <td>IR_21</td>\n",
       "    </tr>\n",
       "    <tr>\n",
       "      <th>1312</th>\n",
       "      <td>-2.058459</td>\n",
       "      <td>2.397136</td>\n",
       "      <td>-2.058459</td>\n",
       "      <td>0.002297</td>\n",
       "      <td>-0.005076</td>\n",
       "      <td>-0.646976</td>\n",
       "      <td>0.750525</td>\n",
       "      <td>-0.646976</td>\n",
       "      <td>0.031111</td>\n",
       "      <td>0.024141</td>\n",
       "      <td>IR_21</td>\n",
       "    </tr>\n",
       "    <tr>\n",
       "      <th>1313</th>\n",
       "      <td>-2.680992</td>\n",
       "      <td>3.030633</td>\n",
       "      <td>-2.680992</td>\n",
       "      <td>0.002782</td>\n",
       "      <td>-0.005482</td>\n",
       "      <td>-0.713338</td>\n",
       "      <td>0.710462</td>\n",
       "      <td>-0.713338</td>\n",
       "      <td>0.032110</td>\n",
       "      <td>0.035030</td>\n",
       "      <td>IR_21</td>\n",
       "    </tr>\n",
       "    <tr>\n",
       "      <th>1314</th>\n",
       "      <td>-2.131961</td>\n",
       "      <td>2.719164</td>\n",
       "      <td>-2.131961</td>\n",
       "      <td>0.003050</td>\n",
       "      <td>-0.003655</td>\n",
       "      <td>-0.520211</td>\n",
       "      <td>0.696696</td>\n",
       "      <td>-0.520211</td>\n",
       "      <td>0.034175</td>\n",
       "      <td>0.029996</td>\n",
       "      <td>IR_21</td>\n",
       "    </tr>\n",
       "  </tbody>\n",
       "</table>\n",
       "<p>1315 rows × 11 columns</p>\n",
       "</div>"
      ],
      "text/plain": [
       "      acc0_min  acc0_max  acc0_range  acc0_mean  acc0_median  acc1_min  \\\n",
       "0    -0.462940  0.461153   -0.462940   0.004501     0.001218 -0.371256   \n",
       "1    -0.409012  0.475935   -0.409012   0.004824     0.005685 -0.364887   \n",
       "2    -1.048844  1.105858   -1.048844   0.004549     0.003574 -0.389953   \n",
       "3    -0.830206  0.733395   -0.830206   0.004575     0.008853 -0.568904   \n",
       "4    -0.365154  0.464889   -0.365154   0.004456     0.005279 -0.347835   \n",
       "...        ...       ...         ...        ...          ...       ...   \n",
       "1310 -2.438151  2.682616   -2.438151   0.001187    -0.006091 -0.742718   \n",
       "1311 -2.190844  2.725255   -2.190844   0.003245    -0.008122 -0.782371   \n",
       "1312 -2.058459  2.397136   -2.058459   0.002297    -0.005076 -0.646976   \n",
       "1313 -2.680992  3.030633   -2.680992   0.002782    -0.005482 -0.713338   \n",
       "1314 -2.131961  2.719164   -2.131961   0.003050    -0.003655 -0.520211   \n",
       "\n",
       "      acc1_max  acc1_range  acc1_mean  acc1_median  label  \n",
       "0     0.443987   -0.371256   0.031285     0.036263  BA_14  \n",
       "1     0.426729   -0.364887   0.032116     0.032565  BA_14  \n",
       "2     0.474189   -0.389953   0.031660     0.035338  BA_14  \n",
       "3     0.537880   -0.568904   0.031400     0.034619  BA_14  \n",
       "4     0.405362   -0.347835   0.032805     0.035441  BA_14  \n",
       "...        ...         ...        ...          ...    ...  \n",
       "1310  0.798396   -0.742718   0.030567     0.029894  IR_21  \n",
       "1311  0.657455   -0.782371   0.031778     0.031640  IR_21  \n",
       "1312  0.750525   -0.646976   0.031111     0.024141  IR_21  \n",
       "1313  0.710462   -0.713338   0.032110     0.035030  IR_21  \n",
       "1314  0.696696   -0.520211   0.034175     0.029996  IR_21  \n",
       "\n",
       "[1315 rows x 11 columns]"
      ]
     },
     "execution_count": 5,
     "metadata": {},
     "output_type": "execute_result"
    }
   ],
   "source": [
    "data_features"
   ]
  },
  {
   "cell_type": "markdown",
   "id": "d8e5ba13",
   "metadata": {
    "pycharm": {
     "name": "#%% md\n"
    }
   },
   "source": [
    "### 4 Unterteile die Daten in Trainings- und Testdaten <a class=\"anchor\" id=\"4\"></a>\n",
    "Nun unterteilen wir unseren Datensatz in Trainings- und Testdaten.\n",
    "\n",
    "80% der Daten werden als Trainingsdaten und 20% als Testdaten ausgewählt. Das AutoML Framework wird also lediglich die Trainingsdaten für das Training und Validieren von Modellen benutzen. Mit den Testdaten wird das finale Modell abschließend getestet, um seine Genauigkeit angeben zu können.\n",
    "\n",
    "Die Daten werden hierbei so getrennt, dass die Verteilung der Label sowohl in Trainings- als auch Testset der Verteilung der Label in den Gesamtdaten entspricht."
   ]
  },
  {
   "cell_type": "code",
   "execution_count": 6,
   "id": "e4b1ff39",
   "metadata": {
    "pycharm": {
     "name": "#%%\n"
    }
   },
   "outputs": [],
   "source": [
    "data_train, data_test = train_test_split_stratified(data_features, test_size=0.2, label_colname='label')"
   ]
  },
  {
   "cell_type": "markdown",
   "id": "2432ef1e",
   "metadata": {
    "pycharm": {
     "name": "#%% md\n"
    }
   },
   "source": [
    "### 5 Modell Training <a class=\"anchor\" id=\"5\"></a>\n",
    "In der folgenden Zelle findet das Modell Training durch das AutoML Framework statt.\n",
    "\n",
    "In der ersten Zeile erzeugen wir zuerst eine Instanz der Klasse `TabularPredictor` und speichern diese in der Variablen `predictor`.\n",
    "Hier müssen wir lediglich den Namen des Labels angeben.\n",
    "Optional kann man auch den Pfad angeben, in dem sämtliche Modelle gespeichert werden sollen (hier: \"AutogluonModels/Kugellager\").\n",
    "Gibt man keinen Pfad an, so wird automatisch ein Ordner \"AutogluonModels/ag-\\<Datum>_\\<Uhrzeit>\"  erstellt, in dem die Modelle gespeichert werden.\n",
    "\n",
    "In der zweiten Zeile rufen wir dann die `fit()` Methode auf, welche das Modell Training startet.\n",
    "Diese Methode benötigt unsere vorher definierten Trainingsdaten als Argument.\n",
    "\n",
    "Das AutoML Framework trainiert und validiert nun mit Hilfe dieser Daten viele verschiedene Modelle und gibt automatisch das beste Ensemble-Modell zurück.\n",
    "Dieses speichern wir in der `predictor` Variable.\n",
    "\n",
    "Es sei zu beachten, dass das Framework automatisch erkennt, dass es sich um ein Klassifikationsproblem handelt."
   ]
  },
  {
   "cell_type": "code",
   "execution_count": 7,
   "id": "6f84ad7a",
   "metadata": {
    "pycharm": {
     "name": "#%%\n"
    }
   },
   "outputs": [
    {
     "name": "stderr",
     "output_type": "stream",
     "text": [
      "Warning: path already exists! This predictor may overwrite an existing predictor! path=\"AutogluonModels/Kugellager\"\n",
      "Beginning AutoGluon training ...\n",
      "AutoGluon will save models to \"AutogluonModels/Kugellager\\\"\n",
      "AutoGluon Version:  0.5.2\n",
      "Python Version:     3.9.12\n",
      "Operating System:   Windows\n",
      "Train Data Rows:    1054\n",
      "Train Data Columns: 10\n",
      "Label Column: label\n",
      "Preprocessing data ...\n",
      "AutoGluon infers your prediction problem is: 'multiclass' (because dtype of label-column == object).\n",
      "\t10 unique label values:  ['BA_07', 'none_00', 'IR_07', 'BA_14', 'IR_14', 'OR_21', 'OR_07', 'IR_21', 'BA_21', 'OR_14']\n",
      "\tIf 'multiclass' is not the correct problem_type, please manually specify the problem_type parameter during predictor init (You may specify problem_type as one of: ['binary', 'multiclass', 'regression'])\n",
      "Train Data Class Count: 10\n",
      "Using Feature Generators to preprocess the data ...\n",
      "Fitting AutoMLPipelineFeatureGenerator...\n",
      "\tAvailable Memory:                    5634.59 MB\n",
      "\tTrain Data (Original)  Memory Usage: 0.08 MB (0.0% of available memory)\n",
      "\tInferring data type of each feature based on column values. Set feature_metadata_in to manually specify special dtypes of the features.\n",
      "\tStage 1 Generators:\n",
      "\t\tFitting AsTypeFeatureGenerator...\n",
      "\tStage 2 Generators:\n",
      "\t\tFitting FillNaFeatureGenerator...\n",
      "\tStage 3 Generators:\n",
      "\t\tFitting IdentityFeatureGenerator...\n",
      "\tStage 4 Generators:\n",
      "\t\tFitting DropUniqueFeatureGenerator...\n",
      "\tTypes of features in original data (raw dtype, special dtypes):\n",
      "\t\t('float', []) : 10 | ['acc0_min', 'acc0_max', 'acc0_range', 'acc0_mean', 'acc0_median', ...]\n",
      "\tTypes of features in processed data (raw dtype, special dtypes):\n",
      "\t\t('float', []) : 10 | ['acc0_min', 'acc0_max', 'acc0_range', 'acc0_mean', 'acc0_median', ...]\n",
      "\t0.1s = Fit runtime\n",
      "\t10 features in original data used to generate 10 features in processed data.\n",
      "\tTrain Data (Processed) Memory Usage: 0.08 MB (0.0% of available memory)\n",
      "Data preprocessing and feature engineering runtime = 0.12s ...\n",
      "AutoGluon will gauge predictive performance using evaluation metric: 'accuracy'\n",
      "\tTo change this, specify the eval_metric parameter of Predictor()\n",
      "Automatically generating train/validation split with holdout_frac=0.2, Train Rows: 843, Val Rows: 211\n",
      "Fitting 13 L1 models ...\n",
      "Fitting model: KNeighborsUnif ...\n",
      "\t0.9289\t = Validation score   (accuracy)\n",
      "\t0.02s\t = Training   runtime\n",
      "\t0.02s\t = Validation runtime\n",
      "Fitting model: KNeighborsDist ...\n",
      "\t0.9194\t = Validation score   (accuracy)\n",
      "\t0.01s\t = Training   runtime\n",
      "\t0.01s\t = Validation runtime\n",
      "Fitting model: NeuralNetFastAI ...\n",
      "\t0.9621\t = Validation score   (accuracy)\n",
      "\t4.95s\t = Training   runtime\n",
      "\t0.04s\t = Validation runtime\n",
      "Fitting model: LightGBMXT ...\n",
      "\t0.9716\t = Validation score   (accuracy)\n",
      "\t3.52s\t = Training   runtime\n",
      "\t0.02s\t = Validation runtime\n",
      "Fitting model: LightGBM ...\n",
      "\t0.9621\t = Validation score   (accuracy)\n",
      "\t3.56s\t = Training   runtime\n",
      "\t0.02s\t = Validation runtime\n",
      "Fitting model: RandomForestGini ...\n",
      "\t0.9573\t = Validation score   (accuracy)\n",
      "\t0.85s\t = Training   runtime\n",
      "\t0.08s\t = Validation runtime\n",
      "Fitting model: RandomForestEntr ...\n",
      "\t0.9526\t = Validation score   (accuracy)\n",
      "\t0.76s\t = Training   runtime\n",
      "\t0.08s\t = Validation runtime\n",
      "Fitting model: CatBoost ...\n",
      "C:\\Users\\sbel\\Anaconda3\\envs\\autogluon_env\\lib\\site-packages\\xgboost\\compat.py:31: FutureWarning: pandas.Int64Index is deprecated and will be removed from pandas in a future version. Use pandas.Index with the appropriate dtype instead.\n",
      "  from pandas import MultiIndex, Int64Index\n",
      "\t0.9526\t = Validation score   (accuracy)\n",
      "\t10.24s\t = Training   runtime\n",
      "\t0.0s\t = Validation runtime\n",
      "Fitting model: ExtraTreesGini ...\n",
      "\t0.9621\t = Validation score   (accuracy)\n",
      "\t0.98s\t = Training   runtime\n",
      "\t0.08s\t = Validation runtime\n",
      "Fitting model: ExtraTreesEntr ...\n",
      "\t0.9431\t = Validation score   (accuracy)\n",
      "\t0.83s\t = Training   runtime\n",
      "\t0.07s\t = Validation runtime\n",
      "Fitting model: XGBoost ...\n",
      "\t0.9763\t = Validation score   (accuracy)\n",
      "\t1.31s\t = Training   runtime\n",
      "\t0.01s\t = Validation runtime\n",
      "Fitting model: NeuralNetTorch ...\n",
      "\t0.9573\t = Validation score   (accuracy)\n",
      "\t6.17s\t = Training   runtime\n",
      "\t0.01s\t = Validation runtime\n",
      "Fitting model: LightGBMLarge ...\n",
      "\t0.9716\t = Validation score   (accuracy)\n",
      "\t5.91s\t = Training   runtime\n",
      "\t0.02s\t = Validation runtime\n",
      "Fitting model: WeightedEnsemble_L2 ...\n",
      "\t0.981\t = Validation score   (accuracy)\n",
      "\t0.34s\t = Training   runtime\n",
      "\t0.0s\t = Validation runtime\n",
      "AutoGluon training complete, total runtime = 41.74s ... Best model: \"WeightedEnsemble_L2\"\n",
      "TabularPredictor saved. To load, use: predictor = TabularPredictor.load(\"AutogluonModels/Kugellager\\\")\n"
     ]
    }
   ],
   "source": [
    "predictor = TabularPredictor(label='label', path='AutogluonModels/Kugellager')\n",
    "predictor.fit(data_train);"
   ]
  },
  {
   "cell_type": "markdown",
   "id": "c6758c88",
   "metadata": {
    "pycharm": {
     "name": "#%% md\n"
    }
   },
   "source": [
    "Mit der `fit_summary()` Methode können wir uns eine Zusammenfassung und Übersicht der trainierten Modelle anzeigen lassen. Die zweite Spalte zeigt hier den jeweiligen \"score_val\", sprich die Genauigkeit (engl.: accuracy) auf den Validierungsdaten. Nach diesem Wert sind auch die Modelle absteigend sortiert. Das gewichtete Ensemble hat also die besten Ergebnisse erzielt.\n",
    "\n",
    "Es wird zudem ein Diagramm erstellt, in dem die Inferenzzeit und die Modellgenauigkeit gegenübergestellt werden. Dieses wird im Pfad \"AutogluonModels/Kugellager/SummaryOfModels.html\" abgespeichert und kann in einem Browser geöffnet werden."
   ]
  },
  {
   "cell_type": "code",
   "execution_count": 8,
   "id": "b855bd2e",
   "metadata": {
    "pycharm": {
     "name": "#%%\n"
    }
   },
   "outputs": [
    {
     "name": "stdout",
     "output_type": "stream",
     "text": [
      "*** Summary of fit() ***\n",
      "Estimated performance of each model:\n",
      "                  model  score_val  pred_time_val   fit_time  pred_time_val_marginal  fit_time_marginal  stack_level  can_infer  fit_order\n",
      "0   WeightedEnsemble_L2   0.981043       0.044962   6.603499                0.001000           0.344003            2       True         14\n",
      "1               XGBoost   0.976303       0.008961   1.311018                0.008961           1.311018            1       True         11\n",
      "2         LightGBMLarge   0.971564       0.020005   5.908095                0.020005           5.908095            1       True         13\n",
      "3            LightGBMXT   0.971564       0.024008   3.521878                0.024008           3.521878            1       True          4\n",
      "4              LightGBM   0.962085       0.022004   3.557263                0.022004           3.557263            1       True          5\n",
      "5       NeuralNetFastAI   0.962085       0.035002   4.948477                0.035002           4.948477            1       True          3\n",
      "6        ExtraTreesGini   0.962085       0.077703   0.976577                0.077703           0.976577            1       True          9\n",
      "7        NeuralNetTorch   0.957346       0.012000   6.173648                0.012000           6.173648            1       True         12\n",
      "8      RandomForestGini   0.957346       0.082004   0.848029                0.082004           0.848029            1       True          6\n",
      "9              CatBoost   0.952607       0.001999  10.244659                0.001999          10.244659            1       True          8\n",
      "10     RandomForestEntr   0.952607       0.083998   0.755808                0.083998           0.755808            1       True          7\n",
      "11       ExtraTreesEntr   0.943128       0.073927   0.825888                0.073927           0.825888            1       True         10\n",
      "12       KNeighborsUnif   0.928910       0.020006   0.017998                0.020006           0.017998            1       True          1\n",
      "13       KNeighborsDist   0.919431       0.014005   0.013998                0.014005           0.013998            1       True          2\n",
      "Number of models trained: 14\n",
      "Types of models trained:\n",
      "{'LGBModel', 'TabularNeuralNetTorchModel', 'NNFastAiTabularModel', 'WeightedEnsembleModel', 'XGBoostModel', 'RFModel', 'KNNModel', 'CatBoostModel', 'XTModel'}\n",
      "Bagging used: False \n",
      "Multi-layer stack-ensembling used: False \n",
      "Feature Metadata (Processed):\n",
      "(raw dtype, special dtypes):\n",
      "('float', []) : 10 | ['acc0_min', 'acc0_max', 'acc0_range', 'acc0_mean', 'acc0_median', ...]\n",
      "Plot summary of models saved to file: AutogluonModels/Kugellager\\SummaryOfModels.html\n",
      "*** End of fit() summary ***\n"
     ]
    }
   ],
   "source": [
    "summary = predictor.fit_summary()"
   ]
  },
  {
   "cell_type": "markdown",
   "id": "7c891380",
   "metadata": {
    "pycharm": {
     "name": "#%% md\n"
    }
   },
   "source": [
    "### 6 Modell Test <a class=\"anchor\" id=\"6\"></a>\n",
    "Zum Testen und Evaluieren des finalen Modells verwenden wir die vorab separierten Testdaten.\n",
    "Mit der `evaluate` Methode können wir eine Reihe von Qualitätsmaßen berechnen."
   ]
  },
  {
   "cell_type": "code",
   "execution_count": 9,
   "id": "c659a638",
   "metadata": {
    "pycharm": {
     "name": "#%%\n"
    }
   },
   "outputs": [
    {
     "name": "stderr",
     "output_type": "stream",
     "text": [
      "Evaluation: accuracy on test data: 0.9540229885057471\n",
      "Evaluations on test data:\n",
      "{\n",
      "    \"accuracy\": 0.9540229885057471,\n",
      "    \"balanced_accuracy\": 0.9399999999999998,\n",
      "    \"mcc\": 0.9463219985617793\n",
      "}\n"
     ]
    }
   ],
   "source": [
    "pred_metrics = predictor.evaluate(data_test)"
   ]
  },
  {
   "cell_type": "markdown",
   "id": "24d7c97f",
   "metadata": {
    "pycharm": {
     "name": "#%% md\n"
    }
   },
   "source": [
    "Hier sehen wir abermals eine Überischt aller trainierten Modelle. Die Tabelle beinhaltet jetzt auch die Spalte 'score_test'. Diese zeigt die jeweilige Genauigkeit (engl.: accuracy) auf dem Testdatensatz, also wie viel Prozent der Instanzen richtig klassifiziert worden sind."
   ]
  },
  {
   "cell_type": "code",
   "execution_count": 10,
   "id": "837934e2",
   "metadata": {
    "pycharm": {
     "name": "#%%\n"
    }
   },
   "outputs": [
    {
     "data": {
      "text/html": [
       "<div>\n",
       "<style scoped>\n",
       "    .dataframe tbody tr th:only-of-type {\n",
       "        vertical-align: middle;\n",
       "    }\n",
       "\n",
       "    .dataframe tbody tr th {\n",
       "        vertical-align: top;\n",
       "    }\n",
       "\n",
       "    .dataframe thead th {\n",
       "        text-align: right;\n",
       "    }\n",
       "</style>\n",
       "<table border=\"1\" class=\"dataframe\">\n",
       "  <thead>\n",
       "    <tr style=\"text-align: right;\">\n",
       "      <th></th>\n",
       "      <th>model</th>\n",
       "      <th>score_test</th>\n",
       "      <th>score_val</th>\n",
       "      <th>pred_time_test</th>\n",
       "      <th>pred_time_val</th>\n",
       "      <th>fit_time</th>\n",
       "      <th>pred_time_test_marginal</th>\n",
       "      <th>pred_time_val_marginal</th>\n",
       "      <th>fit_time_marginal</th>\n",
       "      <th>stack_level</th>\n",
       "      <th>can_infer</th>\n",
       "      <th>fit_order</th>\n",
       "    </tr>\n",
       "  </thead>\n",
       "  <tbody>\n",
       "    <tr>\n",
       "      <th>0</th>\n",
       "      <td>ExtraTreesEntr</td>\n",
       "      <td>0.973180</td>\n",
       "      <td>0.943128</td>\n",
       "      <td>0.127160</td>\n",
       "      <td>0.073927</td>\n",
       "      <td>0.825888</td>\n",
       "      <td>0.127160</td>\n",
       "      <td>0.073927</td>\n",
       "      <td>0.825888</td>\n",
       "      <td>1</td>\n",
       "      <td>True</td>\n",
       "      <td>10</td>\n",
       "    </tr>\n",
       "    <tr>\n",
       "      <th>1</th>\n",
       "      <td>RandomForestEntr</td>\n",
       "      <td>0.969349</td>\n",
       "      <td>0.952607</td>\n",
       "      <td>0.136004</td>\n",
       "      <td>0.083998</td>\n",
       "      <td>0.755808</td>\n",
       "      <td>0.136004</td>\n",
       "      <td>0.083998</td>\n",
       "      <td>0.755808</td>\n",
       "      <td>1</td>\n",
       "      <td>True</td>\n",
       "      <td>7</td>\n",
       "    </tr>\n",
       "    <tr>\n",
       "      <th>2</th>\n",
       "      <td>ExtraTreesGini</td>\n",
       "      <td>0.965517</td>\n",
       "      <td>0.962085</td>\n",
       "      <td>0.107426</td>\n",
       "      <td>0.077703</td>\n",
       "      <td>0.976577</td>\n",
       "      <td>0.107426</td>\n",
       "      <td>0.077703</td>\n",
       "      <td>0.976577</td>\n",
       "      <td>1</td>\n",
       "      <td>True</td>\n",
       "      <td>9</td>\n",
       "    </tr>\n",
       "    <tr>\n",
       "      <th>3</th>\n",
       "      <td>LightGBM</td>\n",
       "      <td>0.961686</td>\n",
       "      <td>0.962085</td>\n",
       "      <td>0.076001</td>\n",
       "      <td>0.022004</td>\n",
       "      <td>3.557263</td>\n",
       "      <td>0.076001</td>\n",
       "      <td>0.022004</td>\n",
       "      <td>3.557263</td>\n",
       "      <td>1</td>\n",
       "      <td>True</td>\n",
       "      <td>5</td>\n",
       "    </tr>\n",
       "    <tr>\n",
       "      <th>4</th>\n",
       "      <td>LightGBMXT</td>\n",
       "      <td>0.961686</td>\n",
       "      <td>0.971564</td>\n",
       "      <td>0.103001</td>\n",
       "      <td>0.024008</td>\n",
       "      <td>3.521878</td>\n",
       "      <td>0.103001</td>\n",
       "      <td>0.024008</td>\n",
       "      <td>3.521878</td>\n",
       "      <td>1</td>\n",
       "      <td>True</td>\n",
       "      <td>4</td>\n",
       "    </tr>\n",
       "    <tr>\n",
       "      <th>5</th>\n",
       "      <td>RandomForestGini</td>\n",
       "      <td>0.961686</td>\n",
       "      <td>0.957346</td>\n",
       "      <td>0.119519</td>\n",
       "      <td>0.082004</td>\n",
       "      <td>0.848029</td>\n",
       "      <td>0.119519</td>\n",
       "      <td>0.082004</td>\n",
       "      <td>0.848029</td>\n",
       "      <td>1</td>\n",
       "      <td>True</td>\n",
       "      <td>6</td>\n",
       "    </tr>\n",
       "    <tr>\n",
       "      <th>6</th>\n",
       "      <td>NeuralNetFastAI</td>\n",
       "      <td>0.954023</td>\n",
       "      <td>0.962085</td>\n",
       "      <td>0.067000</td>\n",
       "      <td>0.035002</td>\n",
       "      <td>4.948477</td>\n",
       "      <td>0.067000</td>\n",
       "      <td>0.035002</td>\n",
       "      <td>4.948477</td>\n",
       "      <td>1</td>\n",
       "      <td>True</td>\n",
       "      <td>3</td>\n",
       "    </tr>\n",
       "    <tr>\n",
       "      <th>7</th>\n",
       "      <td>WeightedEnsemble_L2</td>\n",
       "      <td>0.954023</td>\n",
       "      <td>0.981043</td>\n",
       "      <td>0.093997</td>\n",
       "      <td>0.044962</td>\n",
       "      <td>6.603499</td>\n",
       "      <td>0.009000</td>\n",
       "      <td>0.001000</td>\n",
       "      <td>0.344003</td>\n",
       "      <td>2</td>\n",
       "      <td>True</td>\n",
       "      <td>14</td>\n",
       "    </tr>\n",
       "    <tr>\n",
       "      <th>8</th>\n",
       "      <td>CatBoost</td>\n",
       "      <td>0.938697</td>\n",
       "      <td>0.952607</td>\n",
       "      <td>0.008962</td>\n",
       "      <td>0.001999</td>\n",
       "      <td>10.244659</td>\n",
       "      <td>0.008962</td>\n",
       "      <td>0.001999</td>\n",
       "      <td>10.244659</td>\n",
       "      <td>1</td>\n",
       "      <td>True</td>\n",
       "      <td>8</td>\n",
       "    </tr>\n",
       "    <tr>\n",
       "      <th>9</th>\n",
       "      <td>LightGBMLarge</td>\n",
       "      <td>0.938697</td>\n",
       "      <td>0.971564</td>\n",
       "      <td>0.260005</td>\n",
       "      <td>0.020005</td>\n",
       "      <td>5.908095</td>\n",
       "      <td>0.260005</td>\n",
       "      <td>0.020005</td>\n",
       "      <td>5.908095</td>\n",
       "      <td>1</td>\n",
       "      <td>True</td>\n",
       "      <td>13</td>\n",
       "    </tr>\n",
       "    <tr>\n",
       "      <th>10</th>\n",
       "      <td>KNeighborsDist</td>\n",
       "      <td>0.931034</td>\n",
       "      <td>0.919431</td>\n",
       "      <td>0.014679</td>\n",
       "      <td>0.014005</td>\n",
       "      <td>0.013998</td>\n",
       "      <td>0.014679</td>\n",
       "      <td>0.014005</td>\n",
       "      <td>0.013998</td>\n",
       "      <td>1</td>\n",
       "      <td>True</td>\n",
       "      <td>2</td>\n",
       "    </tr>\n",
       "    <tr>\n",
       "      <th>11</th>\n",
       "      <td>XGBoost</td>\n",
       "      <td>0.931034</td>\n",
       "      <td>0.976303</td>\n",
       "      <td>0.017998</td>\n",
       "      <td>0.008961</td>\n",
       "      <td>1.311018</td>\n",
       "      <td>0.017998</td>\n",
       "      <td>0.008961</td>\n",
       "      <td>1.311018</td>\n",
       "      <td>1</td>\n",
       "      <td>True</td>\n",
       "      <td>11</td>\n",
       "    </tr>\n",
       "    <tr>\n",
       "      <th>12</th>\n",
       "      <td>NeuralNetTorch</td>\n",
       "      <td>0.927203</td>\n",
       "      <td>0.957346</td>\n",
       "      <td>0.036999</td>\n",
       "      <td>0.012000</td>\n",
       "      <td>6.173648</td>\n",
       "      <td>0.036999</td>\n",
       "      <td>0.012000</td>\n",
       "      <td>6.173648</td>\n",
       "      <td>1</td>\n",
       "      <td>True</td>\n",
       "      <td>12</td>\n",
       "    </tr>\n",
       "    <tr>\n",
       "      <th>13</th>\n",
       "      <td>KNeighborsUnif</td>\n",
       "      <td>0.923372</td>\n",
       "      <td>0.928910</td>\n",
       "      <td>0.010416</td>\n",
       "      <td>0.020006</td>\n",
       "      <td>0.017998</td>\n",
       "      <td>0.010416</td>\n",
       "      <td>0.020006</td>\n",
       "      <td>0.017998</td>\n",
       "      <td>1</td>\n",
       "      <td>True</td>\n",
       "      <td>1</td>\n",
       "    </tr>\n",
       "  </tbody>\n",
       "</table>\n",
       "</div>"
      ],
      "text/plain": [
       "                  model  score_test  score_val  pred_time_test  pred_time_val  \\\n",
       "0        ExtraTreesEntr    0.973180   0.943128        0.127160       0.073927   \n",
       "1      RandomForestEntr    0.969349   0.952607        0.136004       0.083998   \n",
       "2        ExtraTreesGini    0.965517   0.962085        0.107426       0.077703   \n",
       "3              LightGBM    0.961686   0.962085        0.076001       0.022004   \n",
       "4            LightGBMXT    0.961686   0.971564        0.103001       0.024008   \n",
       "5      RandomForestGini    0.961686   0.957346        0.119519       0.082004   \n",
       "6       NeuralNetFastAI    0.954023   0.962085        0.067000       0.035002   \n",
       "7   WeightedEnsemble_L2    0.954023   0.981043        0.093997       0.044962   \n",
       "8              CatBoost    0.938697   0.952607        0.008962       0.001999   \n",
       "9         LightGBMLarge    0.938697   0.971564        0.260005       0.020005   \n",
       "10       KNeighborsDist    0.931034   0.919431        0.014679       0.014005   \n",
       "11              XGBoost    0.931034   0.976303        0.017998       0.008961   \n",
       "12       NeuralNetTorch    0.927203   0.957346        0.036999       0.012000   \n",
       "13       KNeighborsUnif    0.923372   0.928910        0.010416       0.020006   \n",
       "\n",
       "     fit_time  pred_time_test_marginal  pred_time_val_marginal  \\\n",
       "0    0.825888                 0.127160                0.073927   \n",
       "1    0.755808                 0.136004                0.083998   \n",
       "2    0.976577                 0.107426                0.077703   \n",
       "3    3.557263                 0.076001                0.022004   \n",
       "4    3.521878                 0.103001                0.024008   \n",
       "5    0.848029                 0.119519                0.082004   \n",
       "6    4.948477                 0.067000                0.035002   \n",
       "7    6.603499                 0.009000                0.001000   \n",
       "8   10.244659                 0.008962                0.001999   \n",
       "9    5.908095                 0.260005                0.020005   \n",
       "10   0.013998                 0.014679                0.014005   \n",
       "11   1.311018                 0.017998                0.008961   \n",
       "12   6.173648                 0.036999                0.012000   \n",
       "13   0.017998                 0.010416                0.020006   \n",
       "\n",
       "    fit_time_marginal  stack_level  can_infer  fit_order  \n",
       "0            0.825888            1       True         10  \n",
       "1            0.755808            1       True          7  \n",
       "2            0.976577            1       True          9  \n",
       "3            3.557263            1       True          5  \n",
       "4            3.521878            1       True          4  \n",
       "5            0.848029            1       True          6  \n",
       "6            4.948477            1       True          3  \n",
       "7            0.344003            2       True         14  \n",
       "8           10.244659            1       True          8  \n",
       "9            5.908095            1       True         13  \n",
       "10           0.013998            1       True          2  \n",
       "11           1.311018            1       True         11  \n",
       "12           6.173648            1       True         12  \n",
       "13           0.017998            1       True          1  "
      ]
     },
     "execution_count": 10,
     "metadata": {},
     "output_type": "execute_result"
    }
   ],
   "source": [
    "predictor.leaderboard(data_test, silent=True)"
   ]
  },
  {
   "cell_type": "markdown",
   "id": "09dff3de",
   "metadata": {
    "pycharm": {
     "name": "#%% md\n"
    }
   },
   "source": [
    "Nun wollen wir uns etwas detailliertere Ergebnisse anschauen.\n",
    "\n",
    "Dazu benutzen wir zunächst die `predict()` Methode, um unsere Vorhersagen für den Testdatensatz zu machen. Die Vorhersagen speichern wir in der Variable `y_pred`. Die tatsächlichen Label speichern wir in der Variable `y_true`."
   ]
  },
  {
   "cell_type": "code",
   "execution_count": 11,
   "id": "e2443756",
   "metadata": {
    "pycharm": {
     "name": "#%%\n"
    }
   },
   "outputs": [],
   "source": [
    "y_pred = predictor.predict(data_test)\n",
    "y_true = data_test['label']"
   ]
  },
  {
   "cell_type": "markdown",
   "id": "5fd34d1a",
   "metadata": {
    "pycharm": {
     "name": "#%% md\n"
    }
   },
   "source": [
    "Mit Hilfe von `y_pred` und `y_true` können wir uns nun einen Klassifikations-Report ausgeben lassen. Dieser beinhaltet nicht nur die globale Genauigkeit (accuracy), sondern zeigt auch jeweils die Relevanz (precision), die Sensitivität (recall) sowie den F1-Score für alle vorkommenden Klassen im Datensatz an. Die support Spalte gibt an, wie viele Instanzen der jeweiligen Klasse sich im Testdatensatz befinden. "
   ]
  },
  {
   "cell_type": "code",
   "execution_count": 12,
   "id": "ffe72153",
   "metadata": {
    "pycharm": {
     "name": "#%%\n"
    }
   },
   "outputs": [
    {
     "name": "stdout",
     "output_type": "stream",
     "text": [
      "              precision    recall  f1-score   support\n",
      "\n",
      "       BA_07       0.88      0.70      0.78        20\n",
      "       BA_14       0.72      0.90      0.80        20\n",
      "       BA_21       1.00      1.00      1.00        20\n",
      "       IR_07       1.00      1.00      1.00        20\n",
      "       IR_14       1.00      0.95      0.97        20\n",
      "       IR_21       1.00      1.00      1.00        20\n",
      "       OR_07       0.95      0.90      0.92        20\n",
      "       OR_14       1.00      1.00      1.00        20\n",
      "       OR_21       0.90      0.95      0.93        20\n",
      "     none_00       1.00      1.00      1.00        81\n",
      "\n",
      "    accuracy                           0.95       261\n",
      "   macro avg       0.94      0.94      0.94       261\n",
      "weighted avg       0.96      0.95      0.95       261\n",
      "\n"
     ]
    }
   ],
   "source": [
    "print(classification_report(y_pred=y_pred, y_true=y_true))"
   ]
  },
  {
   "cell_type": "markdown",
   "id": "894c538e",
   "metadata": {
    "pycharm": {
     "name": "#%% md\n"
    }
   },
   "source": [
    "Eine zusätzliche Möglichkeit, die Ergebnisse detailliert zu visualisieren bietet die sog. Konfusionsmatrix.\n",
    "Entlang der x-Achse sehen wir die vom Modell gemachten Vorhersagen, auf der y-Achse die tatsächlichen Label.\n",
    "\n",
    "Im Feld links oben (1. Zeile, 1. Spalte) steht also die Anzahl der Instanzen in den Traingsdaten, bei denen tatsächlich ein 0.007'' Fehler an einer Kugel vorlag und dies von unserem Modell auch so vorhergesagt wurde.\n",
    "\n",
    "Im Feld darunter (2. Zeile, 1. Spalte) steht die Anzahl der Instanzen, bei denen tatsächlich ein ein 0.014'' Fehler an einer Kugel vorlag, unser Modell aber fälschlicherweise einen 0.007'' Fehler vorhergesagt hat.\n",
    "\n",
    "Eine Konfusionsmatrix eignet sich somit schnell zu erkennen, welche Klassen untereinander verwechselt werden.\n",
    "Liegen viele Instanzen auf der Diagonalen, so spricht dies für ein gutes Modell. Hier decken sich die Vorhersagen mit den tatsächlichen Werten."
   ]
  },
  {
   "cell_type": "code",
   "execution_count": 13,
   "id": "6fdc1d30",
   "metadata": {
    "pycharm": {
     "name": "#%%\n"
    }
   },
   "outputs": [
    {
     "data": {
      "image/png": "[encoded data removed]",
      "text/plain": [
       "<Figure size 432x432 with 1 Axes>"
      ]
     },
     "metadata": {
      "needs_background": "light"
     },
     "output_type": "display_data"
    }
   ],
   "source": [
    "cm = confusion_matrix(y_true, y_pred)\n",
    "fig = plot_confusion_matrix(cm, figsize=(6, 6), show_absolute=True, show_normed=False, class_names=predictor.class_labels)"
   ]
  },
  {
   "cell_type": "markdown",
   "id": "00b5af35",
   "metadata": {
    "pycharm": {
     "name": "#%% md\n"
    }
   },
   "source": [
    "### 7 Modell Interpretation <a class=\"anchor\" id=\"7\"></a>\n",
    "In der folgenden Zelle wird die sog. Merkmalswichtigkeit (engl.: feature importance) berechnet und aufgelistet (1. Spalte). Je höher die Wichtigkeit (importance), umso bedeutender und gewichtiger ist der Einfluss des jeweiligen Merkmals zur Bestimmung einer Vorhersage. Dies kann sehr aufschlussreich sein, um zu verstehen welche Merkmale eher wichtig und welche eher unwichtig sind."
   ]
  },
  {
   "cell_type": "code",
   "execution_count": 14,
   "id": "de7f14bc",
   "metadata": {
    "pycharm": {
     "name": "#%%\n"
    }
   },
   "outputs": [
    {
     "data": {
      "text/html": [
       "<div>\n",
       "<style scoped>\n",
       "    .dataframe tbody tr th:only-of-type {\n",
       "        vertical-align: middle;\n",
       "    }\n",
       "\n",
       "    .dataframe tbody tr th {\n",
       "        vertical-align: top;\n",
       "    }\n",
       "\n",
       "    .dataframe thead th {\n",
       "        text-align: right;\n",
       "    }\n",
       "</style>\n",
       "<table border=\"1\" class=\"dataframe\">\n",
       "  <thead>\n",
       "    <tr style=\"text-align: right;\">\n",
       "      <th></th>\n",
       "      <th>importance</th>\n",
       "      <th>stddev</th>\n",
       "      <th>p_value</th>\n",
       "      <th>n</th>\n",
       "      <th>p99_high</th>\n",
       "      <th>p99_low</th>\n",
       "    </tr>\n",
       "  </thead>\n",
       "  <tbody>\n",
       "    <tr>\n",
       "      <th>acc0_mean</th>\n",
       "      <td>0.262835</td>\n",
       "      <td>0.012591</td>\n",
       "      <td>6.300928e-07</td>\n",
       "      <td>5</td>\n",
       "      <td>0.288761</td>\n",
       "      <td>0.236910</td>\n",
       "    </tr>\n",
       "    <tr>\n",
       "      <th>acc1_min</th>\n",
       "      <td>0.183908</td>\n",
       "      <td>0.021842</td>\n",
       "      <td>2.343466e-05</td>\n",
       "      <td>5</td>\n",
       "      <td>0.228882</td>\n",
       "      <td>0.138934</td>\n",
       "    </tr>\n",
       "    <tr>\n",
       "      <th>acc0_min</th>\n",
       "      <td>0.170881</td>\n",
       "      <td>0.024623</td>\n",
       "      <td>5.032848e-05</td>\n",
       "      <td>5</td>\n",
       "      <td>0.221580</td>\n",
       "      <td>0.120183</td>\n",
       "    </tr>\n",
       "    <tr>\n",
       "      <th>acc1_max</th>\n",
       "      <td>0.114943</td>\n",
       "      <td>0.016480</td>\n",
       "      <td>4.934346e-05</td>\n",
       "      <td>5</td>\n",
       "      <td>0.148874</td>\n",
       "      <td>0.081011</td>\n",
       "    </tr>\n",
       "    <tr>\n",
       "      <th>acc0_max</th>\n",
       "      <td>0.114176</td>\n",
       "      <td>0.011301</td>\n",
       "      <td>1.136849e-05</td>\n",
       "      <td>5</td>\n",
       "      <td>0.137445</td>\n",
       "      <td>0.090907</td>\n",
       "    </tr>\n",
       "    <tr>\n",
       "      <th>acc0_median</th>\n",
       "      <td>0.022989</td>\n",
       "      <td>0.008128</td>\n",
       "      <td>1.599101e-03</td>\n",
       "      <td>5</td>\n",
       "      <td>0.039723</td>\n",
       "      <td>0.006254</td>\n",
       "    </tr>\n",
       "    <tr>\n",
       "      <th>acc0_range</th>\n",
       "      <td>0.013793</td>\n",
       "      <td>0.006411</td>\n",
       "      <td>4.290459e-03</td>\n",
       "      <td>5</td>\n",
       "      <td>0.026994</td>\n",
       "      <td>0.000592</td>\n",
       "    </tr>\n",
       "    <tr>\n",
       "      <th>acc1_range</th>\n",
       "      <td>0.010728</td>\n",
       "      <td>0.006854</td>\n",
       "      <td>1.244808e-02</td>\n",
       "      <td>5</td>\n",
       "      <td>0.024840</td>\n",
       "      <td>-0.003384</td>\n",
       "    </tr>\n",
       "    <tr>\n",
       "      <th>acc1_median</th>\n",
       "      <td>0.010728</td>\n",
       "      <td>0.009917</td>\n",
       "      <td>3.642753e-02</td>\n",
       "      <td>5</td>\n",
       "      <td>0.031148</td>\n",
       "      <td>-0.009692</td>\n",
       "    </tr>\n",
       "    <tr>\n",
       "      <th>acc1_mean</th>\n",
       "      <td>0.008429</td>\n",
       "      <td>0.003206</td>\n",
       "      <td>2.090536e-03</td>\n",
       "      <td>5</td>\n",
       "      <td>0.015029</td>\n",
       "      <td>0.001829</td>\n",
       "    </tr>\n",
       "  </tbody>\n",
       "</table>\n",
       "</div>"
      ],
      "text/plain": [
       "             importance    stddev       p_value  n  p99_high   p99_low\n",
       "acc0_mean      0.262835  0.012591  6.300928e-07  5  0.288761  0.236910\n",
       "acc1_min       0.183908  0.021842  2.343466e-05  5  0.228882  0.138934\n",
       "acc0_min       0.170881  0.024623  5.032848e-05  5  0.221580  0.120183\n",
       "acc1_max       0.114943  0.016480  4.934346e-05  5  0.148874  0.081011\n",
       "acc0_max       0.114176  0.011301  1.136849e-05  5  0.137445  0.090907\n",
       "acc0_median    0.022989  0.008128  1.599101e-03  5  0.039723  0.006254\n",
       "acc0_range     0.013793  0.006411  4.290459e-03  5  0.026994  0.000592\n",
       "acc1_range     0.010728  0.006854  1.244808e-02  5  0.024840 -0.003384\n",
       "acc1_median    0.010728  0.009917  3.642753e-02  5  0.031148 -0.009692\n",
       "acc1_mean      0.008429  0.003206  2.090536e-03  5  0.015029  0.001829"
      ]
     },
     "execution_count": 14,
     "metadata": {},
     "output_type": "execute_result"
    }
   ],
   "source": [
    "predictor.feature_importance(data_test, silent=True)"
   ]
  },
  {
   "cell_type": "markdown",
   "id": "f04d7b3b",
   "metadata": {
    "pycharm": {
     "name": "#%% md\n"
    }
   },
   "source": [
    "### 8 Modell exportieren/speichern <a class=\"anchor\" id=\"8\"></a>\n",
    "Um das trainierte Modell später wieder laden und benutzen zu können, muss es gespeichert werden. Dies geschieht schon automatisch beim Modell Training. Bei Bedarf kann man jedoch auch im Nachhinhein das Modell mittels der `save()` Methode speichern (optional unter Angabe eines Pfades der Wahl)."
   ]
  },
  {
   "cell_type": "code",
   "execution_count": 15,
   "id": "b384b9ed",
   "metadata": {
    "pycharm": {
     "name": "#%%\n"
    }
   },
   "outputs": [
    {
     "name": "stderr",
     "output_type": "stream",
     "text": [
      "TabularPredictor saved. To load, use: predictor = TabularPredictor.load(\"AutogluonModels/Kugellager\\\")\n"
     ]
    }
   ],
   "source": [
    "predictor.save()"
   ]
  },
  {
   "cell_type": "markdown",
   "id": "396c8f67",
   "metadata": {
    "pycharm": {
     "name": "#%% md\n"
    }
   },
   "source": [
    "### 9 Modell laden <a class=\"anchor\" id=\"9\"></a>\n",
    "Um ein gespeichertes Modell zu laden, ruft man ganz einfach die `load()` Methode auf."
   ]
  },
  {
   "cell_type": "code",
   "execution_count": 16,
   "id": "ecf43d9a",
   "metadata": {
    "pycharm": {
     "name": "#%%\n"
    }
   },
   "outputs": [],
   "source": [
    "predictor = TabularPredictor.load(path=\"./AutogluonModels/Kugellager\")"
   ]
  },
  {
   "cell_type": "markdown",
   "id": "73ba6b7e",
   "metadata": {
    "pycharm": {
     "name": "#%% md\n"
    }
   },
   "source": [
    "### 10 Vorhersagen für neue Daten <a class=\"anchor\" id=\"10\"></a>\n",
    "Das geladene Modell kann nun genutzt werden, um Vorhersagen auf zukünftigen, komplett unbekannten Daten zu machen. Da wir über solche nicht verfügen, laden wir hier eine zufällige Instanz aus dem uns vorliegenden Datensatz und machen dafür eine Vorhersage mit unserem geladenen Modell."
   ]
  },
  {
   "cell_type": "code",
   "execution_count": 17,
   "id": "09797764",
   "metadata": {
    "pycharm": {
     "name": "#%%\n"
    }
   },
   "outputs": [
    {
     "data": {
      "text/html": [
       "<div>\n",
       "<style scoped>\n",
       "    .dataframe tbody tr th:only-of-type {\n",
       "        vertical-align: middle;\n",
       "    }\n",
       "\n",
       "    .dataframe tbody tr th {\n",
       "        vertical-align: top;\n",
       "    }\n",
       "\n",
       "    .dataframe thead th {\n",
       "        text-align: right;\n",
       "    }\n",
       "</style>\n",
       "<table border=\"1\" class=\"dataframe\">\n",
       "  <thead>\n",
       "    <tr style=\"text-align: right;\">\n",
       "      <th></th>\n",
       "      <th>acc0_min</th>\n",
       "      <th>acc0_max</th>\n",
       "      <th>acc0_range</th>\n",
       "      <th>acc0_mean</th>\n",
       "      <th>acc0_median</th>\n",
       "      <th>acc1_min</th>\n",
       "      <th>acc1_max</th>\n",
       "      <th>acc1_range</th>\n",
       "      <th>acc1_mean</th>\n",
       "      <th>acc1_median</th>\n",
       "      <th>label</th>\n",
       "    </tr>\n",
       "  </thead>\n",
       "  <tbody>\n",
       "    <tr>\n",
       "      <th>1138</th>\n",
       "      <td>-3.374996</td>\n",
       "      <td>3.301088</td>\n",
       "      <td>-3.374996</td>\n",
       "      <td>0.002744</td>\n",
       "      <td>0.005076</td>\n",
       "      <td>-0.977758</td>\n",
       "      <td>1.255533</td>\n",
       "      <td>-0.977758</td>\n",
       "      <td>0.031145</td>\n",
       "      <td>0.033284</td>\n",
       "      <td>OR_21</td>\n",
       "    </tr>\n",
       "  </tbody>\n",
       "</table>\n",
       "</div>"
      ],
      "text/plain": [
       "      acc0_min  acc0_max  acc0_range  acc0_mean  acc0_median  acc1_min  \\\n",
       "1138 -3.374996  3.301088   -3.374996   0.002744     0.005076 -0.977758   \n",
       "\n",
       "      acc1_max  acc1_range  acc1_mean  acc1_median  label  \n",
       "1138  1.255533   -0.977758   0.031145     0.033284  OR_21  "
      ]
     },
     "execution_count": 17,
     "metadata": {},
     "output_type": "execute_result"
    }
   ],
   "source": [
    "test_window = data_features.sample()\n",
    "test_window"
   ]
  },
  {
   "cell_type": "code",
   "execution_count": 18,
   "id": "566a0207",
   "metadata": {
    "pycharm": {
     "name": "#%%\n"
    }
   },
   "outputs": [
    {
     "name": "stdout",
     "output_type": "stream",
     "text": [
      "Vorhergesagte Klasse: OR_21\n"
     ]
    }
   ],
   "source": [
    "prediction = predictor.predict(test_window)\n",
    "print(f'Vorhergesagte Klasse: {\", \".join(prediction.values)}')"
   ]
  },
  {
   "cell_type": "markdown",
   "id": "56b83a0b",
   "metadata": {
    "pycharm": {
     "name": "#%% md\n"
    }
   },
   "source": [
    "### 11 Aufgaben <a class=\"anchor\" id=\"11\"></a>\n",
    "1. Welchen Einfluss hat eine kleinere bzw. größere Fensterlänge? Überlegen Sie sich zunächst welche Veränderung Sie erwarten würden und überprüfen Sie diese anschließend, indem Sie verschiedene Werte ausprobieren. Passen Sie dazu den Wert der Variable `window_length` unter [3 Fenstern der Daten und Berechnen von Merkmalen](#3) entsprechend an.\n",
    "2. Außer den Trainingsdaten und der Angabe des Labels benötigt AutoGluon keinen weiteren Input zum Trainieren eines Modells. Es ist jedoch möglich weitere Parameter anzupassen, um den Trainingsprozess zu beeinflussen. Eine sehr praktische Möglichkeit dafür ist der Parameter `presets` der `fit()`-Methode. Informieren Sie sich zunächst dazu in der [Dokumentation von AutoGluon](https://auto.gluon.ai/stable/api/autogluon.predictor.html#autogluon.tabular.TabularPredictor.fit) und probieren sie anschließend verschiedene `presets` aus. Passen Sie dazu den Code unter [5 Modell Training](#3) entsprechend an. Welche Veränderungen beim Trainingsprozess und bei den resultierenden Modellen können Sie feststellen?\n",
    "3. Überlegen Sie, ob Sie ähnliche Anwendungsfälle in Ihrem Unternehmen identifizieren können, für die die Zeitreihenklassifizierung eine Möglichkeit zur Verbesserung bzw. Automatisierung bieten könnte."
   ]
  }
 ],
 "metadata": {
  "kernelspec": {
   "display_name": "Python 3 (ipykernel)",
   "language": "python",
   "name": "python3"
  },
  "language_info": {
   "codemirror_mode": {
    "name": "ipython",
    "version": 3
   },
   "file_extension": ".py",
   "mimetype": "text/x-python",
   "name": "python",
   "nbconvert_exporter": "python",
   "pygments_lexer": "ipython3",
   "version": "3.9.12"
  }
 },
 "nbformat": 4,
 "nbformat_minor": 5
}
