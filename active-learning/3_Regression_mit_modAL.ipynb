{
 "cells": [
  {
   "cell_type": "markdown",
   "id": "b3088f2e",
   "metadata": {},
   "source": [
    "[![Open in Colab](https://colab.research.google.com/assets/colab-badge.svg)](https://colab.research.google.com/github//IIS-KI-Tutorials/KI-Tutorials/blob/main/active-learning/3_Regression_mit_modAL.ipynb)"
   ]
  },
  {
   "cell_type": "markdown",
   "id": "77e8794f",
   "metadata": {},
   "source": [
    "# Regression mit modAL\n",
    "Im Gegesatz zur Klassifikation ist es bei der Regression nicht ganz so einfach, ein gutes Maß für die Unsicherheit gegenüber einem neuen Datenpunkt zu bestimmen. Eine häufig angewandte Möglichkeit ist es, anstelle von nur einem Modell, ein ganzes Ensemble an verschiedenen Modellen zu trainieren und dann Datenpunkte zu wählen, bei denen sich die Modelle am stärksten gegenseitig widersprechen. Konkret verwenden wir hierbei die maximale Standardabweichung der Vorhersagen der verschiedenen Modelle als Kriterium, um die Unsicherheit zu quantifizieren. Die Standardabweichung ergibt sich aus den unterschiedlichen Vorhersagen, die jedes Modell für einen bestimmten Datenpunkt liefert. Indem wir die maximale Standardabweichung wählen, identifizieren wir diejenigen Datenpunkte, bei denen die Modelle die größten Abweichungen voneinander aufweisen und somit die Unsicherheit am größten ist.\n",
    "\n",
    "\n",
    "## Inhaltsverzeichnis\n",
    "1. [Imports](#Imports)\n",
    "2. [Erzeugen der Daten](#Erzeugen-der-Daten)\n",
    "3. [Initialisierung des Ensembles](#Initialisierung-des-Ensembles)\n",
    "4. [Umsetzung des Active Learning Cycles](#Umsetzung-des-Active-Learning-Cycles)\n",
    "5. [Evaluation: Vergleich mit zufälliger Auswahlstrategie](#Evaluation:-Vergleich-mit-zufälliger-Auswahlstrategie)\n",
    "\n",
    "\n",
    "## 1. Imports <a id='Imports'></a>\n",
    "\n",
    "Die Bibliotheken `pandas` und `numpy` werden verwendet, um Daten zu laden und zu verarbeiten. `matplotlib` und `seaborn` werden verwendet, um Visualisierungen zu erstellen. Aus `sklearn` verwenden wir verschiedene Regressionsalgorithmen und Metriken.\n",
    "Alle Active Learning spezifische Funktionen erhalten wir aus dem Modul `modAL`. \n",
    "Wir importieren dazu die Klassen `ActiveLearner` und `CommitteeRegressor` aus `modAL.models`. Die Klasse `ActiveLearner` ist die Basisklasse für alle Active Learning Modelle in modAL. Die Klasse `CommitteeRegressor` stellt die erforderlichen Funktionen für Active Learning Regression mit Ensembles zur Verfügung.\n",
    "\n",
    "Für unser Auswahlkriterium `max_std_sampling` importieren wir die entsprechende Funktion aus dem Modul `modAL.disagreement`."
   ]
  },
  {
   "cell_type": "code",
   "execution_count": 1,
   "id": "755756b2",
   "metadata": {},
   "outputs": [],
   "source": [
    "#Grundlegende Imports\n",
    "from itertools import cycle\n",
    "import numpy as np\n",
    "import pandas as pd\n",
    "import matplotlib.pyplot as plt\n",
    "from sklearn.datasets import make_regression\n",
    "from sklearn.model_selection import train_test_split\n",
    "\n",
    "#Active learning spezifische Imports\n",
    "from modAL.models import ActiveLearner, CommitteeRegressor\n",
    "from modAL.disagreement import max_std_sampling\n",
    "\n",
    "#Regressions Modelle\n",
    "from sklearn.linear_model import LinearRegression, Ridge, Lasso, PoissonRegressor\n",
    "from sklearn.svm import SVR\n",
    "from sklearn.tree import DecisionTreeRegressor\n",
    "from sklearn.gaussian_process import GaussianProcessRegressor\n",
    "\n",
    "#Metriken\n",
    "from sklearn.metrics import mean_absolute_error, mean_squared_error"
   ]
  },
  {
   "cell_type": "markdown",
   "id": "7a7d576f",
   "metadata": {},
   "source": [
    "## 2. Erzeugen der Daten <a id='Erzeugen-der-Daten'></a>\n",
    "\n",
    "Für dieses Beispiel verwenden wir syntetische Daten welche wir mit Hilfe der Funktion `make_regression` von `sklearn.datasets` erzeugen."
   ]
  },
  {
   "cell_type": "code",
   "execution_count": 2,
   "id": "7b3d97e9",
   "metadata": {},
   "outputs": [],
   "source": [
    "X, y = make_regression(n_samples=1000,\n",
    "                       n_features=3,\n",
    "                       n_informative=2,\n",
    "                       random_state=42,\n",
    "                       noise=2\n",
    "                      )\n",
    "X_dev, X_test, y_dev, y_test = train_test_split(X, y, random_state=42, shuffle=True)"
   ]
  },
  {
   "cell_type": "markdown",
   "id": "346d63d2",
   "metadata": {},
   "source": [
    "### 3. Initialisierung des Ensembles <a id=\"Initialisierung-des-Ensembles\"></a>\n",
    "\n",
    "Zunächst muss das Ensemble initialisiert werden, dazu mussen folgende Kriterien festgelegt werden:\n",
    "- **Anzahl der Modelle:** Es ist ratsam, die Ensemble-Gruppe aus einer Vielzahl von Modellen zusammenzustellen. Die Stärken eines Ensembles treten besonders hervor, wenn die enthaltenen Modelle eine facettenreiche Vielfalt aufweisen und somit Abweichungen in den Vorhersagen präsentieren. Diese Diversität innerhalb der Modelle kann auf unterschiedliche Weisen erzielt werden. Es besteht die Möglichkeit, jedem Modell verschiedene Trainingsdaten zuzuweisen, unterschiedliche Algorithmen einzusetzen oder auf das Prinzip des Bootstrappings zurückzugreifen. Beim Bootstrapping wird für jede Trainingsrunde eine spezifische Untergruppe aus den verfügbaren Trainingsdaten zufällig ausgewählt, die in diesem Schritt genutzt wird. In der vorliegenden Situation kombinieren wir sowohl das Bootstrapping-Prinzip als auch den Einsatz verschiedener Algorithmen, um die Variabilität unserer Ensemble-Modelle zu maximieren.\n",
    "- **Initiale Trainingsdaten:** Die Entscheidung über die Menge an initial gelabelten Datenpunkten erfordert eine sorgfältige Abwägung. Eine zu knappe Auswahl könnte dazu führen, dass diese wenigen Datenpunkte zufällig ungünstig gewählt sind und dadurch die ersten Modelle in unerwünschter Weise beeinflussen. Es ist jedoch ebenso wichtig, eine übermäßige Vorlabelung von Datenpunkten zu vermeiden, da dies ineffizient wäre. Das Ziel besteht darin, eine ausgewogene Menge an initialen Datenpunkten zu wählen, um das Ensemble solide zu initialisieren.\n",
    "- **Auswahlkriterium:** Bei Regressionsaufgaben hat sich üblicherweise bewährt, den Datenpunkt aus dem Datenpool zu wählen, der die höchste Standardabweichung zwischen den Vorhersagen der einzelnen Modelle aufweist. Auf diese Weise wird derjenige Datenpunkt ausgewählt, der die größte Diskrepanz bzw. Uneinigkeit zwischen den Modellen zeigt.\n",
    "<br/><br/>\n",
    "Für diese Aufgabe stellt ModAL die Klasse `CommitteeRegressor` bereit. Diese umfasst eine Liste von `ActiveLearner` und eine `query_strategy`.  Jede Instanz von `ActiveLearner` umfasst wiederum einen Sklearn kompatiblen Estimator und die initialen Trainingsdaten für das jeweilige Model. ([siehe Dokumentation](https://modal-python.readthedocs.io/en/latest/content/apireference/models.html))"
   ]
  },
  {
   "cell_type": "code",
   "execution_count": 3,
   "id": "9750b042",
   "metadata": {},
   "outputs": [],
   "source": [
    "X_pool, y_pool = X_dev.copy(), y_dev.copy()\n",
    "\n",
    "# Liste an Regressionsalgorithmen, die wir in unserem Ensemble verwenden wollen\n",
    "regression_algo_list = [LinearRegression, Ridge, Lasso, DecisionTreeRegressor, GaussianProcessRegressor] \n",
    "\n",
    "init_train_size = 20 # Menge an initialen Trainingsdaten, die wir zufällig auswählen und labeln\n",
    "init_idx = np.random.choice(range(X_pool.shape[0]), size=init_train_size, replace=False)\n",
    "# Erstellt eine Liste von ActiveLearner-Objekten, die wir in unserem Ensemble verwenden wollen.\n",
    "learner_list = [\n",
    "    ActiveLearner(\n",
    "        # Regressions-Algorithmus\n",
    "        estimator=Regressor(random_state=42) if hasattr(Regressor.__init__, 'random_state') else Regressor(),\n",
    "        X_training=X_pool[init_idx],\n",
    "        y_training=y_pool[init_idx], # Zielwert der Trainingsdaten\n",
    "        bootstrap_init=True, # Nutze Bootstraping um zusätzliche Variation zwischen den Modellen zu erzeugen\n",
    "    )\n",
    "    for Regressor in regression_algo_list\n",
    "    ]\n",
    "\n",
    "#Entfernt die initialen Trainingsdaten aus dem Datenpool, damit diese nicht doppelt ausgewählt werden.\n",
    "X_pool = np.delete(X_pool, init_idx, axis=0)\n",
    "y_pool = np.delete(y_pool, init_idx)\n",
    "\n",
    "# Committee ist hier das selbe wie ein Ensemble.\n",
    "ensemble = CommitteeRegressor(\n",
    "    learner_list=learner_list, #Vorab definierte Liste an Modellen\n",
    "    query_strategy=max_std_sampling # Strategie zur Bestimmung der Label-Reihenfolge\n",
    ")"
   ]
  },
  {
   "cell_type": "markdown",
   "id": "90d2f13c",
   "metadata": {},
   "source": [
    "### 4. Umsetzung des Active Learning Cycles <a id=\"Umsetzung-des-Active-Learning-Cycles\"></a>\n",
    "Um später die Genauigkeit der Modelle im Vergleich zur zufälligen Auswahl der Datenpunkte zu bewerten, speichern wir in jeder Iteration den durchschnittlichen absoluten Fehler (MAE) des aktuellen Ensembles auf den Testdaten."
   ]
  },
  {
   "cell_type": "code",
   "execution_count": 4,
   "id": "08a9398f",
   "metadata": {},
   "outputs": [],
   "source": [
    "performance = [mean_absolute_error(y_test, ensemble.predict(X_test))] # Liste zum Speichern der Genauigkeit (MAE) der Modelle auf den Testdaten\n",
    "n_queries = 50 #Legt die Anzahl der Iterationen fest\n",
    "samples_per_iter = 4"
   ]
  },
  {
   "cell_type": "markdown",
   "id": "3758b2d3",
   "metadata": {},
   "source": [
    "Nach der erfolgreichen Initialisierung des Ensembles setzen wir den Active Learning Zyklus in Gang. Hierbei bedienen wir uns einer FOR-Schleife, bei der im Vorfeld die gewünschte Anzahl der Iterationen festgelegt wird. Eine alternative Option besteht darin, eine WHILE-Schleife zu verwenden, welche in jedem Durchlauf überprüft, ob bestimmte Zielkriterien erfüllt sind.\n",
    "\n",
    "Es gibt keine zwingende Einschränkung, in jeder Iteration lediglich nur einen einzelnen Datenpunkt auszuwählen. Unser vorrangiges Ziel besteht darin, den Aufwand für die Modellentwicklung (Training) und den Aufwand für das Labeln der Daten zu minimieren. Da das Training in diesem konkreten Beispiel auch recht viel Zeit beansprucht, werden gemäß unserem Auswahlkriterium in jeder Iteration `samples_per_iter` neue Datenpunkte ausgewählt, gelabelt und in die Trainingsdaten integriert."
   ]
  },
  {
   "cell_type": "code",
   "execution_count": 5,
   "id": "68d39123",
   "metadata": {},
   "outputs": [
    {
     "name": "stdout",
     "output_type": "stream",
     "text": [
      "Query no. 50 of 50\r"
     ]
    }
   ],
   "source": [
    "#Active Learning Cycle\n",
    "for idx in range(1, n_queries+1):\n",
    "    print(f\"Query no. {idx} of {n_queries}\", end=\"\\r\")\n",
    "    \n",
    "    # Query the unlabeled points, select the five most uncertain\n",
    "    query_idxs, query_instances = ensemble.query(X_pool, n_instances=samples_per_iter) # Bestimmt die nächsten 5 Datenpunkte durch das Committee\n",
    "    \n",
    "    # Fügt die neuen Datenpunkte + Labels zu den Trainingsdaten hinzu und trainiert die Modelle erneut. \n",
    "    ensemble.teach(\n",
    "        X=X_pool[query_idxs],\n",
    "        y=y_pool[query_idxs],\n",
    "    )\n",
    "    \n",
    "    # Evaluieret die aktuelle Genauigkeit auf den Testdaten\n",
    "    performance.append(mean_absolute_error(y_test, ensemble.predict(X_test))) \n",
    "    \n",
    "    #Entfernt die gelabelten Trainingsdaten aus dem Datenpool\n",
    "    X_pool = np.delete(X_pool, query_idxs, axis=0)\n",
    "    y_pool = np.delete(y_pool, query_idxs)\n",
    "X_pool_left_max_sampling = X_pool.copy()"
   ]
  },
  {
   "cell_type": "markdown",
   "id": "5ba69196",
   "metadata": {},
   "source": [
    "### 5. Evaluation: Vergleich mit zufälliger Auswahlstrategie <a id=\"Evaluation:-Vergleich-mit-zufälliger-Auswahlstrategie\"></a>\n",
    "\n",
    "Um beurteilen zu können wie gut die gewählte Stretegie ist, führen wir das selbe Experiment erneut durch, nur diesmal wählen wir in jedem Schritt zufällige Datenpunkte.\n",
    "\n",
    "Dazu definieren wir uns zunächst unsere eigene Querry-Strategie. Diese permutiert die übrigen Daten im Pool in eine beliebige Reihenfolge und gibt dann die ersten `n_instances` zurück."
   ]
  },
  {
   "cell_type": "code",
   "execution_count": 6,
   "id": "59eac3fd",
   "metadata": {},
   "outputs": [],
   "source": [
    "def random_sampling(comittee, X, n_instances=1):\n",
    "    idxs = np.random.permutation(X.shape[0])[:n_instances]\n",
    "    return idxs, X[idxs]"
   ]
  },
  {
   "cell_type": "markdown",
   "id": "f1b67d06",
   "metadata": {},
   "source": [
    "Um sicherzugehen, dass wir die selbe Ausgangssituation wie im obigen Experiment haben initialisieren wir den Datenpool erneut."
   ]
  },
  {
   "cell_type": "code",
   "execution_count": 7,
   "id": "127d6970",
   "metadata": {},
   "outputs": [],
   "source": [
    "X_pool, y_pool = X_dev.copy(), y_dev.copy()"
   ]
  },
  {
   "cell_type": "markdown",
   "id": "39793de5",
   "metadata": {},
   "source": [
    "Wir initialiseren erneut ein CommitteeRegressor, nur diesmal mit der von uns definierten Strategie `random_sampling` als `query_strategy`."
   ]
  },
  {
   "cell_type": "code",
   "execution_count": 8,
   "id": "64477a72",
   "metadata": {},
   "outputs": [],
   "source": [
    "# Erstellt eine Liste von ActiveLearner-Objekten, die wir in unserem Ensemble verwenden wollen.\n",
    "learner_list = [\n",
    "    ActiveLearner(\n",
    "        estimator=Regressor(random_state=42) if hasattr(Regressor.__init__, 'random_state') else Regressor(),\n",
    "        X_training=X_pool[init_idx],\n",
    "        y_training=y_pool[init_idx], # Zielwert der Trainingsdaten\n",
    "        bootstrap_init=False, # Nutze Bootstraping um zusätzliche Variation zwischen den Modellen zu erzeugen\n",
    "    )\n",
    "    for Regressor in regression_algo_list\n",
    "    ]\n",
    "\n",
    "#Entfernt die initialen Trainingsdaten aus dem Datenpool, damit diese nicht doppelt ausgewählt werden.\n",
    "X_pool = np.delete(X_pool, init_idx, axis=0)\n",
    "y_pool = np.delete(y_pool, init_idx)\n",
    "\n",
    "# Erzeugt ein CommitteeRegressor Objekt, das die ActiveLearner Objekte enthält.\n",
    "ensemble_random = CommitteeRegressor(\n",
    "    learner_list=learner_list,\n",
    "    query_strategy=random_sampling # Legt als Auswahlkriterium die von uns definierte Funktion fest.\n",
    ")"
   ]
  },
  {
   "cell_type": "markdown",
   "id": "9a0894ef",
   "metadata": {},
   "source": [
    "Wir durchlaufen den selben Active Learning Cycle und evaluieren erneut in jeder Iteration das aktuelle Ensemble und speichern dessen MAE."
   ]
  },
  {
   "cell_type": "code",
   "execution_count": 9,
   "id": "54055b35",
   "metadata": {},
   "outputs": [
    {
     "name": "stdout",
     "output_type": "stream",
     "text": [
      "Query no. 50 of 50\r"
     ]
    }
   ],
   "source": [
    "performance_random = [mean_absolute_error(y_test, ensemble_random.predict(X_test))]\n",
    "\n",
    "np.random.seed(42)\n",
    "for idx in range(1, n_queries+1):\n",
    "    print(f\"Query no. {idx} of {n_queries}\", end=\"\\r\")\n",
    "    # Query the unlabeled points, select the five most uncertain\n",
    "    query_idxs, query_instances = ensemble_random.query(X_pool, n_instances=samples_per_iter) # Bestimmt die nächsten 5 Datenpunkte durch das Committee\n",
    "    ensemble_random.teach(\n",
    "        X=X_pool[query_idxs],\n",
    "        y=y_pool[query_idxs]\n",
    "    )\n",
    "    performance_random.append(mean_absolute_error(y_test, ensemble_random.predict(X_test)))\n",
    "    X_pool = np.delete(X_pool, query_idxs, axis=0)\n",
    "    y_pool = np.delete(y_pool, query_idxs)\n",
    "X_pool_left_random = X_pool.copy()"
   ]
  },
  {
   "cell_type": "markdown",
   "id": "d0a214c2",
   "metadata": {},
   "source": [
    "Zum Vergleich plotten wir die Genauigkeit der beiden finalen Ensembles."
   ]
  },
  {
   "cell_type": "code",
   "execution_count": 10,
   "id": "e08c5389",
   "metadata": {},
   "outputs": [
    {
     "data": {
      "image/png": "[encoded data removed]",
      "text/plain": [
       "<Figure size 640x480 with 1 Axes>"
      ]
     },
     "metadata": {},
     "output_type": "display_data"
    }
   ],
   "source": [
    "# plot the results\n",
    "plt.plot(np.arange(init_train_size, samples_per_iter*n_queries+init_train_size+1, samples_per_iter), performance_random, label='random')\n",
    "plt.plot(np.arange(init_train_size, samples_per_iter*n_queries+init_train_size+1, samples_per_iter), performance, label='max std')\n",
    "plt.ylabel('MAE')\n",
    "plt.xlabel('#Gelabelter Daten')\n",
    "plt.legend(title=\"Strategie\")\n",
    "plt.grid()\n",
    "plt.show()"
   ]
  },
  {
   "cell_type": "markdown",
   "id": "76c034b7",
   "metadata": {},
   "source": [
    "Je nach verwendetetem `random_state` kann es zu unterschiedlichen Ergebnissen kommen. Allerdings lässt sich im Allgemeinen feststellen, dass die Auswahl der Datenpunkte auf Basis der größten Standardabweichung in den Modellvorhersagen einen positiven Einfluss auf die Genauigkeit des Ensembles hat. Das Modell konvergiert schneller und interessanterweise tritt Overfitting erst deutlich später im Vergleich zur zufälligen Auswahl der Datenpunkte auf. Es ist jedoch wichtig zu beachten, dass dieses Verhalten nicht bei allen untersuchten Datensätzen festgestellt wurde, sodass diese Strategie nicht immer empfohlen werden kann. Um Active Learning effektiv einzusetzen, ist es wichtig, geeignete Modelle auszuwählen, einen angemessenen initialen Trainingsdatensatz zu verwenden und eine passende Sampling-Strategie zu wählen."
   ]
  }
 ],
 "metadata": {
  "kernelspec": {
   "display_name": "Python 3 (ipykernel)",
   "language": "python",
   "name": "python3"
  },
  "language_info": {
   "codemirror_mode": {
    "name": "ipython",
    "version": 3
   },
   "file_extension": ".py",
   "mimetype": "text/x-python",
   "name": "python",
   "nbconvert_exporter": "python",
   "pygments_lexer": "ipython3",
   "version": "3.9.18"
  }
 },
 "nbformat": 4,
 "nbformat_minor": 5
}
