{
 "cells": [
  {
   "cell_type": "markdown",
   "metadata": {},
   "source": [
    "[![Open in Colab](https://colab.research.google.com/assets/colab-badge.svg)](https://colab.research.google.com/github//IIS-KI-Tutorials/KI-Tutorials/blob/main/active-learning/4_Interaktiver_Active_Learning_Cycle_mit_Superintendent.ipynb)"
   ]
  },
  {
   "cell_type": "markdown",
   "metadata": {},
   "source": [
    "# Interactives Labeling mit Superintendent\n",
    "Bisher sind wir in unseren Beispielen immer davon ausgegangen, dass man eine Art Orakel hat, welches einem das Label für einen Datenpunkt verrät. Meist existiert ein solches Orakel jedoch nicht und man muss selber als Mensch das richtige Label bestimmen.  Wie dieser \"human -in-the-loop\" Ansatz konkret aussehen und effizient umgesetzt werden kann, zeigt dieses Beispiel. Mit Hilfe der Bibliothek Superintendent lässt sich mit nur wenig Code ein interactives Widget zur Umsetzung des Activ Learning Cylces erzeugen. Als Beispielaufgabe wählen wir die Klassifikation der Ziffern von 0, 1, 2 und 3 auf dem MNIST Datensatz. Ziel ist es, die jeweilige handgeschriebene Ziffer korrekt zu erkennen.\n",
    "\n",
    "## Inhaltsverzeichnis\n",
    "1. [Imports](#Imports)\n",
    "2. [Laden der Daten](#Laden-der-Daten)\n",
    "3. [Initialisiere Widget](#Initialisiere-Widget)\n",
    "4. [Integriere Widget in Active Learning Cycle](#Integriere-Widget-in-Active-Learning-Cycle)"
   ]
  },
  {
   "cell_type": "markdown",
   "metadata": {},
   "source": [
    "### 1. Imports <a id='Imports'></a>\n",
    "Neben den gängigen Python-Bibliotheken wie `numpy` und `pandas` sind in diesem Code insbesondere die Bibliotheken `sklearn`, `ipyannotations` und `superintendent` von Bedeutung. Wir nutzen `sklearn`, um Daten von OpenML mit `fetch_openml` zu laden und sie vorab mit `zoom` aus `scipy.ndimage` neu zu skalieren.\n",
    "\n",
    "Die `ClassLabeller`-Klasse aus `ipyannotations.generic` stellt uns ein grundlegendes Widget zur Verfügung, mit dem wir Daten labeln können. Durch die Integration von `Superintendent` wird die Funktionalität dieses Widgets erweitert, um Active Learning verwenden zu können. Wir importieren auch das Modul `pickle`, um später unser Modell exportieren zu können. Um die Benutzerfreundlichkeit im Widget sicherzustellen, werden Warnungen mit `filterwarnings` unterdrückt."
   ]
  },
  {
   "cell_type": "code",
   "execution_count": 1,
   "metadata": {},
   "outputs": [],
   "source": [
    "from ipyannotations.generic import ClassLabeller\n",
    "import matplotlib.pyplot as plt\n",
    "import numpy as np\n",
    "import pickle\n",
    "from scipy.ndimage import zoom\n",
    "from sklearn.datasets import fetch_openml\n",
    "from sklearn.linear_model import LogisticRegression\n",
    "from sklearn.svm import SVC\n",
    "from superintendent import Superintendent\n",
    "from warnings import filterwarnings\n",
    "filterwarnings(\"ignore\")"
   ]
  },
  {
   "cell_type": "markdown",
   "metadata": {},
   "source": [
    "### 2. Laden der Daten <a id='Laden-der-Daten'></a>\n",
    "<!--\n",
    "Die Daten beziehen wir mit Hilfe der `sklearn.datasets.fetch_openml` Funktion von [OpenML](https://www.openml.org/search?type=data&status=active&id=554).\n",
    "Da wir ein recht simples Modell verwenden werden, skalieren wir die Daten von 28x28 auf 14x14 Pixel.\n",
    "Zudem beschränken wir die Menge der Daten auf insgesamt 200 Bilder der Ziffern 0, 1, 2 und 3.\n",
    "-->\n",
    "\n",
    "Wir greifen auf die Daten mithilfe der `sklearn.datasets.fetch_openml`-Funktion von [OpenML](https://www.openml.org/search?type=data&status=active&id=554) zu. Da wir ein recht simples Modell verwenden, skalieren wir die Daten von 28x28 auf 14x14 Pixel herunter. Darüber hinaus beschränken wir die Datenauswahl auf insgesamt 200 Bilder, die die Ziffern 0, 1, 2 und 3 repräsentieren."
   ]
  },
  {
   "cell_type": "code",
   "execution_count": 2,
   "metadata": {},
   "outputs": [
    {
     "name": "stdout",
     "output_type": "stream",
     "text": [
      "X.shape=(200, 14, 14)\ty_true.shape=(200,)\n"
     ]
    }
   ],
   "source": [
    "X, y_true = fetch_openml('mnist_784', parser='auto', return_X_y=True, as_frame=False) #Download MNIST von OpenML\n",
    "X = zoom(X.reshape(-1,28,28), (1,0.5,0.5)) #Reskaliert die Bilder von 28x28 zu 14x14\n",
    "idx = np.where(y_true.astype(int) <= 3) # Bestimmt die Indizes für Bilder mit dem Label 0, 1, 2 oder 3\n",
    "X, y_true = X[idx], y_true[idx] # Selektiert die Daten auf Instanzen der Ziffern 0, 1, 2 und 3\n",
    "X, y_true = X[:200], y_true[:200] # Reduziert die Menge der Daten auf 200 Datenpunkte\n",
    "print(f\"{X.shape=}\\t{y_true.shape=}\")"
   ]
  },
  {
   "cell_type": "markdown",
   "metadata": {},
   "source": [
    "### 3. Initialisiere Widget <a id='Initialisiere-Widget'></a>\n",
    "Das Widget zum Labeln der Daten wird durch die Bibliothek `ipyannotations` bereitstellt und kann bereits auch als alleinstehendes Widget verwendet werden. `Superintendent` erweitert das Widget später lediglich um ein Modell und eine Sampling Strategie, und integriert so den Active Learning Cycle in das Widget.\n",
    "\n",
    "Wir definieren vorab eine Methode zur Visualisierung eines einzelnen Datenpunkts und erzeugen damit eine Instanz der Klasse `ipyannotations.generic.ClassLabeller`."
   ]
  },
  {
   "cell_type": "code",
   "execution_count": 3,
   "metadata": {},
   "outputs": [],
   "source": [
    "def plot_mnist(x):\n",
    "    'Plottet ein Bild aud dem Datensatz MNIST'\n",
    "    plt.figure(figsize=(3,3))\n",
    "    plt.axis('off')\n",
    "    plt.imshow(x, cmap=\"Greys_r\")\n",
    "    plt.show()\n",
    "\n",
    "# Erzeugt das Widget\n",
    "annotation_widget = ClassLabeller(\n",
    "    options=range(4), # Liste alle Klassenlabels\n",
    "    display_function=plot_mnist,\n",
    "    allow_freetext=False\n",
    ")"
   ]
  },
  {
   "cell_type": "markdown",
   "metadata": {},
   "source": [
    "### 4. Integriere Widget in Active Learning Cycle <a id='#Integriere-Widget-in-Active-Learning-Cycle'></a>\n",
    "Um eine Instanz der Klasse `Superintendent` zu erzeugen benötigen wir:\n",
    "- die ungelabelten Daten\n",
    "- ein Model, welches die Kriterien eines sklearn.BaseEstimator erfüllt\n",
    "- ein Widget (hier empfiehlt es sich `ipyannotations.generic.ClassLabeller` zu verwenden)\n",
    "- eine Funktion zur Bestimmung der Reihenfolge in welcher die Daten gelabelt werden sollen (alternativ per String eine vorimplementierte Funktion)\n",
    "- optional eine Methode für die Vorverarbetung der Datenpunkte "
   ]
  },
  {
   "cell_type": "code",
   "execution_count": 4,
   "metadata": {},
   "outputs": [
    {
     "data": {
      "application/vnd.jupyter.widget-view+json": {
       "model_id": "af8a945ebf1d48b194b4007210d379e1",
       "version_major": 2,
       "version_minor": 0
      },
      "text/plain": [
       "Superintendent(children=(HBox(children=(HBox(children=(FloatProgress(value=0.0, description='Progress:', max=1…"
      ]
     },
     "execution_count": 4,
     "metadata": {},
     "output_type": "execute_result"
    }
   ],
   "source": [
    "model = SVC(\n",
    "    kernel=\"linear\",\n",
    "    probability=True\n",
    ")\n",
    "\n",
    "def preprocess_mnist(x, y):\n",
    "    return x.reshape(-1, 196), y\n",
    "\n",
    "data_labeller = Superintendent(\n",
    "    features=X,\n",
    "    model=model,\n",
    "    labelling_widget=annotation_widget,\n",
    "    model_preprocess=preprocess_mnist, \n",
    "    acquisition_function='entropy',\n",
    ")\n",
    "\n",
    "data_labeller"
   ]
  },
  {
   "cell_type": "markdown",
   "metadata": {},
   "source": [
    "Man muss zunächst ein paar Instanzen labeln bevor man ein erstes Model trainieren kann. Nach dem ersten Training werden dann die verbleibenden Daten (Bilder) entsprechend dem gewählten Entscheidungskriterium (hier: Entropy) sortiert und zum labeln angezeigt. Man kann per Klick auf `Retrain` jeder Zeit das Model neu trainieren. Wenn man sich selber nicht ganz sicher ist, um welche Ziffer es sich handeln soll kann man auch mit `Skip`  einzelne Beispiele überspringen. Mit `Undo` wird das Label für das letzte gelabelte Bild wieder zurückgesetzt. `Sort options` hat standardmäßig erstmal keine Funktion. <br> Der angezeigte Score wird durch eine 3-fold cross validation auf den bereits gelabelten Daten bestimmt.\n",
    "Ist man mit dem Ergebnis zufrieden oder man hat alle Daten gelabelt, kann man das trainierte Model direkt weiter verwenden oder mit `pickle` exportieren. Außerdem sind die Labels in dem Attribut `new_labels` gespeichert und können exportiert werden."
   ]
  },
  {
   "cell_type": "code",
   "execution_count": 5,
   "metadata": {},
   "outputs": [
    {
     "data": {
      "text/plain": [
       "array([ 0.,  1.,  2.,  1.,  3.,  1., nan, nan, nan, nan, nan,  1.,  1.,\n",
       "       nan,  3., nan,  3., nan, nan, nan, nan, nan, nan, nan, nan, nan,\n",
       "       nan,  1., nan, nan, nan, nan, nan, nan, nan,  1., nan, nan,  2.,\n",
       "       nan, nan, nan, nan, nan, nan, nan, nan, nan, nan, nan,  3.,  1.,\n",
       "       nan, nan, nan, nan, nan, nan, nan, nan, nan, nan, nan,  1.,  3.,\n",
       "       nan,  2., nan, nan, nan,  3., nan,  2., nan, nan, nan, nan, nan,\n",
       "        3., nan, nan,  1., nan,  2., nan, nan, nan, nan, nan, nan,  3.,\n",
       "       nan, nan,  3., nan, nan, nan, nan, nan, nan, nan, nan, nan, nan,\n",
       "       nan, nan,  0., nan, nan, nan, nan,  0., nan, nan, nan, nan, nan,\n",
       "       nan, nan, nan, nan, nan, nan, nan, nan, nan, nan, nan,  3., nan,\n",
       "       nan, nan, nan, nan, nan, nan, nan,  1.,  1., nan, nan, nan, nan,\n",
       "       nan, nan, nan, nan, nan,  2.,  3., nan, nan, nan, nan, nan, nan,\n",
       "        1., nan,  2.,  3., nan, nan, nan, nan, nan,  1.,  2.,  2., nan,\n",
       "        3., nan, nan, nan, nan, nan, nan, nan, nan, nan,  1., nan, nan,\n",
       "       nan, nan, nan, nan, nan, nan, nan, nan, nan, nan, nan, nan, nan,\n",
       "        1., nan,  2., nan, nan])"
      ]
     },
     "execution_count": 5,
     "metadata": {},
     "output_type": "execute_result"
    }
   ],
   "source": [
    "# # Speichert das Model als binäre Datei in ein File\n",
    "with open(\"emit/mnist_model.pkl\", \"wb\") as f:\n",
    "    f.write(pickle.dumps(data_labeller.model))\n",
    "\n",
    "# Exportiert die Labels aus dem Widget\n",
    "y = np.array([int(i) if isinstance(i, str) else np.nan for i in data_labeller.new_labels])\n",
    "np.save(\"emit/mnist_y.npy\", y)\n",
    "y"
   ]
  }
 ],
 "metadata": {
  "kernelspec": {
   "display_name": "Python 3 (ipykernel)",
   "language": "python",
   "name": "python3"
  },
  "language_info": {
   "codemirror_mode": {
    "name": "ipython",
    "version": 3
   },
   "file_extension": ".py",
   "mimetype": "text/x-python",
   "name": "python",
   "nbconvert_exporter": "python",
   "pygments_lexer": "ipython3",
   "version": "3.9.18"
  }
 },
 "nbformat": 4,
 "nbformat_minor": 4
}
