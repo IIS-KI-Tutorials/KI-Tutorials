{
 "cells": [
  {
   "cell_type": "markdown",
   "metadata": {},
   "source": [
    "# Get started\n",
    "1. [![Open in Colab](https://colab.research.google.com/assets/colab-badge.svg)](https://colab.research.google.com/github//IIS-KI-Tutorials/KI-Tutorials/blob/main/active-learning/2_Klassifikation_mit_ScikitActiveML.ipynb)\n",
    "2. Klicke auf Laufzeit > Laufzeittyp ändern > T4 GPU > Ändern\n",
    "3. Führe die folgende Zelle aus, um benötigte Requirements zu installieren. Klicke anschließend auf \"Restart Session\"."
   ]
  },
  {
   "cell_type": "code",
   "execution_count": null,
   "metadata": {},
   "outputs": [],
   "source": [
    "!pip install scikit-activeml"
   ]
  },
  {
   "cell_type": "markdown",
   "metadata": {},
   "source": [
    "4. Führe die nächste Zelle aus, um die benötigten Daten in die Session zu laden."
   ]
  },
  {
   "cell_type": "code",
   "execution_count": null,
   "metadata": {},
   "outputs": [],
   "source": [
    "!wget -P ./data https://raw.githubusercontent.com/IIS-KI-Tutorials/KI-Tutorials/main/data/Cancer/data_dev.csv\n",
    "!wget -P ./data https://raw.githubusercontent.com/IIS-KI-Tutorials/KI-Tutorials/main/data/Cancer/data_test.csv"
   ]
  },
  {
   "cell_type": "markdown",
   "metadata": {},
   "source": [
    "-------------AB HIER BEGINNT DAS EIGENTLICHE NOTEBOOK--------------------"
   ]
  },
  {
   "cell_type": "markdown",
   "metadata": {},
   "source": [
    "# Klassifikation mit Scikit ActiveML \n",
    "\n",
    "In diesem Beispiel befassen wir uns mit der Klassifizierung von Brustkrebs. Der Labelingprozess für Brustkrebsdiagnosen erfordert Expertenwissen und ist zeitaufwendig. Daher möchten wir Active Learning nutzen, um die Kosten und den Zeitaufwand für das Labeling zu reduzieren. Active Learning ermöglicht es uns, intelligent die informativsten Proben für das Labeling auszuwählen, wodurch der Bedarf an gelabelten Daten verringert wird.\n",
    "\n",
    "\n",
    "## Inhaltsverzeichnis\n",
    "1. [Imports](#Imports)\n",
    "2. [Laden der Daten](#Laden-der-Daten)\n",
    "3. [Initialisierung](#Initialisierung-des-Modells)\n",
    "4. [Umsetzung des Active Learning Cycles](#Umsetzung-des-Active-Learning-Cycles)\n",
    "5. [Evaluation](#Evaluation)\n",
    "\n",
    "\n",
    "## 1. Imports <a id='Imports'></a>\n",
    "\n",
    "Die Python-Bibliotheken `pandas` und `numpy` finden Anwendung beim Laden und Verarbeiten von Daten. Zur Erstellung von Visualisierungen bedienen wir uns der Bibliothek `matplotlib`. Für die Umsetzung von Klassifikationsaufgaben verwenden wir eine Support Vector Machine (`SVC` aus der `sklearn`-Bibliothek).\n",
    "\n",
    "Spezifische Funktionen, die im Kontext des Active Learning gebraucht werden, werden aus dem Modul `skactiveml` bezogen. Konkret importieren wir die Klasse `SklearnClassifier` aus dem Modul `skactiveml.classifier`. Diese dient als Erweiterung eines Sklearn-Klassifikators und ermöglicht eine nahtlose Einbindung in den Active Learning-Prozess.\n",
    "\n",
    "Die Implementierung des Auswahlstrategie wird durch die Klasse `UncertaintySampling` aus `skactiveml.pool` zur Verfügung gestellt. Zusätzlich nutzen wir die Funktionen `unlabeled_indices` und `MISSING_LABEL` aus dem Modul `skactiveml.utils`, um mit fehlenden Labels umzugehen."
   ]
  },
  {
   "cell_type": "code",
   "execution_count": 1,
   "metadata": {},
   "outputs": [],
   "source": [
    "import pandas as pd\n",
    "import numpy as np\n",
    "import matplotlib.pyplot as plt\n",
    "\n",
    "from sklearn.svm import SVC\n",
    "\n",
    "from skactiveml.pool import UncertaintySampling\n",
    "from skactiveml.utils import unlabeled_indices, MISSING_LABEL\n",
    "from skactiveml.classifier import SklearnClassifier\n",
    "\n",
    "from warnings import filterwarnings\n",
    "filterwarnings(\"ignore\")"
   ]
  },
  {
   "cell_type": "markdown",
   "metadata": {},
   "source": [
    "## 2. Laden der Daten <a id=Laden-der-Daten></a>\n",
    "Die Daten stammen aus dem [UCI Machine Learning Repository](https://archive.ics.uci.edu/dataset/17/breast+cancer+wisconsin+diagnostic) und sind als \"Breast Cancer Wisconsin (Diagnostic) Dataset\" bekannt. Sie enthalten Informationen zu verschiedenen Merkmalen von Brustgewebeproben und die Zielvariable gibt an, ob ein Tumor gutartig (benign) oder bösartig (malignant) ist.\n",
    "Die Daten wurden bereits vorab normalisiert und in Entwicklungs- und Testdaten unterteilt.\n",
    "\n",
    "Die tatsächlichen Labels werden in der Variable `y_true` gespeichert. Bitte beachten Sie, dass in einem realen Szenario diese Labels nicht verfügbar wären. Zusätzlich wird die Variable `y` als leeres Array mit derselben Größe initialisiert und wird nach und nach mit den im Active Learning Cycle bestimmten Labels befüllt."
   ]
  },
  {
   "cell_type": "code",
   "execution_count": 2,
   "metadata": {},
   "outputs": [],
   "source": [
    "data_dev = pd.read_csv(\"./data/cancer/data_dev.csv\")\n",
    "data_test = pd.read_csv(\"./data/cancer/data_test.csv\")\n",
    "\n",
    "X = data_dev.drop(columns=['label'])\n",
    "y_true = data_dev['label']\n",
    "y = np.full(shape=y_true.shape, fill_value=MISSING_LABEL)\n",
    "\n",
    "X_test = data_test.drop(columns=['label'])\n",
    "y_test = data_test['label'] "
   ]
  },
  {
   "cell_type": "markdown",
   "metadata": {},
   "source": [
    "## 3. Initialisierung <a id=\"Initialisierung-des-Modells\"></a>\n",
    "\n",
    "Um einen Klassifikator zu initialisieren, erstellen wir eine Instanz der Klasse `SklearnClassifier`. Diese benötigt einen Sklearn-Estimator, die Namen der möglichen verschiedenen Klassen und optional noch einen random_state, damit dsa Experiment reproduzierbar ist.\n",
    "\n",
    "Für unser Beispiel verwenden wir den SVC (Support Vector Classifier) von sklearn als Estimator und die Klassen aus den tatsächlichen Labels `y_true` als Namen der möglichen verschiedenen Klassen."
   ]
  },
  {
   "cell_type": "code",
   "execution_count": 3,
   "metadata": {},
   "outputs": [],
   "source": [
    "clf = SklearnClassifier(\n",
    "    estimator=SVC(probability=True), \n",
    "    classes=np.unique(y_true),\n",
    "    random_state=42\n",
    ")"
   ]
  },
  {
   "cell_type": "markdown",
   "metadata": {},
   "source": [
    "Als nächstes initialsieren wir unser Entscheidungskriterium (Query Strategie), nach welchem die Datenpunkte ausgewählt werden. Dazu initialiseren wir eine Instanz der Klasse `UncertaintySampling` und übergeben als String die gewünschte Methode. Zur Auswahl stehen `entropy`, `least_confident`, `margin_sampling` und `expected_average_precision`."
   ]
  },
  {
   "cell_type": "code",
   "execution_count": 4,
   "metadata": {},
   "outputs": [],
   "source": [
    "qs = UncertaintySampling(method='entropy')"
   ]
  },
  {
   "cell_type": "markdown",
   "metadata": {},
   "source": [
    "## 4. Umsetzung des Active Learning Cycles <a id=\"Umsetzung-des-Active-Learning-Cycles\"></a>\n",
    "\n"
   ]
  },
  {
   "cell_type": "markdown",
   "metadata": {},
   "source": [
    "Als initiale Trainingsdaten verwenden wir die ersten 10 Indizes (Kaltstart). Natürlich kennen wir auch die Klassen aller restlichen Datenpunkte, aber wir tun nun so, als würden wir nur die Label der ersten 10 Datenpunkte kennen."
   ]
  },
  {
   "cell_type": "code",
   "execution_count": 5,
   "metadata": {},
   "outputs": [
    {
     "data": {
      "text/plain": [
       "array([ 0.,  1.,  0.,  1.,  0.,  1.,  1.,  1.,  1.,  1., nan, nan, nan,\n",
       "       nan, nan, nan, nan, nan, nan, nan, nan, nan, nan, nan, nan, nan,\n",
       "       nan, nan, nan, nan])"
      ]
     },
     "execution_count": 5,
     "metadata": {},
     "output_type": "execute_result"
    }
   ],
   "source": [
    "y[:10] = y_true[:10]\n",
    "y[:30] # Zeigt die ersten 30 Labels an"
   ]
  },
  {
   "cell_type": "markdown",
   "metadata": {},
   "source": [
    "Wir implementieren den Active Learning Cycle mithilfe einer FOR-Schleife, die `n_cycles` Iterationen durchläuft. In jeder Iteration erfolgt zuerst das Training eines Modells mit den aktuellen Trainingsdaten, gefolgt von einer Bewertung seiner Leistung anhand der Testdaten. Die Ergebnisse dieser Bewertungen werden in der Liste `performance` gespeichert. Danach nutzen wir unser Entscheidungskriterium, um den Datenpunkt zu identifizieren, der derzeit am unsichersten einer bestimmten Klasse zugeordnet ist. Wir bestimmen das Label für diesen Datenpunkt und fügen ihn den Trainingsdaten hinzu. "
   ]
  },
  {
   "cell_type": "code",
   "execution_count": 6,
   "metadata": {},
   "outputs": [
    {
     "name": "stdout",
     "output_type": "stream",
     "text": [
      "Query no. 140 of 140\r"
     ]
    }
   ],
   "source": [
    "n_cycles = 140\n",
    "performance = []\n",
    "\n",
    "# Active Learning Cycle\n",
    "np.random.seed(42)\n",
    "for cycle in range(n_cycles):\n",
    "    print(f\"Query no. {cycle+1} of {n_cycles}\", end=\"\\r\")\n",
    "    clf.fit(X,y)\n",
    "    performance.append(clf.score(X_test, y_test))\n",
    "    query_idx = qs.query(X=X, y=y, clf=clf, batch_size=1)\n",
    "    y[query_idx] = y_true[query_idx]"
   ]
  },
  {
   "cell_type": "markdown",
   "metadata": {},
   "source": [
    "## 5. Evaluation <a id=\"Evaluation\"></a>\n",
    "Um die von uns gewählte Strategie zu bewerten, vergleichen wir diese mit einer zufälligen Auswahl der Datenpunkte (Random-Strategie).\n"
   ]
  },
  {
   "cell_type": "code",
   "execution_count": 7,
   "metadata": {},
   "outputs": [
    {
     "name": "stdout",
     "output_type": "stream",
     "text": [
      "Query no. 140 of 140\r"
     ]
    }
   ],
   "source": [
    "#Initialisierung des Klassifikators\n",
    "clf_random = SklearnClassifier(\n",
    "    estimator=SVC(probability=True),\n",
    "    classes=np.unique(y_true)\n",
    ")\n",
    "\n",
    "#Initialiserung der Daten\n",
    "y_random = np.full(shape=y_true.shape, fill_value=MISSING_LABEL)\n",
    "y_random[:10] = y_true[:10]\n",
    "\n",
    "#Initialisierung der Performance Liste\n",
    "performance_random = []\n",
    "\n",
    "# Random Learning Cycle\n",
    "np.random.seed(42)\n",
    "for c in range(n_cycles):\n",
    "    print(f\"Query no. {c+1} of {n_cycles}\", end=\"\\r\")\n",
    "    clf_random.fit(X,y_random)\n",
    "    performance_random.append(clf_random.score(X_test, y_test))\n",
    "    query_idx = np.random.choice(unlabeled_indices(y_random), size=1, replace=False) # Zufällige Auswahl eines noch nicht gelabelten Datensatzes\n",
    "    y_random[query_idx] = y_true[query_idx]"
   ]
  },
  {
   "cell_type": "markdown",
   "metadata": {},
   "source": [
    "Zum Vergleich visualisieren wir die Performance der beiden Strategien."
   ]
  },
  {
   "cell_type": "code",
   "execution_count": 8,
   "metadata": {},
   "outputs": [
    {
     "data": {
      "image/png": "[encoded data removed]",
      "text/plain": [
       "<Figure size 1000x500 with 1 Axes>"
      ]
     },
     "metadata": {},
     "output_type": "display_data"
    }
   ],
   "source": [
    "plt.figure(figsize=(10, 5))\n",
    "plt.plot(performance_random, label=\"Random Sampling\")\n",
    "plt.plot(performance, label=\"Uncertainty Sampling\")\n",
    "plt.xlabel(\"Iteration\")\n",
    "plt.ylabel(\"Accuracy\")\n",
    "plt.grid()\n",
    "plt.legend(loc=4)\n",
    "plt.show()"
   ]
  },
  {
   "cell_type": "markdown",
   "metadata": {},
   "source": [
    "Je nach random_state, können die Ergebnisse etwas variieren. Generell lässt sich jedoch beobachten, dass die gewählte Strategie (orange) im Vergleich zur zufälligen Auswahl der Datenpunkte (blau) schneller - das heißt nach weniger Iterationen - zur maximalen Genauigkeit konvergiert. Beim Uncertainty Sampling steigt die Genauigkeit zu Beginn schnell an und bewegt sich bereits nach lediglich 20 Iterationen um ein Niveau von knapp über 96%, ehe ab 80 Iterationen eine stabile Genauigkeit zu beobachten ist. Die zufällige Auswahl-Strategie hingegen erreicht diesen Zustand erst deutlich später.\n",
    "\n",
    "Mit dem trainierten Modell kann nun entweder direkt weitergearbeitet werden, oder man exportiert das Modell mit Hilfe einer Bibliothek wie z.B. pickle. Die bestimmten Labels wurden in der Variable `y` abgespeichert."
   ]
  },
  {
   "cell_type": "code",
   "execution_count": 9,
   "metadata": {},
   "outputs": [
    {
     "data": {
      "text/plain": [
       "array([ 0.,  1.,  0.,  1.,  0.,  1.,  1.,  1.,  1.,  1., nan, nan,  0.,\n",
       "        0., nan, nan, nan, nan, nan, nan, nan,  0., nan, nan, nan, nan,\n",
       "        0., nan,  0., nan, nan, nan, nan, nan,  0., nan, nan, nan,  1.,\n",
       "       nan,  0.,  1., nan, nan, nan, nan,  1.,  1., nan, nan, nan, nan,\n",
       "       nan, nan, nan,  0.,  0., nan, nan, nan, nan, nan, nan, nan, nan,\n",
       "        1., nan, nan, nan,  1.,  0., nan, nan, nan, nan,  1.,  0.,  1.,\n",
       "       nan, nan, nan, nan,  1.,  0.,  1., nan,  0., nan, nan,  0.,  0.,\n",
       "       nan, nan, nan, nan, nan,  0., nan,  0., nan,  0., nan, nan, nan,\n",
       "        0.,  1.,  0., nan, nan,  0., nan, nan, nan,  1., nan, nan, nan,\n",
       "       nan, nan, nan, nan, nan, nan, nan, nan, nan, nan, nan, nan,  0.,\n",
       "       nan,  1.,  0.,  1., nan, nan,  1.,  0.,  1., nan, nan,  0.,  1.,\n",
       "        1.,  0.,  0., nan, nan, nan, nan, nan,  1., nan, nan,  0.,  1.,\n",
       "       nan, nan, nan,  1., nan,  1., nan, nan, nan,  1., nan, nan, nan,\n",
       "       nan, nan, nan, nan,  1., nan, nan,  0., nan, nan,  1.,  1., nan,\n",
       "        1., nan,  0., nan, nan, nan,  1.,  1., nan, nan, nan, nan,  1.,\n",
       "       nan, nan,  0., nan, nan,  1., nan, nan, nan, nan, nan, nan, nan,\n",
       "       nan, nan,  1., nan,  0.,  1.,  1.,  1.,  1.,  1., nan, nan,  1.,\n",
       "       nan, nan,  0.,  1.,  1.,  0., nan,  0., nan, nan,  1., nan,  1.,\n",
       "        1., nan,  0., nan, nan, nan,  1.,  0., nan, nan, nan, nan, nan,\n",
       "       nan, nan,  0., nan, nan,  1., nan,  1.,  1., nan, nan,  1.,  0.,\n",
       "       nan, nan,  1., nan, nan, nan,  0., nan, nan, nan, nan, nan, nan,\n",
       "        1., nan, nan, nan, nan, nan, nan, nan, nan, nan, nan, nan,  0.,\n",
       "       nan, nan, nan, nan, nan, nan, nan,  1.,  1., nan, nan,  0., nan,\n",
       "       nan,  1., nan,  1., nan, nan,  0.,  1.,  1., nan,  1.,  1.,  1.,\n",
       "       nan, nan,  1.,  0.,  1., nan, nan, nan, nan,  0., nan,  0., nan,\n",
       "        1., nan,  1., nan, nan, nan, nan, nan, nan,  1., nan, nan, nan,\n",
       "        1.,  0., nan,  1., nan,  1., nan, nan,  1., nan,  1., nan, nan,\n",
       "       nan, nan,  0.,  0., nan, nan, nan,  1., nan, nan,  1.,  1.,  1.,\n",
       "        1., nan, nan, nan, nan, nan, nan, nan, nan, nan, nan, nan, nan,\n",
       "        0., nan, nan,  0., nan, nan, nan,  0.,  0., nan, nan, nan, nan,\n",
       "       nan, nan,  1.,  0.,  0.,  1., nan, nan, nan, nan, nan,  0., nan,\n",
       "       nan, nan,  1.,  1., nan,  0.,  1., nan, nan,  1., nan,  0., nan,\n",
       "       nan, nan, nan, nan, nan, nan, nan,  1., nan,  1.])"
      ]
     },
     "execution_count": 9,
     "metadata": {},
     "output_type": "execute_result"
    }
   ],
   "source": [
    "y"
   ]
  }
 ],
 "metadata": {
  "kernelspec": {
   "display_name": "Python 3 (ipykernel)",
   "language": "python",
   "name": "python3"
  },
  "language_info": {
   "codemirror_mode": {
    "name": "ipython",
    "version": 3
   },
   "file_extension": ".py",
   "mimetype": "text/x-python",
   "name": "python",
   "nbconvert_exporter": "python",
   "pygments_lexer": "ipython3",
   "version": "3.9.18"
  }
 },
 "nbformat": 4,
 "nbformat_minor": 4
}
