{
 "cells": [
  {
   "cell_type": "markdown",
   "metadata": {},
   "source": [
    "# Active Learning Tutorials\n",
    "\n",
    "## Get started in Colab\n",
    "1. Klicke auf [![Open in Colab](https://colab.research.google.com/assets/colab-badge.svg)](https://colab.research.google.com/github//IIS-KI-Tutorials/KI-Tutorials/blob/main/Active_Learning_Tutorials.ipynb) um dieses Notebook als Session in Colab zu starten.\n",
    "<br/>------In Colab------------------------------------------------------------------------\n",
    "2. Führe die nächste Zelle aus um die benötigten Daten in die Session zu laden und um benötigte Requirements zu installieren.\n",
    "3. Klicke anschließend im Output der Zelle auf \"**Restart Session**\"."
   ]
  },
  {
   "cell_type": "code",
   "execution_count": null,
   "metadata": {
    "vscode": {
     "languageId": "plaintext"
    }
   },
   "outputs": [],
   "source": [
    "!wget -P ./data https://raw.githubusercontent.com/IIS-KI-Tutorials/KI-Tutorials/main/data/Cancer/data_dev.csv\n",
    "!wget -P ./data https://raw.githubusercontent.com/IIS-KI-Tutorials/KI-Tutorials/main/data/Cancer/data_test.csv\n",
    "!pip install modal scikit-activeml ipyannotations superintendent"
   ]
  },
  {
   "cell_type": "markdown",
   "metadata": {},
   "source": [
    "-------------AB HIER BEGINNEN DIE EIGENTLICHEN TUTORIALS--------------------\n",
    "\n",
    "## Inhaltsverzeichnis\n",
    "1. **Grundlagen von Active Learning** <br/><br/>\n",
    "Was ist Active Learning? Warum und wann sollte ich es nutzen? Wie funktioniert Active Learning? Welche Tool gibt es in Python für Active Learning?\n",
    "<br/><br/>\n",
    "\n",
    "2. **Klassifikation tabellarischer Daten mit Scikit ActiveML**<br/><br/>\n",
    "Beispiel zur Klassifizierung von Brustkrebs mit tabellarischen Daten und Einfühung in den Active Learning Framework Scikit ActiveML.<br/><br/>\n",
    "3. **Regression tabellarischer Daten in modAL**<br/><br/>\n",
    "Einführung in den Framework modAL und zeigt anhand einem Toy-Dataset auf welche Besonderheiten bei Regressionsproblem im Kontext von Active LEarning berücksichtigt werden müssen. <br/><br/>\n",
    "4. **Interaktive Implementierung des Active Learning Cycles mit Superintendent**<br/><br/>\n",
    "Einfaches Beispiel zur Umsetzung von Active Learning in einer interactiven Umgebung. "
   ]
  },
  {
   "cell_type": "markdown",
   "metadata": {},
   "source": [
    "## 1. Grundlagen von Active Learning\n",
    "\n",
    ">Die Grundidee von Active Learning besteht darin, dass ein maschineller Lernalgorithmus mit weniger Trainingsaufwand bessere Leistungen erbringen kann, wenn er die Daten, aus denen er lernt, selbst auswählen kann.\n",
    "\n",
    "Active Learning ist eine wirkungsvolle Methode im Bereich des maschinellen Lernens, die darauf abzielt, den Aufwand für das Labeln von Daten zu reduzieren, ohne die Vorhersagequalität der Modelle zu beeinträchtigen. Diese Technik wird insbesondere dann eingesetzt, wenn die Kosten für das Labeling großer Datenmengen sehr hoch sind.\n",
    "\n",
    "### Warum Active Learning?\n",
    "Active Learning ist eine äußerst effektive Methode im Bereich des maschinellen Lernens, die aus mehreren Gründen bevorzugt wird:\n",
    "\n",
    "**Kostenersparnis**: In vielen Anwendungen, insbesondere in der Medizin oder im juristischen Bereich, sind Experten notwendig, um Daten zu labeln. Dies ist teuer und zeitaufwändig. Active Learning hilft, diese Kosten zu senken, indem es gezielt die informativsten Datenpunkte zur Labelung auswählt.\n",
    "\n",
    "**Effizienz**: Beim herkömmlichen passiven Lernen, werden vorab viele Datenpunkte gelabelt. Dabei wird vernachlässigt, das einige Datenpunkte in den Daten kaum Mehrwert für die resultierende Modellgenauigkeit liefern, da diese größtenteils redundante Informationen tragen. Beim Active Learning hingegen werden die Daten iterativ gelabelt und meist kann bereits in den ersten Schritten vernünftige Modelle trainiert werden. Dieser Ansatz spart somit Zeit und Rechenressourcen.\n",
    "\n",
    "**Schnelle Anpassung**: In Anwendungsfällen, in denen sich die Datenverteilung im Laufe der Zeit ändert, kann Active Learning dazu verwendet werden, das Modell schnell anzupassen, indem es neue, relevante Datenpunkte in den Trainingsdatensatz aufnimmt.\n",
    "\n",
    "\n",
    "### Der Active Learning Cycle\n",
    "\n",
    "**Terminologie:**<br> Als **Datenpool** wird die Menge aller noch nicht gelabelten Daten bezeichnet. Mit **Trainingsdaten** ist die Menge aller bereits gelabelten Datenpunkte gemeint.\n",
    "\n",
    "1. **Ausgangssituation**: Man hat einen Pool an ungelabelten Daten.\n",
    "2. **Kaltstart**: Man wählt zunächst per Zufall ein paar Datenpunkte und bestimmt deren Klassenzugehörigkeit.\n",
    "3. **Training**: Man trainiert mit den aktuellen Trainingsdaten ein neues Modell. Zu Evaluation kann man auf K-Fold Splitting nutzen. Ist man mit der Genauigkeit des Modells zufrieden, kann man an dieser Stelle aufhören und den Zyklus beenden.\n",
    "4. **Evaluation des Datapool**: Entscheide welcher Datenpunkt als nächstes gelabelt werden soll. Es gibt hier eine ganze Reihe von Kriterien, die als Maßstab verwendet werden können, um den nächsten Datenpunkt zu bestimmen. Die meisten davon bewerten entweder die Ungewissheit des Modells gegenüber des Datenpunkt oder die Diversität des Datenpunkt gegenüber den bestehenden Trainingsdaten. \n",
    "5. **Labeling**: Bestimme die Klasse des neuen Datenpunkts und füge ihn zu den Trainingsdaten hinzu.\n",
    "6. Zurück zu Schritt 3.\n",
    "\n",
    "![ ](./assets/active_learning_de.gif)\n",
    "\n",
    "Die Darstellung illustriert den Active Learning Cycle. Zu sehen ist, wie eine lineare SVM iterativ neu trainiert wird. Dabei wird in jedem Schritt der Datenpunkt aus dem Pool gelabelt, welcher der Entscheidungsgrenze am nächsten liegt und somit am unsichersten einer der beiden Klasse zugeordnet werden kann. Nachdem etwa die Hälfte aller Datenpunkte gelabelt wurde, verändert sich die Entscheidungsgrenze nicht mehr, da alle Supportvektoren und damit alle relevanten Datenpunkte bereits in den Trainingsdaten enthalten sind. Es konnte folglich mit nur der Hälfte der Daten das optimale Model ermittelt werden.\n",
    "\n",
    "\n",
    "### Auswahl von Active Learning-Strategien\n",
    "Um Active Learning effektiv umzusetzen, benötigt man eine gute Strategie, um in jedem Schritt den/die nächsten Datenpunkt(e) aus dem Datenpool zu bestimmen. Es gibt viele verschiedene Strategien, um den nächsten Datenpunkt zum Labeln auszuwählen. Dabei gibt es zudem nicht die eine Strategie, die immer am besten funktioniert. Es muss daher anwendungsindividuell entschieden werden, welche Strategie geignet sein könnte.\n",
    "Die meisten in der Literatur erwähnten Strategien lassen sich dabei in 3 Gruppen einordnen.\n",
    "\n",
    "#### Unsicherheitsbasiertes Sampling\n",
    "Diese Strategien wählen Datenpunkte aus, bei denen das Modell unsicher ist. Dazu gehören Punkte, bei denen die Vorhersageunsicherheit hoch ist, wie beispielsweise Datenpunkte nahe der Klassengrenze oder mit hoher Entropie in der Vorhersageverteilung.\n",
    "\n",
    "#### Diversitätsbasiertes Sampling\n",
    "Um die Diversität der Trainingsdaten zu erhöhen, werden Datenpunkte ausgewählt, die repräsentativ für verschiedene Bereiche des Merkmalsraums sind. Dies hilft, Overfitting zu vermeiden und sicherzustellen, dass das Modell robust ist. Enthalten die Daten jedoch viele Ausreißer, kann dies jedoch auch dazu führen, dass vorwiegend diese zu den Trainingsdaten aufgenommen werden.\n",
    "\n",
    "#### Fehlerkorrekturbasiertes Sampling\n",
    "Diese Strategien zielen darauf ab, Fehler zu korrigieren, die das Modell bereits gemacht hat. Datenpunkte, die in der Nähe von falsch klassifizierten Punkten liegen, werden ausgewählt, um das Modell zu verbessern.\n",
    "\n",
    "### Python Frameworks für Active Learning\n",
    "In den folgenden Notebooks werden Beispiele für die Umsetzung von Active Learning mit verschiedenen Frameworks in Python gezeigt. Ähnlich wie bei den Strategien, gilt auch hier, jedes Framework hat seine Stärken und Schwächen und sollte entsprechend der Problemanforderungen passend gewählt werden. Im Folgenden fassen wir kurz einige der Frameworks zusammen. \n",
    "#### modAL\n",
    "Ein flexibles und modulares Framework zur Implementierung von Active Learning. Große Auswahl an Algorithmen und Entscheidungskriterien. Kompatibel mit scikit-learn und individuell anpassbar. ([Dokumentation](https://modal-python.readthedocs.io/en/latest/), siehe Notebook 2)\n",
    "#### Superintendent\n",
    "Eine Sammlung von Widgets für Jupyter-Notebooks. Einfache Implementierung des Active Learning Cycle mit interaktiven Labeling Widgets. Erstellt mit ipywidgets und ipyannotations, um schnelle und effiziente Lösungen zu schaffen.\n",
    "([GitHub](https://github.com/janfreyberg/ipyannotations))\n",
    "\n",
    "#### Scikit ActiveML\n",
    "Ähnlich wie modAL, etwas weniger anpassbar, dafür etwas einfacher zu benutzen. Integriert auch bereits interaktive Labeling Widgets.([Dokumentation](https://scikit-activeml.github.io/scikit-activeml-docs/index.html))\n",
    "\n",
    "#### PyRelationAL\n",
    "Ein leistungsstarkes Paket für Forschung und fortgeschrittene Active Learning-Anwendungen. ([GitHub](https://github.com/RelationRx/pyrelational))\n",
    "\n",
    "### Zusammenfassung\n",
    "\n",
    "Active Learning stellt eine attraktive Alternative zum herkömmlichen \"Passive Learning\" dar. Insbesondere in Anwendungen, bei denen das Labeln der Daten kostspielig und zeitaufwändig ist, kann Active Learning dazu beitragen, den Aufwand zu reduzieren. \n",
    "Die erfolgreiche Umsetzung hängt vor allem von der gewählten Strategie ab, mit der in jeder Iteration entschieden wird, welche Datenpunkte gelabelt und den Trainingsdaten hinzugefügt werden sollen.\n",
    "Es existiert zudem eine Vielzahl von Frameworks, die bei der Implementierung des Active Learning Cycles unterstützen können. Es gibt keine allgemeingültige \"beste\" Wahl für alle Anwendungen, sondern vielmehr sollte je nach den spezifischen Anforderungen der Problemstellung ein passendes Framework ausgewählt werden.\n",
    "\n",
    "Konkrete Anwenungsbeispiele finden Sie in den weiteren Notebooks."
   ]
  },
  {
   "cell_type": "markdown",
   "metadata": {},
   "source": [
    "## 2. Klassifikation mit Scikit ActiveML \n",
    "\n",
    "In diesem Beispiel befassen wir uns mit der Klassifizierung von Brustkrebs. Der Labelingprozess für Brustkrebsdiagnosen erfordert Expertenwissen und ist zeitaufwendig. Daher möchten wir Active Learning nutzen, um die Kosten und den Zeitaufwand für das Labeling zu reduzieren. Active Learning ermöglicht es uns, intelligent die informativsten Proben für das Labeling auszuwählen, wodurch der Bedarf an gelabelten Daten verringert wird.\n",
    "\n",
    "### Imports <a id='Imports'></a>\n",
    "\n",
    "Die Python-Bibliotheken `pandas` und `numpy` finden Anwendung beim Laden und Verarbeiten von Daten. Zur Erstellung von Visualisierungen bedienen wir uns der Bibliothek `matplotlib`. Für die Umsetzung von Klassifikationsaufgaben verwenden wir eine Support Vector Machine (`SVC` aus der `sklearn`-Bibliothek).\n",
    "\n",
    "Spezifische Funktionen, die im Kontext des Active Learning gebraucht werden, werden aus dem Modul `skactiveml` bezogen. Konkret importieren wir die Klasse `SklearnClassifier` aus dem Modul `skactiveml.classifier`. Diese dient als Erweiterung eines Sklearn-Klassifikators und ermöglicht eine nahtlose Einbindung in den Active Learning-Prozess.\n",
    "\n",
    "Die Implementierung des Auswahlstrategie wird durch die Klasse `UncertaintySampling` aus `skactiveml.pool` zur Verfügung gestellt. Zusätzlich nutzen wir die Funktionen `unlabeled_indices` und `MISSING_LABEL` aus dem Modul `skactiveml.utils`, um mit fehlenden Labels umzugehen."
   ]
  },
  {
   "cell_type": "code",
   "execution_count": null,
   "metadata": {},
   "outputs": [],
   "source": [
    "import pandas as pd\n",
    "import numpy as np\n",
    "import matplotlib.pyplot as plt\n",
    "\n",
    "from sklearn.svm import SVC\n",
    "\n",
    "from skactiveml.pool import UncertaintySampling\n",
    "from skactiveml.utils import unlabeled_indices, MISSING_LABEL\n",
    "from skactiveml.classifier import SklearnClassifier\n",
    "\n",
    "from warnings import filterwarnings\n",
    "filterwarnings(\"ignore\")"
   ]
  },
  {
   "cell_type": "markdown",
   "metadata": {},
   "source": [
    "### Laden der Daten\n",
    "Die Daten stammen aus dem [UCI Machine Learning Repository](https://archive.ics.uci.edu/dataset/17/breast+cancer+wisconsin+diagnostic) und sind als \"Breast Cancer Wisconsin (Diagnostic) Dataset\" bekannt. Sie enthalten Informationen zu verschiedenen Merkmalen von Brustgewebeproben und die Zielvariable gibt an, ob ein Tumor gutartig (benign) oder bösartig (malignant) ist.\n",
    "Die Daten wurden bereits vorab normalisiert und in Entwicklungs- und Testdaten unterteilt.\n",
    "\n",
    "Die tatsächlichen Labels werden in der Variable `y_true` gespeichert. Bitte beachten Sie, dass in einem realen Szenario diese Labels nicht verfügbar wären. Zusätzlich wird die Variable `y` als leeres Array mit derselben Größe initialisiert und wird nach und nach mit den im Active Learning Cycle bestimmten Labels befüllt."
   ]
  },
  {
   "cell_type": "code",
   "execution_count": null,
   "metadata": {},
   "outputs": [],
   "source": [
    "data_dev = pd.read_csv(\"./data/cancer/data_dev.csv\")\n",
    "data_test = pd.read_csv(\"./data/cancer/data_test.csv\")\n",
    "\n",
    "X = data_dev.drop(columns=['label'])\n",
    "y_true = data_dev['label']\n",
    "y = np.full(shape=y_true.shape, fill_value=MISSING_LABEL)\n",
    "\n",
    "X_test = data_test.drop(columns=['label'])\n",
    "y_test = data_test['label']"
   ]
  },
  {
   "cell_type": "markdown",
   "metadata": {},
   "source": [
    "### Initialisierung\n",
    "\n",
    "Um einen Klassifikator zu initialisieren, erstellen wir eine Instanz der Klasse `SklearnClassifier`. Diese benötigt einen Sklearn-Estimator, die Namen der möglichen verschiedenen Klassen und optional noch einen random_state, damit dsa Experiment reproduzierbar ist.\n",
    "\n",
    "Für unser Beispiel verwenden wir den SVC (Support Vector Classifier) von sklearn als Estimator und die Klassen aus den tatsächlichen Labels `y_true` als Namen der möglichen verschiedenen Klassen."
   ]
  },
  {
   "cell_type": "code",
   "execution_count": null,
   "metadata": {},
   "outputs": [],
   "source": [
    "clf = SklearnClassifier(\n",
    "    estimator=SVC(probability=True), \n",
    "    classes=np.unique(y_true),\n",
    "    random_state=42\n",
    ")"
   ]
  },
  {
   "cell_type": "markdown",
   "metadata": {},
   "source": [
    "Als nächstes initialsieren wir unser Entscheidungskriterium (Query Strategie), nach welchem die Datenpunkte ausgewählt werden. Dazu initialiseren wir eine Instanz der Klasse `UncertaintySampling` und übergeben als String die gewünschte Methode. Zur Auswahl stehen `entropy`, `least_confident`, `margin_sampling` und `expected_average_precision`."
   ]
  },
  {
   "cell_type": "code",
   "execution_count": null,
   "metadata": {},
   "outputs": [],
   "source": [
    "qs = UncertaintySampling(method='entropy')"
   ]
  },
  {
   "cell_type": "markdown",
   "metadata": {},
   "source": [
    "### Umsetzung des Active Learning Cycles\n",
    "\n"
   ]
  },
  {
   "cell_type": "markdown",
   "metadata": {},
   "source": [
    "Als initiale Trainingsdaten verwenden wir die ersten 10 Indizes (Kaltstart). Natürlich kennen wir auch die Klassen aller restlichen Datenpunkte, aber wir tun nun so, als würden wir nur die Label der ersten 10 Datenpunkte kennen."
   ]
  },
  {
   "cell_type": "code",
   "execution_count": null,
   "metadata": {},
   "outputs": [
    {
     "data": {
      "text/plain": [
       "array([ 0.,  1.,  0.,  1.,  0.,  1.,  1.,  1.,  1.,  1., nan, nan, nan,\n",
       "       nan, nan, nan, nan, nan, nan, nan, nan, nan, nan, nan, nan, nan,\n",
       "       nan, nan, nan, nan])"
      ]
     },
     "metadata": {},
     "output_type": "display_data"
    }
   ],
   "source": [
    "y[:10] = y_true[:10]\n",
    "y[:30] # Zeigt die ersten 30 Labels an"
   ]
  },
  {
   "cell_type": "markdown",
   "metadata": {},
   "source": [
    "Wir implementieren den Active Learning Cycle mithilfe einer FOR-Schleife, die `n_cycles` Iterationen durchläuft. In jeder Iteration erfolgt zuerst das Training eines Modells mit den aktuellen Trainingsdaten, gefolgt von einer Bewertung seiner Leistung anhand der Testdaten. Die Ergebnisse dieser Bewertungen werden in der Liste `performance` gespeichert. Danach nutzen wir unser Entscheidungskriterium, um den Datenpunkt zu identifizieren, der derzeit am unsichersten einer bestimmten Klasse zugeordnet ist. Wir bestimmen das Label für diesen Datenpunkt und fügen ihn den Trainingsdaten hinzu. "
   ]
  },
  {
   "cell_type": "code",
   "execution_count": null,
   "metadata": {},
   "outputs": [
    {
     "name": "stdout",
     "output_type": "stream",
     "text": [
      "Query no. 140 of 140\r"
     ]
    }
   ],
   "source": [
    "n_cycles = 140\n",
    "performance = []\n",
    "\n",
    "# Active Learning Cycle\n",
    "np.random.seed(42)\n",
    "for cycle in range(n_cycles):\n",
    "    print(f\"Query no. {cycle+1} of {n_cycles}\", end=\"\\r\")\n",
    "    clf.fit(X,y)\n",
    "    performance.append(clf.score(X_test, y_test))\n",
    "    query_idx = qs.query(X=X, y=y, clf=clf, batch_size=1)\n",
    "    y[query_idx] = y_true[query_idx]"
   ]
  },
  {
   "cell_type": "markdown",
   "metadata": {},
   "source": [
    "### Evaluation\n",
    "Um die von uns gewählte Strategie zu bewerten, vergleichen wir diese mit einer zufälligen Auswahl der Datenpunkte (Random-Strategie).\n"
   ]
  },
  {
   "cell_type": "code",
   "execution_count": null,
   "metadata": {},
   "outputs": [
    {
     "name": "stdout",
     "output_type": "stream",
     "text": [
      "Query no. 140 of 140\r"
     ]
    }
   ],
   "source": [
    "#Initialisierung des Klassifikators\n",
    "clf_random = SklearnClassifier(\n",
    "    estimator=SVC(probability=True),\n",
    "    classes=np.unique(y_true)\n",
    ")\n",
    "\n",
    "#Initialiserung der Daten\n",
    "y_random = np.full(shape=y_true.shape, fill_value=MISSING_LABEL)\n",
    "y_random[:10] = y_true[:10]\n",
    "\n",
    "#Initialisierung der Performance Liste\n",
    "performance_random = []\n",
    "\n",
    "# Random Learning Cycle\n",
    "np.random.seed(42)\n",
    "for c in range(n_cycles):\n",
    "    print(f\"Query no. {c+1} of {n_cycles}\", end=\"\\r\")\n",
    "    clf_random.fit(X,y_random)\n",
    "    performance_random.append(clf_random.score(X_test, y_test))\n",
    "    query_idx = np.random.choice(unlabeled_indices(y_random), size=1, replace=False) # Zufällige Auswahl eines noch nicht gelabelten Datensatzes\n",
    "    y_random[query_idx] = y_true[query_idx]"
   ]
  },
  {
   "cell_type": "markdown",
   "metadata": {},
   "source": [
    "Zum Vergleich visualisieren wir die Performance der beiden Strategien."
   ]
  },
  {
   "cell_type": "code",
   "execution_count": null,
   "metadata": {},
   "outputs": [
    {
     "data": {
      "image/png": "[encoded data removed]",
      "text/plain": [
       "<Figure size 1000x500 with 1 Axes>"
      ]
     },
     "metadata": {},
     "output_type": "display_data"
    }
   ],
   "source": [
    "plt.figure(figsize=(10, 5))\n",
    "plt.plot(performance_random, label=\"Random Sampling\")\n",
    "plt.plot(performance, label=\"Uncertainty Sampling\")\n",
    "plt.xlabel(\"Iteration\")\n",
    "plt.ylabel(\"Accuracy\")\n",
    "plt.grid()\n",
    "plt.legend(loc=4)\n",
    "plt.show()"
   ]
  },
  {
   "cell_type": "markdown",
   "metadata": {},
   "source": [
    "Je nach random_state, können die Ergebnisse etwas variieren. Generell lässt sich jedoch beobachten, dass die gewählte Strategie (orange) im Vergleich zur zufälligen Auswahl der Datenpunkte (blau) schneller - das heißt nach weniger Iterationen - zur maximalen Genauigkeit konvergiert. Beim Uncertainty Sampling steigt die Genauigkeit zu Beginn schnell an und bewegt sich bereits nach lediglich 20 Iterationen um ein Niveau von knapp über 96%, ehe ab 80 Iterationen eine stabile Genauigkeit zu beobachten ist. Die zufällige Auswahl-Strategie hingegen erreicht diesen Zustand erst deutlich später.\n",
    "\n",
    "Mit dem trainierten Modell kann nun entweder direkt weitergearbeitet werden, oder man exportiert das Modell mit Hilfe einer Bibliothek wie z.B. pickle. Die bestimmten Labels wurden in der Variable `y` abgespeichert."
   ]
  },
  {
   "cell_type": "code",
   "execution_count": null,
   "metadata": {},
   "outputs": [
    {
     "data": {
      "text/plain": [
       "array([ 0.,  1.,  0.,  1.,  0.,  1.,  1.,  1.,  1.,  1., nan, nan,  0.,\n",
       "        0., nan, nan, nan, nan, nan, nan, nan,  0., nan, nan, nan, nan,\n",
       "        0., nan,  0., nan, nan, nan, nan, nan,  0., nan, nan, nan,  1.,\n",
       "       nan,  0.,  1., nan, nan, nan, nan,  1.,  1., nan, nan, nan, nan,\n",
       "       nan, nan, nan,  0.,  0., nan, nan, nan, nan, nan, nan, nan, nan,\n",
       "        1., nan, nan, nan,  1.,  0., nan, nan, nan, nan,  1.,  0.,  1.,\n",
       "       nan, nan, nan, nan,  1.,  0.,  1., nan,  0., nan, nan,  0.,  0.,\n",
       "       nan, nan, nan, nan, nan,  0., nan,  0., nan,  0., nan, nan, nan,\n",
       "        0.,  1.,  0., nan, nan,  0., nan, nan, nan,  1., nan, nan, nan,\n",
       "       nan, nan, nan, nan, nan, nan, nan, nan, nan, nan, nan, nan,  0.,\n",
       "       nan,  1.,  0.,  1., nan, nan,  1.,  0.,  1., nan, nan,  0.,  1.,\n",
       "        1.,  0.,  0., nan, nan, nan, nan, nan,  1., nan, nan,  0.,  1.,\n",
       "       nan, nan, nan,  1., nan,  1., nan, nan, nan,  1., nan, nan, nan,\n",
       "       nan, nan, nan, nan,  1., nan, nan,  0., nan, nan,  1.,  1., nan,\n",
       "        1., nan,  0., nan, nan, nan,  1.,  1., nan, nan, nan, nan,  1.,\n",
       "       nan, nan,  0., nan, nan,  1., nan, nan, nan, nan, nan, nan, nan,\n",
       "       nan, nan,  1., nan,  0.,  1.,  1.,  1.,  1.,  1., nan, nan,  1.,\n",
       "       nan, nan,  0.,  1.,  1.,  0., nan,  0., nan, nan,  1., nan,  1.,\n",
       "        1., nan,  0., nan, nan, nan,  1.,  0., nan, nan, nan, nan, nan,\n",
       "       nan, nan,  0., nan, nan,  1., nan,  1.,  1., nan, nan,  1.,  0.,\n",
       "       nan, nan,  1., nan, nan, nan,  0., nan, nan, nan, nan, nan, nan,\n",
       "        1., nan, nan, nan, nan, nan, nan, nan, nan, nan, nan, nan,  0.,\n",
       "       nan, nan, nan, nan, nan, nan, nan,  1.,  1., nan, nan,  0., nan,\n",
       "       nan,  1., nan,  1., nan, nan,  0.,  1.,  1., nan,  1.,  1.,  1.,\n",
       "       nan, nan,  1.,  0.,  1., nan, nan, nan, nan,  0., nan,  0., nan,\n",
       "        1., nan,  1., nan, nan, nan, nan, nan, nan,  1., nan, nan, nan,\n",
       "        1.,  0., nan,  1., nan,  1., nan, nan,  1., nan,  1., nan, nan,\n",
       "       nan, nan,  0.,  0., nan, nan, nan,  1., nan, nan,  1.,  1.,  1.,\n",
       "        1., nan, nan, nan, nan, nan, nan, nan, nan, nan, nan, nan, nan,\n",
       "        0., nan, nan,  0., nan, nan, nan,  0.,  0., nan, nan, nan, nan,\n",
       "       nan, nan,  1.,  0.,  0.,  1., nan, nan, nan, nan, nan,  0., nan,\n",
       "       nan, nan,  1.,  1., nan,  0.,  1., nan, nan,  1., nan,  0., nan,\n",
       "       nan, nan, nan, nan, nan, nan, nan,  1., nan,  1.])"
      ]
     },
     "metadata": {},
     "output_type": "display_data"
    }
   ],
   "source": [
    "y"
   ]
  },
  {
   "cell_type": "markdown",
   "metadata": {},
   "source": [
    "## 3. Regression mit modAL\n",
    "Im Gegesatz zur Klassifikation ist es bei der Regression nicht ganz so einfach, ein gutes Maß für die Unsicherheit gegenüber einem neuen Datenpunkt zu bestimmen. Eine häufig angewandte Möglichkeit ist es, anstelle von nur einem Modell, ein ganzes Ensemble an verschiedenen Modellen zu trainieren und dann Datenpunkte zu wählen, bei denen sich die Modelle am stärksten gegenseitig widersprechen. Konkret verwenden wir hierbei die maximale Standardabweichung der Vorhersagen der verschiedenen Modelle als Kriterium, um die Unsicherheit zu quantifizieren. Die Standardabweichung ergibt sich aus den unterschiedlichen Vorhersagen, die jedes Modell für einen bestimmten Datenpunkt liefert. Indem wir die maximale Standardabweichung wählen, identifizieren wir diejenigen Datenpunkte, bei denen die Modelle die größten Abweichungen voneinander aufweisen und somit die Unsicherheit am größten ist.\n",
    "\n",
    "### Imports\n",
    "\n",
    "Die Bibliotheken `pandas` und `numpy` werden verwendet, um Daten zu laden und zu verarbeiten. `matplotlib` und `seaborn` werden verwendet, um Visualisierungen zu erstellen. Aus `sklearn` verwenden wir verschiedene Regressionsalgorithmen und Metriken.\n",
    "Alle Active Learning spezifische Funktionen erhalten wir aus dem Modul `modAL`. \n",
    "Wir importieren dazu die Klassen `ActiveLearner` und `CommitteeRegressor` aus `modAL.models`. Die Klasse `ActiveLearner` ist die Basisklasse für alle Active Learning Modelle in modAL. Die Klasse `CommitteeRegressor` stellt die erforderlichen Funktionen für Active Learning Regression mit Ensembles zur Verfügung.\n",
    "\n",
    "Für unser Auswahlkriterium `max_std_sampling` importieren wir die entsprechende Funktion aus dem Modul `modAL.disagreement`."
   ]
  },
  {
   "cell_type": "code",
   "execution_count": null,
   "metadata": {},
   "outputs": [],
   "source": [
    "#Grundlegende Imports\n",
    "from itertools import cycle\n",
    "import numpy as np\n",
    "import pandas as pd\n",
    "import matplotlib.pyplot as plt\n",
    "from sklearn.datasets import make_regression\n",
    "from sklearn.model_selection import train_test_split\n",
    "\n",
    "#Active learning spezifische Imports\n",
    "from modAL.models import ActiveLearner, CommitteeRegressor\n",
    "from modAL.disagreement import max_std_sampling\n",
    "\n",
    "#Regressions Modelle\n",
    "from sklearn.linear_model import LinearRegression, Ridge, Lasso, PoissonRegressor\n",
    "from sklearn.svm import SVR\n",
    "from sklearn.tree import DecisionTreeRegressor\n",
    "from sklearn.gaussian_process import GaussianProcessRegressor\n",
    "\n",
    "#Metriken\n",
    "from sklearn.metrics import mean_absolute_error, mean_squared_error"
   ]
  },
  {
   "cell_type": "markdown",
   "metadata": {},
   "source": [
    "### Erzeugen der Daten\n",
    "\n",
    "Für dieses Beispiel verwenden wir syntetische Daten welche wir mit Hilfe der Funktion `make_regression` von `sklearn.datasets` erzeugen."
   ]
  },
  {
   "cell_type": "code",
   "execution_count": null,
   "metadata": {},
   "outputs": [],
   "source": [
    "X, y = make_regression(n_samples=1000,\n",
    "                       n_features=3,\n",
    "                       n_informative=2,\n",
    "                       random_state=42,\n",
    "                       noise=2\n",
    "                      )\n",
    "X_dev, X_test, y_dev, y_test = train_test_split(X, y, random_state=42, shuffle=True)"
   ]
  },
  {
   "cell_type": "markdown",
   "metadata": {},
   "source": [
    "### Initialisierung des Ensembles\n",
    "\n",
    "Zunächst muss das Ensemble initialisiert werden, dazu mussen folgende Kriterien festgelegt werden:\n",
    "- **Anzahl der Modelle:** Es ist ratsam, die Ensemble-Gruppe aus einer Vielzahl von Modellen zusammenzustellen. Die Stärken eines Ensembles treten besonders hervor, wenn die enthaltenen Modelle eine facettenreiche Vielfalt aufweisen und somit Abweichungen in den Vorhersagen präsentieren. Diese Diversität innerhalb der Modelle kann auf unterschiedliche Weisen erzielt werden. Es besteht die Möglichkeit, jedem Modell verschiedene Trainingsdaten zuzuweisen, unterschiedliche Algorithmen einzusetzen oder auf das Prinzip des Bootstrappings zurückzugreifen. Beim Bootstrapping wird für jede Trainingsrunde eine spezifische Untergruppe aus den verfügbaren Trainingsdaten zufällig ausgewählt, die in diesem Schritt genutzt wird. In der vorliegenden Situation kombinieren wir sowohl das Bootstrapping-Prinzip als auch den Einsatz verschiedener Algorithmen, um die Variabilität unserer Ensemble-Modelle zu maximieren.\n",
    "- **Initiale Trainingsdaten:** Die Entscheidung über die Menge an initial gelabelten Datenpunkten erfordert eine sorgfältige Abwägung. Eine zu knappe Auswahl könnte dazu führen, dass diese wenigen Datenpunkte zufällig ungünstig gewählt sind und dadurch die ersten Modelle in unerwünschter Weise beeinflussen. Es ist jedoch ebenso wichtig, eine übermäßige Vorlabelung von Datenpunkten zu vermeiden, da dies ineffizient wäre. Das Ziel besteht darin, eine ausgewogene Menge an initialen Datenpunkten zu wählen, um das Ensemble solide zu initialisieren.\n",
    "- **Auswahlkriterium:** Bei Regressionsaufgaben hat sich üblicherweise bewährt, den Datenpunkt aus dem Datenpool zu wählen, der die höchste Standardabweichung zwischen den Vorhersagen der einzelnen Modelle aufweist. Auf diese Weise wird derjenige Datenpunkt ausgewählt, der die größte Diskrepanz bzw. Uneinigkeit zwischen den Modellen zeigt.\n",
    "<br/><br/>\n",
    "Für diese Aufgabe stellt ModAL die Klasse `CommitteeRegressor` bereit. Diese umfasst eine Liste von `ActiveLearner` und eine `query_strategy`.  Jede Instanz von `ActiveLearner` umfasst wiederum einen Sklearn kompatiblen Estimator und die initialen Trainingsdaten für das jeweilige Model. ([siehe Dokumentation](https://modal-python.readthedocs.io/en/latest/content/apireference/models.html))"
   ]
  },
  {
   "cell_type": "code",
   "execution_count": null,
   "metadata": {},
   "outputs": [],
   "source": [
    "X_pool, y_pool = X_dev.copy(), y_dev.copy()\n",
    "\n",
    "# Liste an Regressionsalgorithmen, die wir in unserem Ensemble verwenden wollen\n",
    "regression_algo_list = [LinearRegression, Ridge, Lasso, DecisionTreeRegressor, GaussianProcessRegressor] \n",
    "\n",
    "init_train_size = 20 # Menge an initialen Trainingsdaten, die wir zufällig auswählen und labeln\n",
    "init_idx = np.random.choice(range(X_pool.shape[0]), size=init_train_size, replace=False)\n",
    "# Erstellt eine Liste von ActiveLearner-Objekten, die wir in unserem Ensemble verwenden wollen.\n",
    "learner_list = [\n",
    "    ActiveLearner(\n",
    "        # Regressions-Algorithmus\n",
    "        estimator=Regressor(random_state=42) if hasattr(Regressor.__init__, 'random_state') else Regressor(),\n",
    "        X_training=X_pool[init_idx],\n",
    "        y_training=y_pool[init_idx], # Zielwert der Trainingsdaten\n",
    "        bootstrap_init=True, # Nutze Bootstraping um zusätzliche Variation zwischen den Modellen zu erzeugen\n",
    "    )\n",
    "    for Regressor in regression_algo_list\n",
    "    ]\n",
    "\n",
    "#Entfernt die initialen Trainingsdaten aus dem Datenpool, damit diese nicht doppelt ausgewählt werden.\n",
    "X_pool = np.delete(X_pool, init_idx, axis=0)\n",
    "y_pool = np.delete(y_pool, init_idx)\n",
    "\n",
    "# Committee ist hier das selbe wie ein Ensemble.\n",
    "ensemble = CommitteeRegressor(\n",
    "    learner_list=learner_list, #Vorab definierte Liste an Modellen\n",
    "    query_strategy=max_std_sampling # Strategie zur Bestimmung der Label-Reihenfolge\n",
    ")"
   ]
  },
  {
   "cell_type": "markdown",
   "metadata": {},
   "source": [
    "### Umsetzung des Active Learning Cycles\n",
    "Um später die Genauigkeit der Modelle im Vergleich zur zufälligen Auswahl der Datenpunkte zu bewerten, speichern wir in jeder Iteration den durchschnittlichen absoluten Fehler (MAE) des aktuellen Ensembles auf den Testdaten."
   ]
  },
  {
   "cell_type": "code",
   "execution_count": null,
   "metadata": {},
   "outputs": [],
   "source": [
    "performance = [mean_absolute_error(y_test, ensemble.predict(X_test))] # Liste zum Speichern der Genauigkeit (MAE) der Modelle auf den Testdaten\n",
    "n_queries = 50 #Legt die Anzahl der Iterationen fest\n",
    "samples_per_iter = 4"
   ]
  },
  {
   "cell_type": "markdown",
   "metadata": {},
   "source": [
    "Nach der erfolgreichen Initialisierung des Ensembles setzen wir den Active Learning Zyklus in Gang. Hierbei bedienen wir uns einer FOR-Schleife, bei der im Vorfeld die gewünschte Anzahl der Iterationen festgelegt wird. Eine alternative Option besteht darin, eine WHILE-Schleife zu verwenden, welche in jedem Durchlauf überprüft, ob bestimmte Zielkriterien erfüllt sind.\n",
    "\n",
    "Es gibt keine zwingende Einschränkung, in jeder Iteration lediglich nur einen einzelnen Datenpunkt auszuwählen. Unser vorrangiges Ziel besteht darin, den Aufwand für die Modellentwicklung (Training) und den Aufwand für das Labeln der Daten zu minimieren. Da das Training in diesem konkreten Beispiel auch recht viel Zeit beansprucht, werden gemäß unserem Auswahlkriterium in jeder Iteration `samples_per_iter` neue Datenpunkte ausgewählt, gelabelt und in die Trainingsdaten integriert."
   ]
  },
  {
   "cell_type": "code",
   "execution_count": null,
   "metadata": {},
   "outputs": [
    {
     "name": "stdout",
     "output_type": "stream",
     "text": [
      "Query no. 50 of 50\r"
     ]
    }
   ],
   "source": [
    "#Active Learning Cycle\n",
    "for idx in range(1, n_queries+1):\n",
    "    print(f\"Query no. {idx} of {n_queries}\", end=\"\\r\")\n",
    "    \n",
    "    # Query the unlabeled points, select the five most uncertain\n",
    "    query_idxs, query_instances = ensemble.query(X_pool, n_instances=samples_per_iter) # Bestimmt die nächsten 5 Datenpunkte durch das Committee\n",
    "    \n",
    "    # Fügt die neuen Datenpunkte + Labels zu den Trainingsdaten hinzu und trainiert die Modelle erneut. \n",
    "    ensemble.teach(\n",
    "        X=X_pool[query_idxs],\n",
    "        y=y_pool[query_idxs],\n",
    "    )\n",
    "    \n",
    "    # Evaluieret die aktuelle Genauigkeit auf den Testdaten\n",
    "    performance.append(mean_absolute_error(y_test, ensemble.predict(X_test))) \n",
    "    \n",
    "    #Entfernt die gelabelten Trainingsdaten aus dem Datenpool\n",
    "    X_pool = np.delete(X_pool, query_idxs, axis=0)\n",
    "    y_pool = np.delete(y_pool, query_idxs)\n",
    "X_pool_left_max_sampling = X_pool.copy()"
   ]
  },
  {
   "cell_type": "markdown",
   "metadata": {},
   "source": [
    "### Evaluation: Vergleich mit zufälliger Auswahlstrategie\n",
    "\n",
    "Um beurteilen zu können wie gut die gewählte Stretegie ist, führen wir das selbe Experiment erneut durch, nur diesmal wählen wir in jedem Schritt zufällige Datenpunkte.\n",
    "\n",
    "Dazu definieren wir uns zunächst unsere eigene Querry-Strategie. Diese permutiert die übrigen Daten im Pool in eine beliebige Reihenfolge und gibt dann die ersten `n_instances` zurück."
   ]
  },
  {
   "cell_type": "code",
   "execution_count": null,
   "metadata": {},
   "outputs": [],
   "source": [
    "def random_sampling(comittee, X, n_instances=1):\n",
    "    idxs = np.random.permutation(X.shape[0])[:n_instances]\n",
    "    return idxs, X[idxs]"
   ]
  },
  {
   "cell_type": "markdown",
   "metadata": {},
   "source": [
    "Um sicherzugehen, dass wir die selbe Ausgangssituation wie im obigen Experiment haben initialisieren wir den Datenpool erneut."
   ]
  },
  {
   "cell_type": "code",
   "execution_count": null,
   "metadata": {},
   "outputs": [],
   "source": [
    "X_pool, y_pool = X_dev.copy(), y_dev.copy()"
   ]
  },
  {
   "cell_type": "markdown",
   "metadata": {},
   "source": [
    "Wir initialiseren erneut ein CommitteeRegressor, nur diesmal mit der von uns definierten Strategie `random_sampling` als `query_strategy`."
   ]
  },
  {
   "cell_type": "code",
   "execution_count": null,
   "metadata": {},
   "outputs": [],
   "source": [
    "# Erstellt eine Liste von ActiveLearner-Objekten, die wir in unserem Ensemble verwenden wollen.\n",
    "learner_list = [\n",
    "    ActiveLearner(\n",
    "        estimator=Regressor(random_state=42) if hasattr(Regressor.__init__, 'random_state') else Regressor(),\n",
    "        X_training=X_pool[init_idx],\n",
    "        y_training=y_pool[init_idx], # Zielwert der Trainingsdaten\n",
    "        bootstrap_init=False, # Nutze Bootstraping um zusätzliche Variation zwischen den Modellen zu erzeugen\n",
    "    )\n",
    "    for Regressor in regression_algo_list\n",
    "    ]\n",
    "\n",
    "#Entfernt die initialen Trainingsdaten aus dem Datenpool, damit diese nicht doppelt ausgewählt werden.\n",
    "X_pool = np.delete(X_pool, init_idx, axis=0)\n",
    "y_pool = np.delete(y_pool, init_idx)\n",
    "\n",
    "# Erzeugt ein CommitteeRegressor Objekt, das die ActiveLearner Objekte enthält.\n",
    "ensemble_random = CommitteeRegressor(\n",
    "    learner_list=learner_list,\n",
    "    query_strategy=random_sampling # Legt als Auswahlkriterium die von uns definierte Funktion fest.\n",
    ")"
   ]
  },
  {
   "cell_type": "markdown",
   "metadata": {},
   "source": [
    "Wir durchlaufen den selben Active Learning Cycle und evaluieren erneut in jeder Iteration das aktuelle Ensemble und speichern dessen MAE."
   ]
  },
  {
   "cell_type": "code",
   "execution_count": null,
   "metadata": {},
   "outputs": [
    {
     "name": "stdout",
     "output_type": "stream",
     "text": [
      "Query no. 50 of 50\r"
     ]
    }
   ],
   "source": [
    "performance_random = [mean_absolute_error(y_test, ensemble_random.predict(X_test))]\n",
    "\n",
    "np.random.seed(42)\n",
    "for idx in range(1, n_queries+1):\n",
    "    print(f\"Query no. {idx} of {n_queries}\", end=\"\\r\")\n",
    "    # Query the unlabeled points, select the five most uncertain\n",
    "    query_idxs, query_instances = ensemble_random.query(X_pool, n_instances=samples_per_iter) # Bestimmt die nächsten 5 Datenpunkte durch das Committee\n",
    "    ensemble_random.teach(\n",
    "        X=X_pool[query_idxs],\n",
    "        y=y_pool[query_idxs]\n",
    "    )\n",
    "    performance_random.append(mean_absolute_error(y_test, ensemble_random.predict(X_test)))\n",
    "    X_pool = np.delete(X_pool, query_idxs, axis=0)\n",
    "    y_pool = np.delete(y_pool, query_idxs)\n",
    "X_pool_left_random = X_pool.copy()"
   ]
  },
  {
   "cell_type": "markdown",
   "metadata": {},
   "source": [
    "Zum Vergleich plotten wir die Genauigkeit der beiden finalen Ensembles."
   ]
  },
  {
   "cell_type": "code",
   "execution_count": null,
   "metadata": {},
   "outputs": [
    {
     "data": {
      "image/png": "[encoded data removed]",
      "text/plain": [
       "<Figure size 640x480 with 1 Axes>"
      ]
     },
     "metadata": {},
     "output_type": "display_data"
    }
   ],
   "source": [
    "# plot the results\n",
    "plt.plot(np.arange(init_train_size, samples_per_iter*n_queries+init_train_size+1, samples_per_iter), performance_random, label='random')\n",
    "plt.plot(np.arange(init_train_size, samples_per_iter*n_queries+init_train_size+1, samples_per_iter), performance, label='max std')\n",
    "plt.ylabel('MAE')\n",
    "plt.xlabel('#Gelabelter Daten')\n",
    "plt.legend(title=\"Strategie\")\n",
    "plt.grid()\n",
    "plt.show()"
   ]
  },
  {
   "cell_type": "markdown",
   "metadata": {},
   "source": [
    "Je nach verwendetetem `random_state` kann es zu unterschiedlichen Ergebnissen kommen. Allerdings lässt sich im Allgemeinen feststellen, dass die Auswahl der Datenpunkte auf Basis der größten Standardabweichung in den Modellvorhersagen einen positiven Einfluss auf die Genauigkeit des Ensembles hat. Das Modell konvergiert schneller und interessanterweise tritt Overfitting erst deutlich später im Vergleich zur zufälligen Auswahl der Datenpunkte auf. Es ist jedoch wichtig zu beachten, dass dieses Verhalten nicht bei allen untersuchten Datensätzen festgestellt wurde, sodass diese Strategie nicht immer empfohlen werden kann. Um Active Learning effektiv einzusetzen, ist es wichtig, geeignete Modelle auszuwählen, einen angemessenen initialen Trainingsdatensatz zu verwenden und eine passende Sampling-Strategie zu wählen."
   ]
  },
  {
   "cell_type": "markdown",
   "metadata": {},
   "source": [
    "## Interactives Labeling mit Superintendent\n",
    "Bisher sind wir in unseren Beispielen immer davon ausgegangen, dass man eine Art Orakel hat, welches einem das Label für einen Datenpunkt verrät. Meist existiert ein solches Orakel jedoch nicht und man muss selber als Mensch das richtige Label bestimmen.  Wie dieser \"human -in-the-loop\" Ansatz konkret aussehen und effizient umgesetzt werden kann, zeigt dieses Beispiel. Mit Hilfe der Bibliothek Superintendent lässt sich mit nur wenig Code ein interactives Widget zur Umsetzung des Activ Learning Cylces erzeugen. Als Beispielaufgabe wählen wir die Klassifikation der Ziffern von 0, 1, 2 und 3 auf dem MNIST Datensatz. Ziel ist es, die jeweilige handgeschriebene Ziffer korrekt zu erkennen."
   ]
  },
  {
   "cell_type": "markdown",
   "metadata": {},
   "source": [
    "### Imports\n",
    "Neben den gängigen Python-Bibliotheken wie `numpy` und `pandas` sind in diesem Code insbesondere die Bibliotheken `sklearn`, `ipyannotations` und `superintendent` von Bedeutung. Wir nutzen `sklearn`, um Daten von OpenML mit `fetch_openml` zu laden und sie vorab mit `zoom` aus `scipy.ndimage` neu zu skalieren.\n",
    "\n",
    "Die `ClassLabeller`-Klasse aus `ipyannotations.generic` stellt uns ein grundlegendes Widget zur Verfügung, mit dem wir Daten labeln können. Durch die Integration von `Superintendent` wird die Funktionalität dieses Widgets erweitert, um Active Learning verwenden zu können. Wir importieren auch das Modul `pickle`, um später unser Modell exportieren zu können. Um die Benutzerfreundlichkeit im Widget sicherzustellen, werden Warnungen mit `filterwarnings` unterdrückt."
   ]
  },
  {
   "cell_type": "code",
   "execution_count": null,
   "metadata": {},
   "outputs": [],
   "source": [
    "from ipyannotations.generic import ClassLabeller\n",
    "import matplotlib.pyplot as plt\n",
    "import numpy as np\n",
    "import pickle\n",
    "from scipy.ndimage import zoom\n",
    "from sklearn.datasets import fetch_openml\n",
    "from sklearn.linear_model import LogisticRegression\n",
    "from sklearn.svm import SVC\n",
    "from superintendent import Superintendent\n",
    "from warnings import filterwarnings\n",
    "filterwarnings(\"ignore\")"
   ]
  },
  {
   "cell_type": "markdown",
   "metadata": {},
   "source": [
    "### Laden der Daten\n",
    "<!--\n",
    "Die Daten beziehen wir mit Hilfe der `sklearn.datasets.fetch_openml` Funktion von [OpenML](https://www.openml.org/search?type=data&status=active&id=554).\n",
    "Da wir ein recht simples Modell verwenden werden, skalieren wir die Daten von 28x28 auf 14x14 Pixel.\n",
    "Zudem beschränken wir die Menge der Daten auf insgesamt 200 Bilder der Ziffern 0, 1, 2 und 3.\n",
    "-->\n",
    "\n",
    "Wir greifen auf die Daten mithilfe der `sklearn.datasets.fetch_openml`-Funktion von [OpenML](https://www.openml.org/search?type=data&status=active&id=554) zu. Da wir ein recht simples Modell verwenden, skalieren wir die Daten von 28x28 auf 14x14 Pixel herunter. Darüber hinaus beschränken wir die Datenauswahl auf insgesamt 200 Bilder, die die Ziffern 0, 1, 2 und 3 repräsentieren."
   ]
  },
  {
   "cell_type": "code",
   "execution_count": null,
   "metadata": {},
   "outputs": [
    {
     "name": "stdout",
     "output_type": "stream",
     "text": [
      "X.shape=(200, 14, 14)\ty_true.shape=(200,)\n"
     ]
    }
   ],
   "source": [
    "X, y_true = fetch_openml('mnist_784', parser='auto', return_X_y=True, as_frame=False) #Download MNIST von OpenML\n",
    "X = zoom(X.reshape(-1,28,28), (1,0.5,0.5)) #Reskaliert die Bilder von 28x28 zu 14x14\n",
    "idx = np.where(y_true.astype(int) <= 3) # Bestimmt die Indizes für Bilder mit dem Label 0, 1, 2 oder 3\n",
    "X, y_true = X[idx], y_true[idx] # Selektiert die Daten auf Instanzen der Ziffern 0, 1, 2 und 3\n",
    "X, y_true = X[:200], y_true[:200] # Reduziert die Menge der Daten auf 200 Datenpunkte\n",
    "print(f\"{X.shape=}\\t{y_true.shape=}\")"
   ]
  },
  {
   "cell_type": "markdown",
   "metadata": {},
   "source": [
    "### Initialisiere Widget\n",
    "Das Widget zum Labeln der Daten wird durch die Bibliothek `ipyannotations` bereitstellt und kann bereits auch als alleinstehendes Widget verwendet werden. `Superintendent` erweitert das Widget später lediglich um ein Modell und eine Sampling Strategie, und integriert so den Active Learning Cycle in das Widget.\n",
    "\n",
    "Wir definieren vorab eine Methode zur Visualisierung eines einzelnen Datenpunkts und erzeugen damit eine Instanz der Klasse `ipyannotations.generic.ClassLabeller`."
   ]
  },
  {
   "cell_type": "code",
   "execution_count": null,
   "metadata": {},
   "outputs": [],
   "source": [
    "def plot_mnist(x):\n",
    "    'Plottet ein Bild aud dem Datensatz MNIST'\n",
    "    plt.figure(figsize=(3,3))\n",
    "    plt.axis('off')\n",
    "    plt.imshow(x, cmap=\"Greys_r\")\n",
    "    plt.show()\n",
    "\n",
    "# Erzeugt das Widget\n",
    "annotation_widget = ClassLabeller(\n",
    "    options=range(4), # Liste alle Klassenlabels\n",
    "    display_function=plot_mnist,\n",
    "    allow_freetext=False\n",
    ")"
   ]
  },
  {
   "cell_type": "markdown",
   "metadata": {},
   "source": [
    "### 4. Integriere Widget in Active Learning Cycle <a id='#Integriere-Widget-in-Active-Learning-Cycle'></a>\n",
    "Um eine Instanz der Klasse `Superintendent` zu erzeugen benötigen wir:\n",
    "- die ungelabelten Daten\n",
    "- ein Model, welches die Kriterien eines sklearn.BaseEstimator erfüllt\n",
    "- ein Widget (hier empfiehlt es sich `ipyannotations.generic.ClassLabeller` zu verwenden)\n",
    "- eine Funktion zur Bestimmung der Reihenfolge in welcher die Daten gelabelt werden sollen (alternativ per String eine vorimplementierte Funktion)\n",
    "- optional eine Methode für die Vorverarbetung der Datenpunkte "
   ]
  },
  {
   "cell_type": "code",
   "execution_count": null,
   "metadata": {},
   "outputs": [
    {
     "data": {
      "application/vnd.jupyter.widget-view+json": {
       "model_id": "af8a945ebf1d48b194b4007210d379e1",
       "version_major": 2,
       "version_minor": 0
      },
      "text/plain": [
       "Superintendent(children=(HBox(children=(HBox(children=(FloatProgress(value=0.0, description='Progress:', max=1…"
      ]
     },
     "metadata": {},
     "output_type": "display_data"
    }
   ],
   "source": [
    "model = SVC(\n",
    "    kernel=\"linear\",\n",
    "    probability=True\n",
    ")\n",
    "\n",
    "def preprocess_mnist(x, y):\n",
    "    return x.reshape(-1, 196), y\n",
    "\n",
    "data_labeller = Superintendent(\n",
    "    features=X,\n",
    "    model=model,\n",
    "    labelling_widget=annotation_widget,\n",
    "    model_preprocess=preprocess_mnist, \n",
    "    acquisition_function='entropy',\n",
    ")\n",
    "\n",
    "data_labeller"
   ]
  },
  {
   "cell_type": "markdown",
   "metadata": {},
   "source": [
    "Man muss zunächst ein paar Instanzen labeln bevor man ein erstes Model trainieren kann. Nach dem ersten Training werden dann die verbleibenden Daten (Bilder) entsprechend dem gewählten Entscheidungskriterium (hier: Entropy) sortiert und zum labeln angezeigt. Man kann per Klick auf `Retrain` jeder Zeit das Model neu trainieren. Wenn man sich selber nicht ganz sicher ist, um welche Ziffer es sich handeln soll kann man auch mit `Skip`  einzelne Beispiele überspringen. Mit `Undo` wird das Label für das letzte gelabelte Bild wieder zurückgesetzt. `Sort options` hat standardmäßig erstmal keine Funktion. <br> Der angezeigte Score wird durch eine 3-fold cross validation auf den bereits gelabelten Daten bestimmt.\n",
    "Ist man mit dem Ergebnis zufrieden oder man hat alle Daten gelabelt, kann man das trainierte Model direkt weiter verwenden oder mit `pickle` exportieren. Außerdem sind die Labels in dem Attribut `new_labels` gespeichert und können exportiert werden."
   ]
  },
  {
   "cell_type": "code",
   "execution_count": null,
   "metadata": {},
   "outputs": [
    {
     "data": {
      "text/plain": [
       "array([ 0.,  1.,  2.,  1.,  3.,  1., nan, nan, nan, nan, nan,  1.,  1.,\n",
       "       nan,  3., nan,  3., nan, nan, nan, nan, nan, nan, nan, nan, nan,\n",
       "       nan,  1., nan, nan, nan, nan, nan, nan, nan,  1., nan, nan,  2.,\n",
       "       nan, nan, nan, nan, nan, nan, nan, nan, nan, nan, nan,  3.,  1.,\n",
       "       nan, nan, nan, nan, nan, nan, nan, nan, nan, nan, nan,  1.,  3.,\n",
       "       nan,  2., nan, nan, nan,  3., nan,  2., nan, nan, nan, nan, nan,\n",
       "        3., nan, nan,  1., nan,  2., nan, nan, nan, nan, nan, nan,  3.,\n",
       "       nan, nan,  3., nan, nan, nan, nan, nan, nan, nan, nan, nan, nan,\n",
       "       nan, nan,  0., nan, nan, nan, nan,  0., nan, nan, nan, nan, nan,\n",
       "       nan, nan, nan, nan, nan, nan, nan, nan, nan, nan, nan,  3., nan,\n",
       "       nan, nan, nan, nan, nan, nan, nan,  1.,  1., nan, nan, nan, nan,\n",
       "       nan, nan, nan, nan, nan,  2.,  3., nan, nan, nan, nan, nan, nan,\n",
       "        1., nan,  2.,  3., nan, nan, nan, nan, nan,  1.,  2.,  2., nan,\n",
       "        3., nan, nan, nan, nan, nan, nan, nan, nan, nan,  1., nan, nan,\n",
       "       nan, nan, nan, nan, nan, nan, nan, nan, nan, nan, nan, nan, nan,\n",
       "        1., nan,  2., nan, nan])"
      ]
     },
     "metadata": {},
     "output_type": "display_data"
    }
   ],
   "source": [
    "# # Speichert das Model als binäre Datei in ein File\n",
    "with open(\"emit/mnist_model.pkl\", \"wb\") as f:\n",
    "    f.write(pickle.dumps(data_labeller.model))\n",
    "\n",
    "# Exportiert die Labels aus dem Widget\n",
    "y = np.array([int(i) if isinstance(i, str) else np.nan for i in data_labeller.new_labels])\n",
    "np.save(\"emit/mnist_y.npy\", y)\n",
    "y"
   ]
  }
 ],
 "metadata": {
  "kernelspec": {
   "display_name": "Python 3 (ipykernel)",
   "language": "python",
   "name": "python3"
  },
  "language_info": {
   "codemirror_mode": {
    "name": "ipython",
    "version": 3
   },
   "file_extension": ".py",
   "mimetype": "text/x-python",
   "name": "python",
   "nbconvert_exporter": "python",
   "pygments_lexer": "ipython3",
   "version": "3.9.18"
  }
 },
 "nbformat": 4,
 "nbformat_minor": 2
}
